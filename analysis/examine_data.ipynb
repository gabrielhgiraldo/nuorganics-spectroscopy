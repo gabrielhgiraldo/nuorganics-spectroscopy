{
 "cells": [
  {
   "cell_type": "code",
   "execution_count": 1,
   "metadata": {},
   "outputs": [],
   "source": [
    "import os\n",
    "import sys\n",
    "module_path = os.path.abspath(os.path.join('..'))\n",
    "if module_path not in sys.path:\n",
    "    sys.path.insert(0, module_path)\n",
    "from pathlib import Path"
   ]
  },
  {
   "cell_type": "code",
   "execution_count": 2,
   "metadata": {},
   "outputs": [],
   "source": [
    "from sklearn.model_selection import train_test_split"
   ]
  },
  {
   "cell_type": "code",
   "execution_count": 3,
   "metadata": {},
   "outputs": [],
   "source": [
    "from spectroscopy.utils import load_training_data, plot_residuals"
   ]
  },
  {
   "cell_type": "code",
   "execution_count": 4,
   "metadata": {},
   "outputs": [],
   "source": [
    "from spectroscopy.model import load_model, extract_features"
   ]
  },
  {
   "cell_type": "code",
   "execution_count": 5,
   "metadata": {},
   "outputs": [],
   "source": [
    "model = load_model(model_dir=Path().cwd().parent/'bin'/'model')"
   ]
  },
  {
   "cell_type": "code",
   "execution_count": 6,
   "metadata": {},
   "outputs": [],
   "source": [
    "data = load_training_data()"
   ]
  },
  {
   "cell_type": "code",
   "execution_count": 7,
   "metadata": {},
   "outputs": [
    {
     "name": "stdout",
     "output_type": "stream",
     "text": [
      "<class 'pandas.core.frame.DataFrame'>\n",
      "RangeIndex: 245 entries, 0 to 244\n",
      "Columns: 518 entries, 862.13 to Ammonia-N\n",
      "dtypes: float64(511), int64(1), object(6)\n",
      "memory usage: 991.6+ KB\n"
     ]
    }
   ],
   "source": [
    "data.info()"
   ]
  },
  {
   "cell_type": "code",
   "execution_count": 8,
   "metadata": {},
   "outputs": [
    {
     "data": {
      "text/html": [
       "<div>\n",
       "<style scoped>\n",
       "    .dataframe tbody tr th:only-of-type {\n",
       "        vertical-align: middle;\n",
       "    }\n",
       "\n",
       "    .dataframe tbody tr th {\n",
       "        vertical-align: top;\n",
       "    }\n",
       "\n",
       "    .dataframe thead th {\n",
       "        text-align: right;\n",
       "    }\n",
       "</style>\n",
       "<table border=\"1\" class=\"dataframe\">\n",
       "  <thead>\n",
       "    <tr style=\"text-align: right;\">\n",
       "      <th></th>\n",
       "      <th>862.13</th>\n",
       "      <th>863.88</th>\n",
       "      <th>865.63</th>\n",
       "      <th>867.38</th>\n",
       "      <th>869.13</th>\n",
       "      <th>870.88</th>\n",
       "      <th>872.63</th>\n",
       "      <th>874.38</th>\n",
       "      <th>876.13</th>\n",
       "      <th>877.88</th>\n",
       "      <th>...</th>\n",
       "      <th>1740.63</th>\n",
       "      <th>1742.38</th>\n",
       "      <th>1744.13</th>\n",
       "      <th>1745.88</th>\n",
       "      <th>1747.63</th>\n",
       "      <th>1749.38</th>\n",
       "      <th>1751.13</th>\n",
       "      <th>1752.88</th>\n",
       "      <th>integration_time</th>\n",
       "      <th>Ammonia-N</th>\n",
       "    </tr>\n",
       "  </thead>\n",
       "  <tbody>\n",
       "    <tr>\n",
       "      <th>count</th>\n",
       "      <td>2.450000e+02</td>\n",
       "      <td>2.450000e+02</td>\n",
       "      <td>2.450000e+02</td>\n",
       "      <td>245.000000</td>\n",
       "      <td>245.000000</td>\n",
       "      <td>245.000000</td>\n",
       "      <td>245.000000</td>\n",
       "      <td>245.000000</td>\n",
       "      <td>245.000000</td>\n",
       "      <td>245.000000</td>\n",
       "      <td>...</td>\n",
       "      <td>245.000000</td>\n",
       "      <td>245.000000</td>\n",
       "      <td>245.000000</td>\n",
       "      <td>245.000000</td>\n",
       "      <td>245.000000</td>\n",
       "      <td>245.000000</td>\n",
       "      <td>245.000000</td>\n",
       "      <td>245.000000</td>\n",
       "      <td>245.000000</td>\n",
       "      <td>245.000000</td>\n",
       "    </tr>\n",
       "    <tr>\n",
       "      <th>mean</th>\n",
       "      <td>1.000000e-03</td>\n",
       "      <td>1.000000e-03</td>\n",
       "      <td>1.000000e-03</td>\n",
       "      <td>-33.104287</td>\n",
       "      <td>-121.858495</td>\n",
       "      <td>-35.513932</td>\n",
       "      <td>59.391224</td>\n",
       "      <td>61.734878</td>\n",
       "      <td>61.271078</td>\n",
       "      <td>59.288657</td>\n",
       "      <td>...</td>\n",
       "      <td>54.223367</td>\n",
       "      <td>54.372829</td>\n",
       "      <td>54.504016</td>\n",
       "      <td>54.594412</td>\n",
       "      <td>54.658090</td>\n",
       "      <td>54.731698</td>\n",
       "      <td>54.824604</td>\n",
       "      <td>54.945706</td>\n",
       "      <td>40.183673</td>\n",
       "      <td>0.372816</td>\n",
       "    </tr>\n",
       "    <tr>\n",
       "      <th>std</th>\n",
       "      <td>4.345687e-19</td>\n",
       "      <td>4.345687e-19</td>\n",
       "      <td>4.345687e-19</td>\n",
       "      <td>67.853566</td>\n",
       "      <td>250.758444</td>\n",
       "      <td>132.077985</td>\n",
       "      <td>10.623994</td>\n",
       "      <td>10.830182</td>\n",
       "      <td>10.786321</td>\n",
       "      <td>10.594031</td>\n",
       "      <td>...</td>\n",
       "      <td>10.423182</td>\n",
       "      <td>10.412834</td>\n",
       "      <td>10.407157</td>\n",
       "      <td>10.412933</td>\n",
       "      <td>10.424849</td>\n",
       "      <td>10.430907</td>\n",
       "      <td>10.433137</td>\n",
       "      <td>10.425716</td>\n",
       "      <td>2.533978</td>\n",
       "      <td>0.281066</td>\n",
       "    </tr>\n",
       "    <tr>\n",
       "      <th>min</th>\n",
       "      <td>1.000000e-03</td>\n",
       "      <td>1.000000e-03</td>\n",
       "      <td>1.000000e-03</td>\n",
       "      <td>-219.800000</td>\n",
       "      <td>-831.610000</td>\n",
       "      <td>-424.710000</td>\n",
       "      <td>15.144000</td>\n",
       "      <td>15.920000</td>\n",
       "      <td>15.825000</td>\n",
       "      <td>15.246000</td>\n",
       "      <td>...</td>\n",
       "      <td>15.726000</td>\n",
       "      <td>15.858000</td>\n",
       "      <td>15.925000</td>\n",
       "      <td>15.931000</td>\n",
       "      <td>15.938000</td>\n",
       "      <td>15.998000</td>\n",
       "      <td>16.056000</td>\n",
       "      <td>16.092000</td>\n",
       "      <td>35.000000</td>\n",
       "      <td>0.090000</td>\n",
       "    </tr>\n",
       "    <tr>\n",
       "      <th>25%</th>\n",
       "      <td>1.000000e-03</td>\n",
       "      <td>1.000000e-03</td>\n",
       "      <td>1.000000e-03</td>\n",
       "      <td>-41.526000</td>\n",
       "      <td>-164.250000</td>\n",
       "      <td>-75.311000</td>\n",
       "      <td>56.305000</td>\n",
       "      <td>58.520000</td>\n",
       "      <td>58.199000</td>\n",
       "      <td>56.287000</td>\n",
       "      <td>...</td>\n",
       "      <td>50.024000</td>\n",
       "      <td>50.191000</td>\n",
       "      <td>50.381000</td>\n",
       "      <td>50.493000</td>\n",
       "      <td>50.551000</td>\n",
       "      <td>50.644000</td>\n",
       "      <td>50.760000</td>\n",
       "      <td>50.914000</td>\n",
       "      <td>40.000000</td>\n",
       "      <td>0.200000</td>\n",
       "    </tr>\n",
       "    <tr>\n",
       "      <th>50%</th>\n",
       "      <td>1.000000e-03</td>\n",
       "      <td>1.000000e-03</td>\n",
       "      <td>1.000000e-03</td>\n",
       "      <td>-18.977000</td>\n",
       "      <td>-76.295000</td>\n",
       "      <td>-20.851000</td>\n",
       "      <td>61.497000</td>\n",
       "      <td>63.536000</td>\n",
       "      <td>62.993000</td>\n",
       "      <td>61.350000</td>\n",
       "      <td>...</td>\n",
       "      <td>54.643000</td>\n",
       "      <td>54.910000</td>\n",
       "      <td>55.150000</td>\n",
       "      <td>55.322000</td>\n",
       "      <td>55.418000</td>\n",
       "      <td>55.379000</td>\n",
       "      <td>55.414000</td>\n",
       "      <td>55.548000</td>\n",
       "      <td>40.000000</td>\n",
       "      <td>0.330000</td>\n",
       "    </tr>\n",
       "    <tr>\n",
       "      <th>75%</th>\n",
       "      <td>1.000000e-03</td>\n",
       "      <td>1.000000e-03</td>\n",
       "      <td>1.000000e-03</td>\n",
       "      <td>11.494000</td>\n",
       "      <td>33.178000</td>\n",
       "      <td>35.535000</td>\n",
       "      <td>66.093000</td>\n",
       "      <td>68.445000</td>\n",
       "      <td>68.026000</td>\n",
       "      <td>66.013000</td>\n",
       "      <td>...</td>\n",
       "      <td>61.332000</td>\n",
       "      <td>61.493000</td>\n",
       "      <td>61.608000</td>\n",
       "      <td>61.691000</td>\n",
       "      <td>61.755000</td>\n",
       "      <td>61.797000</td>\n",
       "      <td>61.928000</td>\n",
       "      <td>61.972000</td>\n",
       "      <td>40.000000</td>\n",
       "      <td>0.460000</td>\n",
       "    </tr>\n",
       "    <tr>\n",
       "      <th>max</th>\n",
       "      <td>1.000000e-03</td>\n",
       "      <td>1.000000e-03</td>\n",
       "      <td>1.000000e-03</td>\n",
       "      <td>101.090000</td>\n",
       "      <td>464.490000</td>\n",
       "      <td>369.440000</td>\n",
       "      <td>76.971000</td>\n",
       "      <td>78.993000</td>\n",
       "      <td>78.589000</td>\n",
       "      <td>76.930000</td>\n",
       "      <td>...</td>\n",
       "      <td>73.491000</td>\n",
       "      <td>73.553000</td>\n",
       "      <td>73.608000</td>\n",
       "      <td>73.651000</td>\n",
       "      <td>73.713000</td>\n",
       "      <td>73.801000</td>\n",
       "      <td>73.876000</td>\n",
       "      <td>73.898000</td>\n",
       "      <td>45.000000</td>\n",
       "      <td>2.240000</td>\n",
       "    </tr>\n",
       "  </tbody>\n",
       "</table>\n",
       "<p>8 rows × 512 columns</p>\n",
       "</div>"
      ],
      "text/plain": [
       "             862.13        863.88        865.63      867.38      869.13  \\\n",
       "count  2.450000e+02  2.450000e+02  2.450000e+02  245.000000  245.000000   \n",
       "mean   1.000000e-03  1.000000e-03  1.000000e-03  -33.104287 -121.858495   \n",
       "std    4.345687e-19  4.345687e-19  4.345687e-19   67.853566  250.758444   \n",
       "min    1.000000e-03  1.000000e-03  1.000000e-03 -219.800000 -831.610000   \n",
       "25%    1.000000e-03  1.000000e-03  1.000000e-03  -41.526000 -164.250000   \n",
       "50%    1.000000e-03  1.000000e-03  1.000000e-03  -18.977000  -76.295000   \n",
       "75%    1.000000e-03  1.000000e-03  1.000000e-03   11.494000   33.178000   \n",
       "max    1.000000e-03  1.000000e-03  1.000000e-03  101.090000  464.490000   \n",
       "\n",
       "           870.88      872.63      874.38      876.13      877.88  ...  \\\n",
       "count  245.000000  245.000000  245.000000  245.000000  245.000000  ...   \n",
       "mean   -35.513932   59.391224   61.734878   61.271078   59.288657  ...   \n",
       "std    132.077985   10.623994   10.830182   10.786321   10.594031  ...   \n",
       "min   -424.710000   15.144000   15.920000   15.825000   15.246000  ...   \n",
       "25%    -75.311000   56.305000   58.520000   58.199000   56.287000  ...   \n",
       "50%    -20.851000   61.497000   63.536000   62.993000   61.350000  ...   \n",
       "75%     35.535000   66.093000   68.445000   68.026000   66.013000  ...   \n",
       "max    369.440000   76.971000   78.993000   78.589000   76.930000  ...   \n",
       "\n",
       "          1740.63     1742.38     1744.13     1745.88     1747.63     1749.38  \\\n",
       "count  245.000000  245.000000  245.000000  245.000000  245.000000  245.000000   \n",
       "mean    54.223367   54.372829   54.504016   54.594412   54.658090   54.731698   \n",
       "std     10.423182   10.412834   10.407157   10.412933   10.424849   10.430907   \n",
       "min     15.726000   15.858000   15.925000   15.931000   15.938000   15.998000   \n",
       "25%     50.024000   50.191000   50.381000   50.493000   50.551000   50.644000   \n",
       "50%     54.643000   54.910000   55.150000   55.322000   55.418000   55.379000   \n",
       "75%     61.332000   61.493000   61.608000   61.691000   61.755000   61.797000   \n",
       "max     73.491000   73.553000   73.608000   73.651000   73.713000   73.801000   \n",
       "\n",
       "          1751.13     1752.88  integration_time   Ammonia-N  \n",
       "count  245.000000  245.000000        245.000000  245.000000  \n",
       "mean    54.824604   54.945706         40.183673    0.372816  \n",
       "std     10.433137   10.425716          2.533978    0.281066  \n",
       "min     16.056000   16.092000         35.000000    0.090000  \n",
       "25%     50.760000   50.914000         40.000000    0.200000  \n",
       "50%     55.414000   55.548000         40.000000    0.330000  \n",
       "75%     61.928000   61.972000         40.000000    0.460000  \n",
       "max     73.876000   73.898000         45.000000    2.240000  \n",
       "\n",
       "[8 rows x 512 columns]"
      ]
     },
     "execution_count": 8,
     "metadata": {},
     "output_type": "execute_result"
    }
   ],
   "source": [
    "data.describe()"
   ]
  },
  {
   "cell_type": "code",
   "execution_count": 9,
   "metadata": {},
   "outputs": [],
   "source": [
    "feature_columns = extract_features(data)\n",
    "X, y = data[feature_columns], data['Ammonia-N']"
   ]
  },
  {
   "cell_type": "code",
   "execution_count": 10,
   "metadata": {},
   "outputs": [],
   "source": [
    "X_train, X_test, y_train, y_test = train_test_split(X, y, test_size=0.3, random_state=10)"
   ]
  },
  {
   "cell_type": "code",
   "execution_count": 11,
   "metadata": {},
   "outputs": [
    {
     "data": {
      "text/plain": [
       "<AxesSubplot:>"
      ]
     },
     "execution_count": 11,
     "metadata": {},
     "output_type": "execute_result"
    },
    {
     "data": {
      "image/png": "[encoded data removed]",
      "text/plain": [
       "<Figure size 432x288 with 1 Axes>"
      ]
     },
     "metadata": {
      "needs_background": "light"
     },
     "output_type": "display_data"
    }
   ],
   "source": [
    "y_train.hist()"
   ]
  },
  {
   "cell_type": "code",
   "execution_count": 12,
   "metadata": {},
   "outputs": [
    {
     "data": {
      "text/plain": [
       "<AxesSubplot:>"
      ]
     },
     "execution_count": 12,
     "metadata": {},
     "output_type": "execute_result"
    },
    {
     "data": {
      "image/png": "[encoded data removed]",
      "text/plain": [
       "<Figure size 432x288 with 1 Axes>"
      ]
     },
     "metadata": {
      "needs_background": "light"
     },
     "output_type": "display_data"
    }
   ],
   "source": [
    "y_test.hist()"
   ]
  },
  {
   "cell_type": "code",
   "execution_count": 13,
   "metadata": {},
   "outputs": [
    {
     "data": {
      "image/png": "[encoded data removed]",
      "text/plain": [
       "<Figure size 720x720 with 1 Axes>"
      ]
     },
     "metadata": {
      "needs_background": "light"
     },
     "output_type": "display_data"
    }
   ],
   "source": [
    "plot_residuals(y_test, model.predict(X_test))"
   ]
  },
  {
   "cell_type": "code",
   "execution_count": 14,
   "metadata": {},
   "outputs": [
    {
     "data": {
      "text/plain": [
       "245"
      ]
     },
     "execution_count": 14,
     "metadata": {},
     "output_type": "execute_result"
    }
   ],
   "source": [
    "len(X)"
   ]
  },
  {
   "cell_type": "code",
   "execution_count": null,
   "metadata": {},
   "outputs": [],
   "source": []
  }
 ],
 "metadata": {
  "kernelspec": {
   "display_name": ".spectroscopy",
   "language": "python",
   "name": ".spectroscopy"
  },
  "language_info": {
   "codemirror_mode": {
    "name": "ipython",
    "version": 3
   },
   "file_extension": ".py",
   "mimetype": "text/x-python",
   "name": "python",
   "nbconvert_exporter": "python",
   "pygments_lexer": "ipython3",
   "version": "3.7.3"
  }
 },
 "nbformat": 4,
 "nbformat_minor": 4
}

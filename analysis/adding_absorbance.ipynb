{
 "cells": [
  {
   "cell_type": "code",
   "execution_count": 1,
   "metadata": {},
   "outputs": [],
   "source": [
    "import os\n",
    "import sys"
   ]
  },
  {
   "cell_type": "code",
   "execution_count": 2,
   "metadata": {},
   "outputs": [],
   "source": [
    "module_path = os.path.abspath(os.path.join('..'))\n",
    "if module_path not in sys.path:\n",
    "    sys.path.insert(0, module_path)"
   ]
  },
  {
   "cell_type": "code",
   "execution_count": 3,
   "metadata": {},
   "outputs": [
    {
     "data": {
      "text/plain": [
       "['/Users/gabriel/Documents/projects/nuorganics/spectroscopy',\n",
       " '/Users/gabriel/Documents/projects/nuorganics/spectroscopy/analysis',\n",
       " '/Library/Developer/CommandLineTools/Library/Frameworks/Python3.framework/Versions/3.7/lib/python37.zip',\n",
       " '/Library/Developer/CommandLineTools/Library/Frameworks/Python3.framework/Versions/3.7/lib/python3.7',\n",
       " '/Library/Developer/CommandLineTools/Library/Frameworks/Python3.framework/Versions/3.7/lib/python3.7/lib-dynload',\n",
       " '',\n",
       " '/Users/gabriel/Documents/projects/nuorganics/spectroscopy/.spectroscopy/lib/python3.7/site-packages',\n",
       " '/Users/gabriel/Documents/projects/nuorganics/spectroscopy/.spectroscopy/lib/python3.7/site-packages/IPython/extensions',\n",
       " '/Users/gabriel/.ipython']"
      ]
     },
     "execution_count": 3,
     "metadata": {},
     "output_type": "execute_result"
    }
   ],
   "source": [
    "sys.path"
   ]
  },
  {
   "cell_type": "code",
   "execution_count": 4,
   "metadata": {},
   "outputs": [],
   "source": [
    "from spectroscopy.utils import load_training_data, parse_abs_files, get_wavelength_columns"
   ]
  },
  {
   "cell_type": "markdown",
   "metadata": {},
   "source": [
    "# load in training data"
   ]
  },
  {
   "cell_type": "code",
   "execution_count": 5,
   "metadata": {},
   "outputs": [],
   "source": [
    "data = load_training_data()"
   ]
  },
  {
   "cell_type": "code",
   "execution_count": 6,
   "metadata": {},
   "outputs": [
    {
     "name": "stdout",
     "output_type": "stream",
     "text": [
      "<class 'pandas.core.frame.DataFrame'>\n",
      "RangeIndex: 148 entries, 0 to 147\n",
      "Columns: 518 entries, 862.13 to Ammonia-N\n",
      "dtypes: float64(511), int64(2), object(5)\n",
      "memory usage: 599.1+ KB\n"
     ]
    }
   ],
   "source": [
    "data.info()"
   ]
  },
  {
   "cell_type": "code",
   "execution_count": 7,
   "metadata": {},
   "outputs": [
    {
     "data": {
      "text/html": [
       "<div>\n",
       "<style scoped>\n",
       "    .dataframe tbody tr th:only-of-type {\n",
       "        vertical-align: middle;\n",
       "    }\n",
       "\n",
       "    .dataframe tbody tr th {\n",
       "        vertical-align: top;\n",
       "    }\n",
       "\n",
       "    .dataframe thead th {\n",
       "        text-align: right;\n",
       "    }\n",
       "</style>\n",
       "<table border=\"1\" class=\"dataframe\">\n",
       "  <thead>\n",
       "    <tr style=\"text-align: right;\">\n",
       "      <th></th>\n",
       "      <th>862.13</th>\n",
       "      <th>863.88</th>\n",
       "      <th>865.63</th>\n",
       "      <th>867.38</th>\n",
       "      <th>869.13</th>\n",
       "      <th>870.88</th>\n",
       "      <th>872.63</th>\n",
       "      <th>874.38</th>\n",
       "      <th>876.13</th>\n",
       "      <th>877.88</th>\n",
       "      <th>...</th>\n",
       "      <th>1742.38</th>\n",
       "      <th>1744.13</th>\n",
       "      <th>1745.88</th>\n",
       "      <th>1747.63</th>\n",
       "      <th>1749.38</th>\n",
       "      <th>1751.13</th>\n",
       "      <th>1752.88</th>\n",
       "      <th>integration_time</th>\n",
       "      <th>run_number</th>\n",
       "      <th>Ammonia-N</th>\n",
       "    </tr>\n",
       "  </thead>\n",
       "  <tbody>\n",
       "    <tr>\n",
       "      <th>count</th>\n",
       "      <td>1.480000e+02</td>\n",
       "      <td>1.480000e+02</td>\n",
       "      <td>1.480000e+02</td>\n",
       "      <td>148.000000</td>\n",
       "      <td>148.000000</td>\n",
       "      <td>148.000000</td>\n",
       "      <td>148.000000</td>\n",
       "      <td>148.000000</td>\n",
       "      <td>148.000000</td>\n",
       "      <td>148.000000</td>\n",
       "      <td>...</td>\n",
       "      <td>148.000000</td>\n",
       "      <td>148.000000</td>\n",
       "      <td>148.000000</td>\n",
       "      <td>148.000000</td>\n",
       "      <td>148.000000</td>\n",
       "      <td>148.000000</td>\n",
       "      <td>148.000000</td>\n",
       "      <td>148.000000</td>\n",
       "      <td>148.000000</td>\n",
       "      <td>148.000000</td>\n",
       "    </tr>\n",
       "    <tr>\n",
       "      <th>mean</th>\n",
       "      <td>1.000000e-03</td>\n",
       "      <td>1.000000e-03</td>\n",
       "      <td>1.000000e-03</td>\n",
       "      <td>-19.056386</td>\n",
       "      <td>-70.915850</td>\n",
       "      <td>-10.264864</td>\n",
       "      <td>61.118655</td>\n",
       "      <td>63.431581</td>\n",
       "      <td>62.943696</td>\n",
       "      <td>60.939209</td>\n",
       "      <td>...</td>\n",
       "      <td>55.780966</td>\n",
       "      <td>55.903020</td>\n",
       "      <td>55.994162</td>\n",
       "      <td>56.064730</td>\n",
       "      <td>56.140176</td>\n",
       "      <td>56.230365</td>\n",
       "      <td>56.343493</td>\n",
       "      <td>41.216216</td>\n",
       "      <td>1.851351</td>\n",
       "      <td>0.323446</td>\n",
       "    </tr>\n",
       "    <tr>\n",
       "      <th>std</th>\n",
       "      <td>2.175767e-19</td>\n",
       "      <td>2.175767e-19</td>\n",
       "      <td>2.175767e-19</td>\n",
       "      <td>70.565709</td>\n",
       "      <td>269.179705</td>\n",
       "      <td>149.884684</td>\n",
       "      <td>8.163948</td>\n",
       "      <td>8.202204</td>\n",
       "      <td>8.200596</td>\n",
       "      <td>8.159165</td>\n",
       "      <td>...</td>\n",
       "      <td>8.809506</td>\n",
       "      <td>8.800754</td>\n",
       "      <td>8.803004</td>\n",
       "      <td>8.813273</td>\n",
       "      <td>8.820081</td>\n",
       "      <td>8.822910</td>\n",
       "      <td>8.813871</td>\n",
       "      <td>2.152488</td>\n",
       "      <td>0.835968</td>\n",
       "      <td>0.304762</td>\n",
       "    </tr>\n",
       "    <tr>\n",
       "      <th>min</th>\n",
       "      <td>1.000000e-03</td>\n",
       "      <td>1.000000e-03</td>\n",
       "      <td>1.000000e-03</td>\n",
       "      <td>-219.800000</td>\n",
       "      <td>-831.610000</td>\n",
       "      <td>-424.710000</td>\n",
       "      <td>35.295000</td>\n",
       "      <td>36.586000</td>\n",
       "      <td>36.099000</td>\n",
       "      <td>34.592000</td>\n",
       "      <td>...</td>\n",
       "      <td>30.434000</td>\n",
       "      <td>30.538000</td>\n",
       "      <td>30.640000</td>\n",
       "      <td>30.768000</td>\n",
       "      <td>30.876000</td>\n",
       "      <td>30.999000</td>\n",
       "      <td>31.153000</td>\n",
       "      <td>40.000000</td>\n",
       "      <td>1.000000</td>\n",
       "      <td>0.090000</td>\n",
       "    </tr>\n",
       "    <tr>\n",
       "      <th>25%</th>\n",
       "      <td>1.000000e-03</td>\n",
       "      <td>1.000000e-03</td>\n",
       "      <td>1.000000e-03</td>\n",
       "      <td>-32.884250</td>\n",
       "      <td>-126.617500</td>\n",
       "      <td>-43.495000</td>\n",
       "      <td>57.469250</td>\n",
       "      <td>60.048500</td>\n",
       "      <td>59.440750</td>\n",
       "      <td>57.321000</td>\n",
       "      <td>...</td>\n",
       "      <td>51.477250</td>\n",
       "      <td>51.547500</td>\n",
       "      <td>51.611750</td>\n",
       "      <td>51.653000</td>\n",
       "      <td>51.706750</td>\n",
       "      <td>51.721750</td>\n",
       "      <td>51.839000</td>\n",
       "      <td>40.000000</td>\n",
       "      <td>1.000000</td>\n",
       "      <td>0.170000</td>\n",
       "    </tr>\n",
       "    <tr>\n",
       "      <th>50%</th>\n",
       "      <td>1.000000e-03</td>\n",
       "      <td>1.000000e-03</td>\n",
       "      <td>1.000000e-03</td>\n",
       "      <td>-5.051400</td>\n",
       "      <td>-22.299000</td>\n",
       "      <td>11.380000</td>\n",
       "      <td>61.856000</td>\n",
       "      <td>64.310500</td>\n",
       "      <td>63.799500</td>\n",
       "      <td>61.569000</td>\n",
       "      <td>...</td>\n",
       "      <td>56.498500</td>\n",
       "      <td>56.578000</td>\n",
       "      <td>56.727000</td>\n",
       "      <td>56.841000</td>\n",
       "      <td>56.929500</td>\n",
       "      <td>57.051000</td>\n",
       "      <td>57.174500</td>\n",
       "      <td>40.000000</td>\n",
       "      <td>2.000000</td>\n",
       "      <td>0.320000</td>\n",
       "    </tr>\n",
       "    <tr>\n",
       "      <th>75%</th>\n",
       "      <td>1.000000e-03</td>\n",
       "      <td>1.000000e-03</td>\n",
       "      <td>1.000000e-03</td>\n",
       "      <td>19.065500</td>\n",
       "      <td>62.229000</td>\n",
       "      <td>54.570500</td>\n",
       "      <td>66.932250</td>\n",
       "      <td>69.066250</td>\n",
       "      <td>68.653250</td>\n",
       "      <td>66.957000</td>\n",
       "      <td>...</td>\n",
       "      <td>61.747750</td>\n",
       "      <td>61.854000</td>\n",
       "      <td>61.922250</td>\n",
       "      <td>61.988000</td>\n",
       "      <td>62.047000</td>\n",
       "      <td>62.132750</td>\n",
       "      <td>62.276750</td>\n",
       "      <td>40.000000</td>\n",
       "      <td>3.000000</td>\n",
       "      <td>0.400000</td>\n",
       "    </tr>\n",
       "    <tr>\n",
       "      <th>max</th>\n",
       "      <td>1.000000e-03</td>\n",
       "      <td>1.000000e-03</td>\n",
       "      <td>1.000000e-03</td>\n",
       "      <td>101.090000</td>\n",
       "      <td>464.490000</td>\n",
       "      <td>369.440000</td>\n",
       "      <td>76.971000</td>\n",
       "      <td>78.993000</td>\n",
       "      <td>78.589000</td>\n",
       "      <td>76.930000</td>\n",
       "      <td>...</td>\n",
       "      <td>73.553000</td>\n",
       "      <td>73.608000</td>\n",
       "      <td>73.651000</td>\n",
       "      <td>73.713000</td>\n",
       "      <td>73.801000</td>\n",
       "      <td>73.876000</td>\n",
       "      <td>73.898000</td>\n",
       "      <td>45.000000</td>\n",
       "      <td>3.000000</td>\n",
       "      <td>2.240000</td>\n",
       "    </tr>\n",
       "  </tbody>\n",
       "</table>\n",
       "<p>8 rows × 513 columns</p>\n",
       "</div>"
      ],
      "text/plain": [
       "             862.13        863.88        865.63      867.38      869.13  \\\n",
       "count  1.480000e+02  1.480000e+02  1.480000e+02  148.000000  148.000000   \n",
       "mean   1.000000e-03  1.000000e-03  1.000000e-03  -19.056386  -70.915850   \n",
       "std    2.175767e-19  2.175767e-19  2.175767e-19   70.565709  269.179705   \n",
       "min    1.000000e-03  1.000000e-03  1.000000e-03 -219.800000 -831.610000   \n",
       "25%    1.000000e-03  1.000000e-03  1.000000e-03  -32.884250 -126.617500   \n",
       "50%    1.000000e-03  1.000000e-03  1.000000e-03   -5.051400  -22.299000   \n",
       "75%    1.000000e-03  1.000000e-03  1.000000e-03   19.065500   62.229000   \n",
       "max    1.000000e-03  1.000000e-03  1.000000e-03  101.090000  464.490000   \n",
       "\n",
       "           870.88      872.63      874.38      876.13      877.88  ...  \\\n",
       "count  148.000000  148.000000  148.000000  148.000000  148.000000  ...   \n",
       "mean   -10.264864   61.118655   63.431581   62.943696   60.939209  ...   \n",
       "std    149.884684    8.163948    8.202204    8.200596    8.159165  ...   \n",
       "min   -424.710000   35.295000   36.586000   36.099000   34.592000  ...   \n",
       "25%    -43.495000   57.469250   60.048500   59.440750   57.321000  ...   \n",
       "50%     11.380000   61.856000   64.310500   63.799500   61.569000  ...   \n",
       "75%     54.570500   66.932250   69.066250   68.653250   66.957000  ...   \n",
       "max    369.440000   76.971000   78.993000   78.589000   76.930000  ...   \n",
       "\n",
       "          1742.38     1744.13     1745.88     1747.63     1749.38     1751.13  \\\n",
       "count  148.000000  148.000000  148.000000  148.000000  148.000000  148.000000   \n",
       "mean    55.780966   55.903020   55.994162   56.064730   56.140176   56.230365   \n",
       "std      8.809506    8.800754    8.803004    8.813273    8.820081    8.822910   \n",
       "min     30.434000   30.538000   30.640000   30.768000   30.876000   30.999000   \n",
       "25%     51.477250   51.547500   51.611750   51.653000   51.706750   51.721750   \n",
       "50%     56.498500   56.578000   56.727000   56.841000   56.929500   57.051000   \n",
       "75%     61.747750   61.854000   61.922250   61.988000   62.047000   62.132750   \n",
       "max     73.553000   73.608000   73.651000   73.713000   73.801000   73.876000   \n",
       "\n",
       "          1752.88  integration_time  run_number   Ammonia-N  \n",
       "count  148.000000        148.000000  148.000000  148.000000  \n",
       "mean    56.343493         41.216216    1.851351    0.323446  \n",
       "std      8.813871          2.152488    0.835968    0.304762  \n",
       "min     31.153000         40.000000    1.000000    0.090000  \n",
       "25%     51.839000         40.000000    1.000000    0.170000  \n",
       "50%     57.174500         40.000000    2.000000    0.320000  \n",
       "75%     62.276750         40.000000    3.000000    0.400000  \n",
       "max     73.898000         45.000000    3.000000    2.240000  \n",
       "\n",
       "[8 rows x 513 columns]"
      ]
     },
     "execution_count": 7,
     "metadata": {},
     "output_type": "execute_result"
    }
   ],
   "source": [
    "data.describe()"
   ]
  },
  {
   "cell_type": "code",
   "execution_count": null,
   "metadata": {},
   "outputs": [],
   "source": []
  },
  {
   "cell_type": "markdown",
   "metadata": {},
   "source": [
    "# load in abs files"
   ]
  },
  {
   "cell_type": "code",
   "execution_count": 8,
   "metadata": {},
   "outputs": [
    {
     "ename": "ValueError",
     "evalue": "No objects to concatenate",
     "output_type": "error",
     "traceback": [
      "\u001b[0;31m---------------------------------------------------------------------------\u001b[0m",
      "\u001b[0;31mValueError\u001b[0m                                Traceback (most recent call last)",
      "\u001b[0;32m<ipython-input-8-e49146ed94ff>\u001b[0m in \u001b[0;36m<module>\u001b[0;34m\u001b[0m\n\u001b[0;32m----> 1\u001b[0;31m \u001b[0mdf_abs\u001b[0m \u001b[0;34m=\u001b[0m \u001b[0mparse_abs_files\u001b[0m\u001b[0;34m(\u001b[0m\u001b[0;34m)\u001b[0m\u001b[0;34m\u001b[0m\u001b[0;34m\u001b[0m\u001b[0m\n\u001b[0m",
      "\u001b[0;32m~/Documents/projects/nuorganics/spectroscopy/spectroscopy/utils.py\u001b[0m in \u001b[0;36mparse_abs_files\u001b[0;34m(directory_path)\u001b[0m\n\u001b[1;32m     83\u001b[0m         \u001b[0mdirectory_path\u001b[0m \u001b[0;34m=\u001b[0m \u001b[0mDATA_DIR\u001b[0m\u001b[0;34m\u001b[0m\u001b[0;34m\u001b[0m\u001b[0m\n\u001b[1;32m     84\u001b[0m     \u001b[0mdirectory\u001b[0m \u001b[0;34m=\u001b[0m \u001b[0mPath\u001b[0m\u001b[0;34m(\u001b[0m\u001b[0mdirectory_path\u001b[0m\u001b[0;34m)\u001b[0m\u001b[0;34m\u001b[0m\u001b[0;34m\u001b[0m\u001b[0m\n\u001b[0;32m---> 85\u001b[0;31m     \u001b[0;32mreturn\u001b[0m \u001b[0mpd\u001b[0m\u001b[0;34m.\u001b[0m\u001b[0mconcat\u001b[0m\u001b[0;34m(\u001b[0m\u001b[0;34m[\u001b[0m\u001b[0mparse_spect_file\u001b[0m\u001b[0;34m(\u001b[0m\u001b[0mfilepath\u001b[0m\u001b[0;34m)\u001b[0m \u001b[0;32mfor\u001b[0m \u001b[0mfilepath\u001b[0m \u001b[0;32min\u001b[0m \u001b[0mdirectory\u001b[0m\u001b[0;34m.\u001b[0m\u001b[0mglob\u001b[0m\u001b[0;34m(\u001b[0m\u001b[0;34m\"*.ABS\"\u001b[0m\u001b[0;34m)\u001b[0m\u001b[0;34m]\u001b[0m\u001b[0;34m)\u001b[0m\u001b[0;34m\u001b[0m\u001b[0;34m\u001b[0m\u001b[0m\n\u001b[0m\u001b[1;32m     86\u001b[0m \u001b[0;34m\u001b[0m\u001b[0m\n\u001b[1;32m     87\u001b[0m \u001b[0;34m\u001b[0m\u001b[0m\n",
      "\u001b[0;32m~/Documents/projects/nuorganics/spectroscopy/.spectroscopy/lib/python3.7/site-packages/pandas/core/reshape/concat.py\u001b[0m in \u001b[0;36mconcat\u001b[0;34m(objs, axis, join, ignore_index, keys, levels, names, verify_integrity, sort, copy)\u001b[0m\n\u001b[1;32m    279\u001b[0m         \u001b[0mverify_integrity\u001b[0m\u001b[0;34m=\u001b[0m\u001b[0mverify_integrity\u001b[0m\u001b[0;34m,\u001b[0m\u001b[0;34m\u001b[0m\u001b[0;34m\u001b[0m\u001b[0m\n\u001b[1;32m    280\u001b[0m         \u001b[0mcopy\u001b[0m\u001b[0;34m=\u001b[0m\u001b[0mcopy\u001b[0m\u001b[0;34m,\u001b[0m\u001b[0;34m\u001b[0m\u001b[0;34m\u001b[0m\u001b[0m\n\u001b[0;32m--> 281\u001b[0;31m         \u001b[0msort\u001b[0m\u001b[0;34m=\u001b[0m\u001b[0msort\u001b[0m\u001b[0;34m,\u001b[0m\u001b[0;34m\u001b[0m\u001b[0;34m\u001b[0m\u001b[0m\n\u001b[0m\u001b[1;32m    282\u001b[0m     )\n\u001b[1;32m    283\u001b[0m \u001b[0;34m\u001b[0m\u001b[0m\n",
      "\u001b[0;32m~/Documents/projects/nuorganics/spectroscopy/.spectroscopy/lib/python3.7/site-packages/pandas/core/reshape/concat.py\u001b[0m in \u001b[0;36m__init__\u001b[0;34m(self, objs, axis, join, keys, levels, names, ignore_index, verify_integrity, copy, sort)\u001b[0m\n\u001b[1;32m    327\u001b[0m \u001b[0;34m\u001b[0m\u001b[0m\n\u001b[1;32m    328\u001b[0m         \u001b[0;32mif\u001b[0m \u001b[0mlen\u001b[0m\u001b[0;34m(\u001b[0m\u001b[0mobjs\u001b[0m\u001b[0;34m)\u001b[0m \u001b[0;34m==\u001b[0m \u001b[0;36m0\u001b[0m\u001b[0;34m:\u001b[0m\u001b[0;34m\u001b[0m\u001b[0;34m\u001b[0m\u001b[0m\n\u001b[0;32m--> 329\u001b[0;31m             \u001b[0;32mraise\u001b[0m \u001b[0mValueError\u001b[0m\u001b[0;34m(\u001b[0m\u001b[0;34m\"No objects to concatenate\"\u001b[0m\u001b[0;34m)\u001b[0m\u001b[0;34m\u001b[0m\u001b[0;34m\u001b[0m\u001b[0m\n\u001b[0m\u001b[1;32m    330\u001b[0m \u001b[0;34m\u001b[0m\u001b[0m\n\u001b[1;32m    331\u001b[0m         \u001b[0;32mif\u001b[0m \u001b[0mkeys\u001b[0m \u001b[0;32mis\u001b[0m \u001b[0;32mNone\u001b[0m\u001b[0;34m:\u001b[0m\u001b[0;34m\u001b[0m\u001b[0;34m\u001b[0m\u001b[0m\n",
      "\u001b[0;31mValueError\u001b[0m: No objects to concatenate"
     ]
    }
   ],
   "source": [
    "df_abs = parse_abs_files()"
   ]
  },
  {
   "cell_type": "markdown",
   "metadata": {},
   "source": [
    "## add in prefixes to columns to differentiate between absorbance and transmittance"
   ]
  },
  {
   "cell_type": "code",
   "execution_count": null,
   "metadata": {},
   "outputs": [],
   "source": [
    "transmittance_columns = get_wavelength_columns(data)"
   ]
  },
  {
   "cell_type": "code",
   "execution_count": null,
   "metadata": {},
   "outputs": [],
   "source": [
    "data[transmittance_columns] = data[transmittance_columns].add_prefix('trans_')"
   ]
  },
  {
   "cell_type": "code",
   "execution_count": null,
   "metadata": {},
   "outputs": [],
   "source": [
    "[column for column in data.columns if column.startswith('trans_')]"
   ]
  },
  {
   "cell_type": "markdown",
   "metadata": {},
   "source": [
    "# join data on sample_name"
   ]
  },
  {
   "cell_type": "code",
   "execution_count": null,
   "metadata": {},
   "outputs": [],
   "source": [
    "df = data.join(df_abs.set_index('sample_name')[get_wavelength_columns(df_abs)], on='sample_name')\\\n",
    "            .reset_index(drop=True)\n",
    "#             .set_index([\"sample_name\", 'run_number'])"
   ]
  },
  {
   "cell_type": "code",
   "execution_count": null,
   "metadata": {},
   "outputs": [],
   "source": [
    "df.head()"
   ]
  },
  {
   "cell_type": "code",
   "execution_count": null,
   "metadata": {},
   "outputs": [],
   "source": [
    "df.columns"
   ]
  },
  {
   "cell_type": "code",
   "execution_count": null,
   "metadata": {},
   "outputs": [],
   "source": []
  }
 ],
 "metadata": {
  "kernelspec": {
   "display_name": ".spectroscopy",
   "language": "python",
   "name": ".spectroscopy"
  },
  "language_info": {
   "codemirror_mode": {
    "name": "ipython",
    "version": 3
   },
   "file_extension": ".py",
   "mimetype": "text/x-python",
   "name": "python",
   "nbconvert_exporter": "python",
   "pygments_lexer": "ipython3",
   "version": "3.7.3"
  }
 },
 "nbformat": 4,
 "nbformat_minor": 4
}

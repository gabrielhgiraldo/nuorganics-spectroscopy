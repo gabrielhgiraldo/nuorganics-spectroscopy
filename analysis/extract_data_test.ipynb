{
 "cells": [
  {
   "cell_type": "code",
   "execution_count": 1,
   "metadata": {},
   "outputs": [],
   "source": [
    "import pickle"
   ]
  },
  {
   "cell_type": "code",
   "execution_count": 2,
   "metadata": {},
   "outputs": [],
   "source": [
    "from spectroscopy.data import (\n",
    "    parse_trm_files,\n",
    "    parse_lab_reports,\n",
    "    extract_data,\n",
    "    get_unmatched_sample_ids,\n",
    "    SAMPLE_IDENTIFIER_COLUMNS,\n",
    "    LAB_REPORT_COLUMNS\n",
    ")"
   ]
  },
  {
   "cell_type": "code",
   "execution_count": 3,
   "metadata": {},
   "outputs": [],
   "source": [
    "from spectroscopy.app_utils import get_training_data_path"
   ]
  },
  {
   "cell_type": "code",
   "execution_count": 4,
   "metadata": {},
   "outputs": [],
   "source": [
    "from spectroscopy.utils import get_wavelength_columns"
   ]
  },
  {
   "cell_type": "code",
   "execution_count": 5,
   "metadata": {},
   "outputs": [
    {
     "name": "stderr",
     "output_type": "stream",
     "text": [
      "no configuration file found at config.ini\n"
     ]
    }
   ],
   "source": [
    "data_path = get_training_data_path()"
   ]
  },
  {
   "cell_type": "code",
   "execution_count": 6,
   "metadata": {},
   "outputs": [],
   "source": [
    "skip_paths = None"
   ]
  },
  {
   "cell_type": "code",
   "execution_count": 7,
   "metadata": {},
   "outputs": [],
   "source": [
    "concurrent = True"
   ]
  },
  {
   "cell_type": "code",
   "execution_count": 8,
   "metadata": {},
   "outputs": [],
   "source": [
    "df_trms, trm_filepaths = parse_trm_files(\n",
    "    data_dir=data_path,\n",
    "    skip_paths=skip_paths,\n",
    "    concurrent=concurrent\n",
    ")"
   ]
  },
  {
   "cell_type": "code",
   "execution_count": 9,
   "metadata": {},
   "outputs": [
    {
     "data": {
      "text/plain": [
       "484"
      ]
     },
     "execution_count": 9,
     "metadata": {},
     "output_type": "execute_result"
    }
   ],
   "source": [
    "len(trm_filepaths)"
   ]
  },
  {
   "cell_type": "markdown",
   "metadata": {},
   "source": [
    "# make sure that trm files were parsed correctly`"
   ]
  },
  {
   "cell_type": "markdown",
   "metadata": {},
   "source": [
    "### drop the wavelength columns"
   ]
  },
  {
   "cell_type": "code",
   "execution_count": 10,
   "metadata": {},
   "outputs": [],
   "source": [
    "df_trms.drop(columns=get_wavelength_columns(df_trms), inplace=True)"
   ]
  },
  {
   "cell_type": "code",
   "execution_count": 11,
   "metadata": {},
   "outputs": [
    {
     "data": {
      "text/html": [
       "<div>\n",
       "<style scoped>\n",
       "    .dataframe tbody tr th:only-of-type {\n",
       "        vertical-align: middle;\n",
       "    }\n",
       "\n",
       "    .dataframe tbody tr th {\n",
       "        vertical-align: top;\n",
       "    }\n",
       "\n",
       "    .dataframe thead th {\n",
       "        text-align: right;\n",
       "    }\n",
       "</style>\n",
       "<table border=\"1\" class=\"dataframe\">\n",
       "  <thead>\n",
       "    <tr style=\"text-align: right;\">\n",
       "      <th></th>\n",
       "      <th>extra_info</th>\n",
       "      <th>integration_time</th>\n",
       "      <th>filename</th>\n",
       "      <th>sample_name</th>\n",
       "      <th>sample_date</th>\n",
       "      <th>run_number</th>\n",
       "      <th>process_method</th>\n",
       "    </tr>\n",
       "  </thead>\n",
       "  <tbody>\n",
       "    <tr>\n",
       "      <th>0</th>\n",
       "      <td>File: Users\\stell\\Desktop\\StellarDat\\North 15...</td>\n",
       "      <td>40</td>\n",
       "      <td>North 15 - 8-13-20 #1.TRM</td>\n",
       "      <td>north 15</td>\n",
       "      <td>2020-08-13</td>\n",
       "      <td>1</td>\n",
       "      <td></td>\n",
       "    </tr>\n",
       "    <tr>\n",
       "      <th>0</th>\n",
       "      <td>File: Users\\stell\\Desktop\\StellarDat\\South 10...</td>\n",
       "      <td>40</td>\n",
       "      <td>South 10 - 7-8-20 #2.TRM</td>\n",
       "      <td>south 10</td>\n",
       "      <td>2020-07-08</td>\n",
       "      <td>2</td>\n",
       "      <td></td>\n",
       "    </tr>\n",
       "    <tr>\n",
       "      <th>0</th>\n",
       "      <td>File: Users\\stell\\Desktop\\StellarDat\\West 3 -...</td>\n",
       "      <td>30</td>\n",
       "      <td>West 3 - 7-6-20 #3.TRM</td>\n",
       "      <td>west 3</td>\n",
       "      <td>2020-07-06</td>\n",
       "      <td>3</td>\n",
       "      <td></td>\n",
       "    </tr>\n",
       "    <tr>\n",
       "      <th>0</th>\n",
       "      <td>File: Users\\stell\\Desktop\\StellarDat\\West 14 ...</td>\n",
       "      <td>30</td>\n",
       "      <td>West 14 - 8-13-20 #1.TRM</td>\n",
       "      <td>west 14</td>\n",
       "      <td>2020-08-13</td>\n",
       "      <td>1</td>\n",
       "      <td></td>\n",
       "    </tr>\n",
       "    <tr>\n",
       "      <th>0</th>\n",
       "      <td>File: Users\\stell\\Desktop\\StellarDat\\Dows Wet...</td>\n",
       "      <td>35</td>\n",
       "      <td>Dows Wet - 7-9-20 #1.TRM</td>\n",
       "      <td>dows wet</td>\n",
       "      <td>2020-07-09</td>\n",
       "      <td>1</td>\n",
       "      <td></td>\n",
       "    </tr>\n",
       "  </tbody>\n",
       "</table>\n",
       "</div>"
      ],
      "text/plain": [
       "0                                         extra_info integration_time  \\\n",
       "0   File: Users\\stell\\Desktop\\StellarDat\\North 15...               40   \n",
       "0   File: Users\\stell\\Desktop\\StellarDat\\South 10...               40   \n",
       "0   File: Users\\stell\\Desktop\\StellarDat\\West 3 -...               30   \n",
       "0   File: Users\\stell\\Desktop\\StellarDat\\West 14 ...               30   \n",
       "0   File: Users\\stell\\Desktop\\StellarDat\\Dows Wet...               35   \n",
       "\n",
       "0                   filename sample_name sample_date run_number process_method  \n",
       "0  North 15 - 8-13-20 #1.TRM    north 15  2020-08-13          1                 \n",
       "0   South 10 - 7-8-20 #2.TRM    south 10  2020-07-08          2                 \n",
       "0     West 3 - 7-6-20 #3.TRM      west 3  2020-07-06          3                 \n",
       "0   West 14 - 8-13-20 #1.TRM     west 14  2020-08-13          1                 \n",
       "0   Dows Wet - 7-9-20 #1.TRM    dows wet  2020-07-09          1                 "
      ]
     },
     "execution_count": 11,
     "metadata": {},
     "output_type": "execute_result"
    }
   ],
   "source": [
    "df_trms.head()"
   ]
  },
  {
   "cell_type": "code",
   "execution_count": 12,
   "metadata": {},
   "outputs": [],
   "source": [
    "assert len(df_trms.index) == len(trm_filepaths)"
   ]
  },
  {
   "cell_type": "code",
   "execution_count": 13,
   "metadata": {},
   "outputs": [
    {
     "data": {
      "text/plain": [
       "count                         484\n",
       "unique                         69\n",
       "top       clarion nrf process raw\n",
       "freq                           30\n",
       "Name: sample_name, dtype: object"
      ]
     },
     "execution_count": 13,
     "metadata": {},
     "output_type": "execute_result"
    }
   ],
   "source": [
    "df_trms['sample_name'].describe()"
   ]
  },
  {
   "cell_type": "markdown",
   "metadata": {},
   "source": [
    "## match the lab report columns"
   ]
  },
  {
   "cell_type": "code",
   "execution_count": 14,
   "metadata": {},
   "outputs": [],
   "source": [
    "df_lr, lr_filepaths = parse_lab_reports(\n",
    "    data_dir=data_path,\n",
    "    skip_paths=skip_paths,\n",
    "    concurrent=concurrent\n",
    ")\n"
   ]
  },
  {
   "cell_type": "code",
   "execution_count": 15,
   "metadata": {},
   "outputs": [
    {
     "data": {
      "text/html": [
       "<div>\n",
       "<style scoped>\n",
       "    .dataframe tbody tr th:only-of-type {\n",
       "        vertical-align: middle;\n",
       "    }\n",
       "\n",
       "    .dataframe tbody tr th {\n",
       "        vertical-align: top;\n",
       "    }\n",
       "\n",
       "    .dataframe thead th {\n",
       "        text-align: right;\n",
       "    }\n",
       "</style>\n",
       "<table border=\"1\" class=\"dataframe\">\n",
       "  <thead>\n",
       "    <tr style=\"text-align: right;\">\n",
       "      <th></th>\n",
       "      <th>MVTL Log#</th>\n",
       "      <th>Account #</th>\n",
       "      <th>Customer</th>\n",
       "      <th>State</th>\n",
       "      <th>Date_Sampled</th>\n",
       "      <th>Date_Received</th>\n",
       "      <th>Date_Reported</th>\n",
       "      <th>Sample_ID</th>\n",
       "      <th>Producer</th>\n",
       "      <th>Site Name</th>\n",
       "      <th>...</th>\n",
       "      <th>Cu</th>\n",
       "      <th>Mn</th>\n",
       "      <th>Ca</th>\n",
       "      <th>Mg</th>\n",
       "      <th>Na</th>\n",
       "      <th>pH</th>\n",
       "      <th>EC</th>\n",
       "      <th>filename</th>\n",
       "      <th>sample_name</th>\n",
       "      <th>sample_date</th>\n",
       "    </tr>\n",
       "  </thead>\n",
       "  <tbody>\n",
       "    <tr>\n",
       "      <th>0</th>\n",
       "      <td>20-N6276</td>\n",
       "      <td>1970</td>\n",
       "      <td>FARM NUTRIENTS</td>\n",
       "      <td>IA</td>\n",
       "      <td></td>\n",
       "      <td>17-Aug-20</td>\n",
       "      <td>19-Aug-20</td>\n",
       "      <td>8</td>\n",
       "      <td>CLARION IA CVF</td>\n",
       "      <td>WEST</td>\n",
       "      <td>...</td>\n",
       "      <td>24.8</td>\n",
       "      <td>361.0</td>\n",
       "      <td>99000.0</td>\n",
       "      <td>3790.0</td>\n",
       "      <td>3240.0</td>\n",
       "      <td>NaN</td>\n",
       "      <td>NaN</td>\n",
       "      <td>Lab Report - West 8 - 8-13-20.csv</td>\n",
       "      <td>west 8</td>\n",
       "      <td>2020-08-13</td>\n",
       "    </tr>\n",
       "    <tr>\n",
       "      <th>0</th>\n",
       "      <td>20-N6505</td>\n",
       "      <td>1970</td>\n",
       "      <td>FARM NUTRIENTS</td>\n",
       "      <td>IA</td>\n",
       "      <td></td>\n",
       "      <td>19-Aug-20</td>\n",
       "      <td>NaN</td>\n",
       "      <td>Process Raw</td>\n",
       "      <td>NaN</td>\n",
       "      <td>Clarion NRF</td>\n",
       "      <td>...</td>\n",
       "      <td>NaN</td>\n",
       "      <td>NaN</td>\n",
       "      <td>NaN</td>\n",
       "      <td>NaN</td>\n",
       "      <td>NaN</td>\n",
       "      <td>NaN</td>\n",
       "      <td>NaN</td>\n",
       "      <td>Lab Report - Clarion NRF Process Raw - 8-19-20...</td>\n",
       "      <td>clarion nrf process raw</td>\n",
       "      <td>2020-08-19</td>\n",
       "    </tr>\n",
       "    <tr>\n",
       "      <th>0</th>\n",
       "      <td>20-N6482</td>\n",
       "      <td>1970</td>\n",
       "      <td>FARM NUTRIENTS</td>\n",
       "      <td>IA</td>\n",
       "      <td></td>\n",
       "      <td>19-Aug-20</td>\n",
       "      <td>24-Aug-20</td>\n",
       "      <td>S2</td>\n",
       "      <td>CVF</td>\n",
       "      <td>SOUTH</td>\n",
       "      <td>...</td>\n",
       "      <td>23.1</td>\n",
       "      <td>402.0</td>\n",
       "      <td>112000.0</td>\n",
       "      <td>4270.0</td>\n",
       "      <td>2830.0</td>\n",
       "      <td>NaN</td>\n",
       "      <td>NaN</td>\n",
       "      <td>Lab Report - South 2 - 8-13-20.csv</td>\n",
       "      <td>south 2</td>\n",
       "      <td>2020-08-13</td>\n",
       "    </tr>\n",
       "    <tr>\n",
       "      <th>0</th>\n",
       "      <td>20-N4515</td>\n",
       "      <td>1970</td>\n",
       "      <td>FARM NUTRIENTS</td>\n",
       "      <td>IA</td>\n",
       "      <td></td>\n",
       "      <td>10-Jul-20</td>\n",
       "      <td>13-Jul-20</td>\n",
       "      <td>15</td>\n",
       "      <td>CLARION IA CVF</td>\n",
       "      <td>SOUTH S</td>\n",
       "      <td>...</td>\n",
       "      <td>23.0</td>\n",
       "      <td>346.0</td>\n",
       "      <td>103000.0</td>\n",
       "      <td>4040.0</td>\n",
       "      <td>2670.0</td>\n",
       "      <td>NaN</td>\n",
       "      <td>NaN</td>\n",
       "      <td>Lab Report - South 15 - 7-8-20.csv</td>\n",
       "      <td>south 15</td>\n",
       "      <td>2020-07-08</td>\n",
       "    </tr>\n",
       "    <tr>\n",
       "      <th>0</th>\n",
       "      <td>20-N6333</td>\n",
       "      <td>1970</td>\n",
       "      <td>FARM NUTRIENTS</td>\n",
       "      <td>IA</td>\n",
       "      <td></td>\n",
       "      <td>18-Aug-20</td>\n",
       "      <td>19-Aug-20</td>\n",
       "      <td>16</td>\n",
       "      <td>CVF</td>\n",
       "      <td>NORTH</td>\n",
       "      <td>...</td>\n",
       "      <td>30.3</td>\n",
       "      <td>407.0</td>\n",
       "      <td>108000.0</td>\n",
       "      <td>4220.0</td>\n",
       "      <td>8410.0</td>\n",
       "      <td>NaN</td>\n",
       "      <td>NaN</td>\n",
       "      <td>Lab Report - North 16 - 8-13-20.csv</td>\n",
       "      <td>north 16</td>\n",
       "      <td>2020-08-13</td>\n",
       "    </tr>\n",
       "  </tbody>\n",
       "</table>\n",
       "<p>5 rows × 39 columns</p>\n",
       "</div>"
      ],
      "text/plain": [
       "  MVTL Log#  Account #        Customer State                     Date_Sampled  \\\n",
       "0  20-N6276       1970  FARM NUTRIENTS    IA                                    \n",
       "0  20-N6505       1970  FARM NUTRIENTS    IA                                    \n",
       "0  20-N6482       1970  FARM NUTRIENTS    IA                                    \n",
       "0  20-N4515       1970  FARM NUTRIENTS    IA                                    \n",
       "0  20-N6333       1970  FARM NUTRIENTS    IA                                    \n",
       "\n",
       "  Date_Received Date_Reported    Sample_ID        Producer    Site Name  ...  \\\n",
       "0     17-Aug-20     19-Aug-20            8  CLARION IA CVF         WEST  ...   \n",
       "0     19-Aug-20           NaN  Process Raw             NaN  Clarion NRF  ...   \n",
       "0     19-Aug-20     24-Aug-20           S2             CVF        SOUTH  ...   \n",
       "0     10-Jul-20     13-Jul-20           15  CLARION IA CVF      SOUTH S  ...   \n",
       "0     18-Aug-20     19-Aug-20           16             CVF        NORTH  ...   \n",
       "\n",
       "     Cu     Mn        Ca      Mg      Na  pH  EC  \\\n",
       "0  24.8  361.0   99000.0  3790.0  3240.0 NaN NaN   \n",
       "0   NaN    NaN       NaN     NaN     NaN NaN NaN   \n",
       "0  23.1  402.0  112000.0  4270.0  2830.0 NaN NaN   \n",
       "0  23.0  346.0  103000.0  4040.0  2670.0 NaN NaN   \n",
       "0  30.3  407.0  108000.0  4220.0  8410.0 NaN NaN   \n",
       "\n",
       "                                            filename              sample_name  \\\n",
       "0                  Lab Report - West 8 - 8-13-20.csv                   west 8   \n",
       "0  Lab Report - Clarion NRF Process Raw - 8-19-20...  clarion nrf process raw   \n",
       "0                 Lab Report - South 2 - 8-13-20.csv                  south 2   \n",
       "0                 Lab Report - South 15 - 7-8-20.csv                 south 15   \n",
       "0                Lab Report - North 16 - 8-13-20.csv                 north 16   \n",
       "\n",
       "   sample_date  \n",
       "0   2020-08-13  \n",
       "0   2020-08-19  \n",
       "0   2020-08-13  \n",
       "0   2020-07-08  \n",
       "0   2020-08-13  \n",
       "\n",
       "[5 rows x 39 columns]"
      ]
     },
     "execution_count": 15,
     "metadata": {},
     "output_type": "execute_result"
    }
   ],
   "source": [
    "df_lr.head()"
   ]
  },
  {
   "cell_type": "code",
   "execution_count": 16,
   "metadata": {},
   "outputs": [],
   "source": [
    "assert len(df_lr.index) == len(lr_filepaths)"
   ]
  },
  {
   "cell_type": "code",
   "execution_count": 17,
   "metadata": {},
   "outputs": [],
   "source": [
    "unmatched_samples= get_unmatched_sample_ids(df_lr, df_trms)\n",
    "if len(unmatched_samples) > 0:\n",
    "    print(f'unable to match sample lab reports named {unmatched_samples}')"
   ]
  },
  {
   "cell_type": "code",
   "execution_count": 18,
   "metadata": {},
   "outputs": [],
   "source": [
    "lr_to_join = df_lr.set_index(SAMPLE_IDENTIFIER_COLUMNS)[LAB_REPORT_COLUMNS]\n",
    "df = df_trms.join(lr_to_join, on=SAMPLE_IDENTIFIER_COLUMNS, lsuffix='_trm', rsuffix='_lr')\\\n",
    "                                    .reset_index(drop=True)"
   ]
  },
  {
   "cell_type": "code",
   "execution_count": 19,
   "metadata": {},
   "outputs": [
    {
     "data": {
      "text/html": [
       "<div>\n",
       "<style scoped>\n",
       "    .dataframe tbody tr th:only-of-type {\n",
       "        vertical-align: middle;\n",
       "    }\n",
       "\n",
       "    .dataframe tbody tr th {\n",
       "        vertical-align: top;\n",
       "    }\n",
       "\n",
       "    .dataframe thead th {\n",
       "        text-align: right;\n",
       "    }\n",
       "</style>\n",
       "<table border=\"1\" class=\"dataframe\">\n",
       "  <thead>\n",
       "    <tr style=\"text-align: right;\">\n",
       "      <th></th>\n",
       "      <th>extra_info</th>\n",
       "      <th>integration_time</th>\n",
       "      <th>filename_trm</th>\n",
       "      <th>sample_name</th>\n",
       "      <th>sample_date</th>\n",
       "      <th>run_number</th>\n",
       "      <th>process_method</th>\n",
       "      <th>filename_lr</th>\n",
       "      <th>Ammonia-N</th>\n",
       "      <th>N</th>\n",
       "      <th>Moisture</th>\n",
       "      <th>P</th>\n",
       "      <th>K</th>\n",
       "      <th>S</th>\n",
       "    </tr>\n",
       "  </thead>\n",
       "  <tbody>\n",
       "    <tr>\n",
       "      <th>0</th>\n",
       "      <td>File: Users\\stell\\Desktop\\StellarDat\\North 15...</td>\n",
       "      <td>40</td>\n",
       "      <td>North 15 - 8-13-20 #1.TRM</td>\n",
       "      <td>north 15</td>\n",
       "      <td>2020-08-13</td>\n",
       "      <td>1</td>\n",
       "      <td></td>\n",
       "      <td>Lab Report - North 15 - 8-13-20.csv</td>\n",
       "      <td>0.37</td>\n",
       "      <td>3.91</td>\n",
       "      <td>26.0</td>\n",
       "      <td>3.27</td>\n",
       "      <td>2.17</td>\n",
       "      <td>3620.0</td>\n",
       "    </tr>\n",
       "    <tr>\n",
       "      <th>1</th>\n",
       "      <td>File: Users\\stell\\Desktop\\StellarDat\\South 10...</td>\n",
       "      <td>40</td>\n",
       "      <td>South 10 - 7-8-20 #2.TRM</td>\n",
       "      <td>south 10</td>\n",
       "      <td>2020-07-08</td>\n",
       "      <td>2</td>\n",
       "      <td></td>\n",
       "      <td>Lab Report - South 10 - 7-8-20.csv</td>\n",
       "      <td>0.32</td>\n",
       "      <td>3.15</td>\n",
       "      <td>32.0</td>\n",
       "      <td>2.39</td>\n",
       "      <td>1.92</td>\n",
       "      <td>2660.0</td>\n",
       "    </tr>\n",
       "    <tr>\n",
       "      <th>2</th>\n",
       "      <td>File: Users\\stell\\Desktop\\StellarDat\\West 3 -...</td>\n",
       "      <td>30</td>\n",
       "      <td>West 3 - 7-6-20 #3.TRM</td>\n",
       "      <td>west 3</td>\n",
       "      <td>2020-07-06</td>\n",
       "      <td>3</td>\n",
       "      <td></td>\n",
       "      <td>Lab Report - West 3 - 7-6-20.csv</td>\n",
       "      <td>0.24</td>\n",
       "      <td>2.65</td>\n",
       "      <td>18.7</td>\n",
       "      <td>4.94</td>\n",
       "      <td>3.35</td>\n",
       "      <td>5310.0</td>\n",
       "    </tr>\n",
       "    <tr>\n",
       "      <th>3</th>\n",
       "      <td>File: Users\\stell\\Desktop\\StellarDat\\West 14 ...</td>\n",
       "      <td>30</td>\n",
       "      <td>West 14 - 8-13-20 #1.TRM</td>\n",
       "      <td>west 14</td>\n",
       "      <td>2020-08-13</td>\n",
       "      <td>1</td>\n",
       "      <td></td>\n",
       "      <td>Lab Report - West 14 - 8-13-20.csv</td>\n",
       "      <td>0.53</td>\n",
       "      <td>3.96</td>\n",
       "      <td>25.4</td>\n",
       "      <td>3.60</td>\n",
       "      <td>2.27</td>\n",
       "      <td>4240.0</td>\n",
       "    </tr>\n",
       "    <tr>\n",
       "      <th>4</th>\n",
       "      <td>File: Users\\stell\\Desktop\\StellarDat\\Dows Wet...</td>\n",
       "      <td>35</td>\n",
       "      <td>Dows Wet - 7-9-20 #1.TRM</td>\n",
       "      <td>dows wet</td>\n",
       "      <td>2020-07-09</td>\n",
       "      <td>1</td>\n",
       "      <td></td>\n",
       "      <td>Lab Report - Dows Wet - 7-9-20.csv</td>\n",
       "      <td>1.12</td>\n",
       "      <td>1.87</td>\n",
       "      <td>76.7</td>\n",
       "      <td>1.13</td>\n",
       "      <td>0.73</td>\n",
       "      <td>1380.0</td>\n",
       "    </tr>\n",
       "  </tbody>\n",
       "</table>\n",
       "</div>"
      ],
      "text/plain": [
       "                                          extra_info integration_time  \\\n",
       "0   File: Users\\stell\\Desktop\\StellarDat\\North 15...               40   \n",
       "1   File: Users\\stell\\Desktop\\StellarDat\\South 10...               40   \n",
       "2   File: Users\\stell\\Desktop\\StellarDat\\West 3 -...               30   \n",
       "3   File: Users\\stell\\Desktop\\StellarDat\\West 14 ...               30   \n",
       "4   File: Users\\stell\\Desktop\\StellarDat\\Dows Wet...               35   \n",
       "\n",
       "                filename_trm sample_name sample_date run_number  \\\n",
       "0  North 15 - 8-13-20 #1.TRM    north 15  2020-08-13          1   \n",
       "1   South 10 - 7-8-20 #2.TRM    south 10  2020-07-08          2   \n",
       "2     West 3 - 7-6-20 #3.TRM      west 3  2020-07-06          3   \n",
       "3   West 14 - 8-13-20 #1.TRM     west 14  2020-08-13          1   \n",
       "4   Dows Wet - 7-9-20 #1.TRM    dows wet  2020-07-09          1   \n",
       "\n",
       "  process_method                          filename_lr  Ammonia-N     N  \\\n",
       "0                 Lab Report - North 15 - 8-13-20.csv       0.37  3.91   \n",
       "1                  Lab Report - South 10 - 7-8-20.csv       0.32  3.15   \n",
       "2                    Lab Report - West 3 - 7-6-20.csv       0.24  2.65   \n",
       "3                  Lab Report - West 14 - 8-13-20.csv       0.53  3.96   \n",
       "4                  Lab Report - Dows Wet - 7-9-20.csv       1.12  1.87   \n",
       "\n",
       "   Moisture     P     K       S  \n",
       "0      26.0  3.27  2.17  3620.0  \n",
       "1      32.0  2.39  1.92  2660.0  \n",
       "2      18.7  4.94  3.35  5310.0  \n",
       "3      25.4  3.60  2.27  4240.0  \n",
       "4      76.7  1.13  0.73  1380.0  "
      ]
     },
     "execution_count": 19,
     "metadata": {},
     "output_type": "execute_result"
    }
   ],
   "source": [
    "df.head()"
   ]
  },
  {
   "cell_type": "code",
   "execution_count": 20,
   "metadata": {},
   "outputs": [
    {
     "data": {
      "text/plain": [
       "count                                    487\n",
       "unique                                   126\n",
       "top       Lab Report - South 17 - 7-8-20.csv\n",
       "freq                                       6\n",
       "Name: filename_lr, dtype: object"
      ]
     },
     "execution_count": 20,
     "metadata": {},
     "output_type": "execute_result"
    }
   ],
   "source": [
    "df['filename_lr'].describe()"
   ]
  },
  {
   "cell_type": "code",
   "execution_count": 21,
   "metadata": {},
   "outputs": [
    {
     "data": {
      "text/html": [
       "<div>\n",
       "<style scoped>\n",
       "    .dataframe tbody tr th:only-of-type {\n",
       "        vertical-align: middle;\n",
       "    }\n",
       "\n",
       "    .dataframe tbody tr th {\n",
       "        vertical-align: top;\n",
       "    }\n",
       "\n",
       "    .dataframe thead th {\n",
       "        text-align: right;\n",
       "    }\n",
       "</style>\n",
       "<table border=\"1\" class=\"dataframe\">\n",
       "  <thead>\n",
       "    <tr style=\"text-align: right;\">\n",
       "      <th></th>\n",
       "      <th>extra_info</th>\n",
       "      <th>integration_time</th>\n",
       "      <th>filename_trm</th>\n",
       "      <th>sample_name</th>\n",
       "      <th>sample_date</th>\n",
       "      <th>run_number</th>\n",
       "      <th>process_method</th>\n",
       "      <th>filename_lr</th>\n",
       "      <th>Ammonia-N</th>\n",
       "      <th>N</th>\n",
       "      <th>Moisture</th>\n",
       "      <th>P</th>\n",
       "      <th>K</th>\n",
       "      <th>S</th>\n",
       "    </tr>\n",
       "  </thead>\n",
       "  <tbody>\n",
       "  </tbody>\n",
       "</table>\n",
       "</div>"
      ],
      "text/plain": [
       "Empty DataFrame\n",
       "Columns: [extra_info, integration_time, filename_trm, sample_name, sample_date, run_number, process_method, filename_lr, Ammonia-N, N, Moisture, P, K, S]\n",
       "Index: []"
      ]
     },
     "execution_count": 21,
     "metadata": {},
     "output_type": "execute_result"
    }
   ],
   "source": [
    "df[df['filename_lr'].isna()]"
   ]
  },
  {
   "cell_type": "code",
   "execution_count": 22,
   "metadata": {},
   "outputs": [
    {
     "data": {
      "text/plain": [
       "487"
      ]
     },
     "execution_count": 22,
     "metadata": {},
     "output_type": "execute_result"
    }
   ],
   "source": [
    "len(df.index)"
   ]
  },
  {
   "cell_type": "code",
   "execution_count": 23,
   "metadata": {},
   "outputs": [
    {
     "data": {
      "text/plain": [
       "484"
      ]
     },
     "execution_count": 23,
     "metadata": {},
     "output_type": "execute_result"
    }
   ],
   "source": [
    "df['filename_trm'].nunique()"
   ]
  },
  {
   "cell_type": "code",
   "execution_count": 30,
   "metadata": {},
   "outputs": [
    {
     "data": {
      "text/plain": [
       "Hampton Coulter - 6-15-20 #1.TRM    2\n",
       "Hampton Coulter - 6-15-20 #2.TRM    2\n",
       "Hampton Coulter - 6-15-20 #3.TRM    2\n",
       "North 9 - 7-9-20 #2.TRM             1\n",
       "West 5 - 7-6-20 #1.TRM              1\n",
       "                                   ..\n",
       "West 3 (Ground) - 7-6-20 #1.TRM     1\n",
       "South 15 - 8-13-20 #3.TRM           1\n",
       "West 12 - 8-13-20 #1.TRM            1\n",
       "North 1 - 8-13-20 #2.TRM            1\n",
       "South 4 - 7-8-20 #1.TRM             1\n",
       "Name: filename_trm, Length: 484, dtype: int64"
      ]
     },
     "execution_count": 30,
     "metadata": {},
     "output_type": "execute_result"
    }
   ],
   "source": [
    "filename_counts = df['filename_trm'].value_counts()\n",
    "filename_counts"
   ]
  },
  {
   "cell_type": "code",
   "execution_count": 31,
   "metadata": {},
   "outputs": [
    {
     "data": {
      "text/plain": [
       "Hampton Coulter - 6-15-20 #1.TRM    2\n",
       "Hampton Coulter - 6-15-20 #2.TRM    2\n",
       "Hampton Coulter - 6-15-20 #3.TRM    2\n",
       "Name: filename_trm, dtype: int64"
      ]
     },
     "execution_count": 31,
     "metadata": {},
     "output_type": "execute_result"
    }
   ],
   "source": [
    "filename_counts[filename_counts > 1]"
   ]
  },
  {
   "cell_type": "code",
   "execution_count": 28,
   "metadata": {},
   "outputs": [
    {
     "data": {
      "text/plain": [
       "484"
      ]
     },
     "execution_count": 28,
     "metadata": {},
     "output_type": "execute_result"
    }
   ],
   "source": [
    "len(df.drop_duplicates(subset=['filename_trm']))"
   ]
  },
  {
   "cell_type": "code",
   "execution_count": null,
   "metadata": {},
   "outputs": [],
   "source": []
  }
 ],
 "metadata": {
  "kernelspec": {
   "display_name": ".spectroscopy",
   "language": "python",
   "name": ".spectroscopy"
  },
  "language_info": {
   "codemirror_mode": {
    "name": "ipython",
    "version": 3
   },
   "file_extension": ".py",
   "mimetype": "text/x-python",
   "name": "python",
   "nbconvert_exporter": "python",
   "pygments_lexer": "ipython3",
   "version": "3.7.3"
  }
 },
 "nbformat": 4,
 "nbformat_minor": 4
}

{
 "cells": [
  {
   "cell_type": "code",
   "execution_count": 1,
   "metadata": {},
   "outputs": [],
   "source": [
    "import os\n",
    "import sys\n",
    "\n",
    "\n",
    "import matplotlib.pyplot as plt\n",
    "%matplotlib inline\n",
    "import numpy as np\n",
    "import pickle"
   ]
  },
  {
   "cell_type": "code",
   "execution_count": 2,
   "metadata": {},
   "outputs": [],
   "source": [
    "from sklearn.inspection import permutation_importance"
   ]
  },
  {
   "cell_type": "code",
   "execution_count": 3,
   "metadata": {},
   "outputs": [],
   "source": [
    "from sklearn.linear_model import LinearRegression"
   ]
  },
  {
   "cell_type": "code",
   "execution_count": 4,
   "metadata": {},
   "outputs": [],
   "source": [
    "from sklearn.metrics import mean_squared_error"
   ]
  },
  {
   "cell_type": "code",
   "execution_count": 5,
   "metadata": {},
   "outputs": [],
   "source": [
    "from sklearn.model_selection import train_test_split"
   ]
  },
  {
   "cell_type": "code",
   "execution_count": 6,
   "metadata": {},
   "outputs": [],
   "source": [
    "from sklearn.feature_selection import SelectFromModel"
   ]
  },
  {
   "cell_type": "code",
   "execution_count": 7,
   "metadata": {},
   "outputs": [],
   "source": [
    "from sklearn.ensemble import RandomForestRegressor"
   ]
  },
  {
   "cell_type": "code",
   "execution_count": 10,
   "metadata": {},
   "outputs": [],
   "source": [
    "from statsmodels.regression.linear_model import OLS"
   ]
  },
  {
   "cell_type": "code",
   "execution_count": 11,
   "metadata": {},
   "outputs": [],
   "source": [
    "module_path = os.path.abspath(os.path.join('..'))\n",
    "if module_path not in sys.path:\n",
    "    sys.path.insert(0, module_path)"
   ]
  },
  {
   "cell_type": "code",
   "execution_count": 12,
   "metadata": {},
   "outputs": [],
   "source": [
    "from spectroscopy.utils import load_training_data, get_wavelength_columns\n",
    "from spectroscopy.model import score_model"
   ]
  },
  {
   "cell_type": "markdown",
   "metadata": {},
   "source": [
    "# modeling"
   ]
  },
  {
   "cell_type": "markdown",
   "metadata": {},
   "source": [
    "note: \"I think the best is the ground samples from South\""
   ]
  },
  {
   "cell_type": "markdown",
   "metadata": {},
   "source": [
    "# load in data"
   ]
  },
  {
   "cell_type": "code",
   "execution_count": 13,
   "metadata": {},
   "outputs": [],
   "source": [
    "df = load_training_data()"
   ]
  },
  {
   "cell_type": "code",
   "execution_count": 14,
   "metadata": {},
   "outputs": [
    {
     "data": {
      "text/html": [
       "<div>\n",
       "<style scoped>\n",
       "    .dataframe tbody tr th:only-of-type {\n",
       "        vertical-align: middle;\n",
       "    }\n",
       "\n",
       "    .dataframe tbody tr th {\n",
       "        vertical-align: top;\n",
       "    }\n",
       "\n",
       "    .dataframe thead th {\n",
       "        text-align: right;\n",
       "    }\n",
       "</style>\n",
       "<table border=\"1\" class=\"dataframe\">\n",
       "  <thead>\n",
       "    <tr style=\"text-align: right;\">\n",
       "      <th></th>\n",
       "      <th>862.13</th>\n",
       "      <th>863.88</th>\n",
       "      <th>865.63</th>\n",
       "      <th>867.38</th>\n",
       "      <th>869.13</th>\n",
       "      <th>870.88</th>\n",
       "      <th>872.63</th>\n",
       "      <th>874.38</th>\n",
       "      <th>876.13</th>\n",
       "      <th>877.88</th>\n",
       "      <th>...</th>\n",
       "      <th>1749.38</th>\n",
       "      <th>1751.13</th>\n",
       "      <th>1752.88</th>\n",
       "      <th>extra_info</th>\n",
       "      <th>filename</th>\n",
       "      <th>sample_name</th>\n",
       "      <th>sample_date</th>\n",
       "      <th>run_number</th>\n",
       "      <th>process_method</th>\n",
       "      <th>Ammonia-N</th>\n",
       "    </tr>\n",
       "  </thead>\n",
       "  <tbody>\n",
       "    <tr>\n",
       "      <th>0</th>\n",
       "      <td>0.001</td>\n",
       "      <td>0.001</td>\n",
       "      <td>0.001</td>\n",
       "      <td>-27.7720</td>\n",
       "      <td>-110.080</td>\n",
       "      <td>-43.0240</td>\n",
       "      <td>50.165</td>\n",
       "      <td>52.641</td>\n",
       "      <td>52.146</td>\n",
       "      <td>50.020</td>\n",
       "      <td>...</td>\n",
       "      <td>42.985</td>\n",
       "      <td>43.094</td>\n",
       "      <td>43.248</td>\n",
       "      <td>File: Users\\stell\\Desktop\\StellarDat\\South 7 ...</td>\n",
       "      <td>South 7 - 7-8-20 #1.TRM</td>\n",
       "      <td>south 7</td>\n",
       "      <td>2020-07-08 00:00:00</td>\n",
       "      <td>1</td>\n",
       "      <td>NaN</td>\n",
       "      <td>0.47</td>\n",
       "    </tr>\n",
       "    <tr>\n",
       "      <th>1</th>\n",
       "      <td>0.001</td>\n",
       "      <td>0.001</td>\n",
       "      <td>0.001</td>\n",
       "      <td>-205.5200</td>\n",
       "      <td>-785.090</td>\n",
       "      <td>-407.9100</td>\n",
       "      <td>44.607</td>\n",
       "      <td>46.916</td>\n",
       "      <td>46.875</td>\n",
       "      <td>45.709</td>\n",
       "      <td>...</td>\n",
       "      <td>40.831</td>\n",
       "      <td>40.827</td>\n",
       "      <td>40.896</td>\n",
       "      <td>File: Users\\stell\\Desktop\\StellarDat\\South 1 ...</td>\n",
       "      <td>South 1 - 7-8-20-20 #3.TRM</td>\n",
       "      <td>south 1</td>\n",
       "      <td>2020-07-08 20:00:00</td>\n",
       "      <td>3</td>\n",
       "      <td>NaN</td>\n",
       "      <td>0.21</td>\n",
       "    </tr>\n",
       "    <tr>\n",
       "      <th>2</th>\n",
       "      <td>0.001</td>\n",
       "      <td>0.001</td>\n",
       "      <td>0.001</td>\n",
       "      <td>-40.4680</td>\n",
       "      <td>-160.080</td>\n",
       "      <td>-67.7330</td>\n",
       "      <td>60.219</td>\n",
       "      <td>62.969</td>\n",
       "      <td>62.520</td>\n",
       "      <td>60.343</td>\n",
       "      <td>...</td>\n",
       "      <td>55.787</td>\n",
       "      <td>55.854</td>\n",
       "      <td>55.982</td>\n",
       "      <td>File: Users\\stell\\Desktop\\StellarDat\\South 8 ...</td>\n",
       "      <td>South 8 - 7-8-20 #3.TRM</td>\n",
       "      <td>south 8</td>\n",
       "      <td>2020-07-08 00:00:00</td>\n",
       "      <td>3</td>\n",
       "      <td>NaN</td>\n",
       "      <td>0.33</td>\n",
       "    </tr>\n",
       "    <tr>\n",
       "      <th>3</th>\n",
       "      <td>0.001</td>\n",
       "      <td>0.001</td>\n",
       "      <td>0.001</td>\n",
       "      <td>-6.3474</td>\n",
       "      <td>-29.575</td>\n",
       "      <td>-0.4154</td>\n",
       "      <td>51.103</td>\n",
       "      <td>53.461</td>\n",
       "      <td>52.857</td>\n",
       "      <td>50.724</td>\n",
       "      <td>...</td>\n",
       "      <td>43.885</td>\n",
       "      <td>44.003</td>\n",
       "      <td>44.161</td>\n",
       "      <td>File: Users\\stell\\Desktop\\StellarDat\\South 10...</td>\n",
       "      <td>South 10 - 7-8-20 #2.TRM</td>\n",
       "      <td>south 10</td>\n",
       "      <td>2020-07-08 00:00:00</td>\n",
       "      <td>2</td>\n",
       "      <td>NaN</td>\n",
       "      <td>0.32</td>\n",
       "    </tr>\n",
       "    <tr>\n",
       "      <th>4</th>\n",
       "      <td>0.001</td>\n",
       "      <td>0.001</td>\n",
       "      <td>0.001</td>\n",
       "      <td>-6.3474</td>\n",
       "      <td>-30.279</td>\n",
       "      <td>1.4999</td>\n",
       "      <td>58.542</td>\n",
       "      <td>61.196</td>\n",
       "      <td>60.665</td>\n",
       "      <td>58.458</td>\n",
       "      <td>...</td>\n",
       "      <td>52.137</td>\n",
       "      <td>52.260</td>\n",
       "      <td>52.406</td>\n",
       "      <td>File: Users\\stell\\Desktop\\StellarDat\\South 10...</td>\n",
       "      <td>South 10 - 7-8-20 #3.TRM</td>\n",
       "      <td>south 10</td>\n",
       "      <td>2020-07-08 00:00:00</td>\n",
       "      <td>3</td>\n",
       "      <td>NaN</td>\n",
       "      <td>0.32</td>\n",
       "    </tr>\n",
       "  </tbody>\n",
       "</table>\n",
       "<p>5 rows × 517 columns</p>\n",
       "</div>"
      ],
      "text/plain": [
       "   862.13  863.88  865.63    867.38   869.13    870.88  872.63  874.38  \\\n",
       "0   0.001   0.001   0.001  -27.7720 -110.080  -43.0240  50.165  52.641   \n",
       "1   0.001   0.001   0.001 -205.5200 -785.090 -407.9100  44.607  46.916   \n",
       "2   0.001   0.001   0.001  -40.4680 -160.080  -67.7330  60.219  62.969   \n",
       "3   0.001   0.001   0.001   -6.3474  -29.575   -0.4154  51.103  53.461   \n",
       "4   0.001   0.001   0.001   -6.3474  -30.279    1.4999  58.542  61.196   \n",
       "\n",
       "   876.13  877.88  ...  1749.38  1751.13  1752.88  \\\n",
       "0  52.146  50.020  ...   42.985   43.094   43.248   \n",
       "1  46.875  45.709  ...   40.831   40.827   40.896   \n",
       "2  62.520  60.343  ...   55.787   55.854   55.982   \n",
       "3  52.857  50.724  ...   43.885   44.003   44.161   \n",
       "4  60.665  58.458  ...   52.137   52.260   52.406   \n",
       "\n",
       "                                          extra_info  \\\n",
       "0   File: Users\\stell\\Desktop\\StellarDat\\South 7 ...   \n",
       "1   File: Users\\stell\\Desktop\\StellarDat\\South 1 ...   \n",
       "2   File: Users\\stell\\Desktop\\StellarDat\\South 8 ...   \n",
       "3   File: Users\\stell\\Desktop\\StellarDat\\South 10...   \n",
       "4   File: Users\\stell\\Desktop\\StellarDat\\South 10...   \n",
       "\n",
       "                     filename  sample_name          sample_date  run_number  \\\n",
       "0     South 7 - 7-8-20 #1.TRM      south 7  2020-07-08 00:00:00           1   \n",
       "1  South 1 - 7-8-20-20 #3.TRM      south 1  2020-07-08 20:00:00           3   \n",
       "2     South 8 - 7-8-20 #3.TRM      south 8  2020-07-08 00:00:00           3   \n",
       "3    South 10 - 7-8-20 #2.TRM     south 10  2020-07-08 00:00:00           2   \n",
       "4    South 10 - 7-8-20 #3.TRM     south 10  2020-07-08 00:00:00           3   \n",
       "\n",
       "   process_method  Ammonia-N  \n",
       "0             NaN       0.47  \n",
       "1             NaN       0.21  \n",
       "2             NaN       0.33  \n",
       "3             NaN       0.32  \n",
       "4             NaN       0.32  \n",
       "\n",
       "[5 rows x 517 columns]"
      ]
     },
     "execution_count": 14,
     "metadata": {},
     "output_type": "execute_result"
    }
   ],
   "source": [
    "df.head()"
   ]
  },
  {
   "cell_type": "code",
   "execution_count": 15,
   "metadata": {},
   "outputs": [
    {
     "data": {
      "text/plain": [
       "Index(['862.13', '863.88', '865.63', '867.38', '869.13', '870.88', '872.63',\n",
       "       '874.38', '876.13', '877.88',\n",
       "       ...\n",
       "       '1749.38', '1751.13', '1752.88', 'extra_info', 'filename',\n",
       "       'sample_name', 'sample_date', 'run_number', 'process_method',\n",
       "       'Ammonia-N'],\n",
       "      dtype='object', length=517)"
      ]
     },
     "execution_count": 15,
     "metadata": {},
     "output_type": "execute_result"
    }
   ],
   "source": [
    "df.columns"
   ]
  },
  {
   "cell_type": "code",
   "execution_count": 16,
   "metadata": {},
   "outputs": [],
   "source": [
    "feature_columns = get_wavelength_columns(df)"
   ]
  },
  {
   "cell_type": "code",
   "execution_count": 17,
   "metadata": {},
   "outputs": [],
   "source": [
    "X, y = df[feature_columns], df['Ammonia-N']"
   ]
  },
  {
   "cell_type": "code",
   "execution_count": 18,
   "metadata": {},
   "outputs": [
    {
     "data": {
      "text/plain": [
       "0.32    12\n",
       "0.42     6\n",
       "0.44     6\n",
       "0.33     6\n",
       "0.21     6\n",
       "0.12     6\n",
       "0.15     6\n",
       "0.20     6\n",
       "0.37     6\n",
       "0.39     6\n",
       "0.40     3\n",
       "0.41     3\n",
       "0.18     3\n",
       "0.38     3\n",
       "0.23     3\n",
       "0.47     3\n",
       "2.24     3\n",
       "0.57     3\n",
       "0.51     3\n",
       "0.17     3\n",
       "Name: Ammonia-N, dtype: int64"
      ]
     },
     "execution_count": 18,
     "metadata": {},
     "output_type": "execute_result"
    }
   ],
   "source": [
    "y.value_counts(dropna=False)"
   ]
  },
  {
   "cell_type": "code",
   "execution_count": 19,
   "metadata": {},
   "outputs": [
    {
     "data": {
      "text/plain": [
       "count    96.000000\n",
       "mean      0.378125\n",
       "std       0.356398\n",
       "min       0.120000\n",
       "25%       0.207500\n",
       "50%       0.330000\n",
       "75%       0.412500\n",
       "max       2.240000\n",
       "Name: Ammonia-N, dtype: float64"
      ]
     },
     "execution_count": 19,
     "metadata": {},
     "output_type": "execute_result"
    }
   ],
   "source": [
    "y.describe()"
   ]
  },
  {
   "cell_type": "code",
   "execution_count": 20,
   "metadata": {},
   "outputs": [
    {
     "data": {
      "text/plain": [
       "<AxesSubplot:>"
      ]
     },
     "execution_count": 20,
     "metadata": {},
     "output_type": "execute_result"
    },
    {
     "data": {
      "image/png": "[encoded data removed]",
      "text/plain": [
       "<Figure size 432x288 with 1 Axes>"
      ]
     },
     "metadata": {
      "needs_background": "light"
     },
     "output_type": "display_data"
    }
   ],
   "source": [
    "y.hist()"
   ]
  },
  {
   "cell_type": "code",
   "execution_count": 21,
   "metadata": {},
   "outputs": [
    {
     "data": {
      "text/html": [
       "<div>\n",
       "<style scoped>\n",
       "    .dataframe tbody tr th:only-of-type {\n",
       "        vertical-align: middle;\n",
       "    }\n",
       "\n",
       "    .dataframe tbody tr th {\n",
       "        vertical-align: top;\n",
       "    }\n",
       "\n",
       "    .dataframe thead th {\n",
       "        text-align: right;\n",
       "    }\n",
       "</style>\n",
       "<table border=\"1\" class=\"dataframe\">\n",
       "  <thead>\n",
       "    <tr style=\"text-align: right;\">\n",
       "      <th></th>\n",
       "      <th>862.13</th>\n",
       "      <th>863.88</th>\n",
       "      <th>865.63</th>\n",
       "      <th>867.38</th>\n",
       "      <th>869.13</th>\n",
       "      <th>870.88</th>\n",
       "      <th>872.63</th>\n",
       "      <th>874.38</th>\n",
       "      <th>876.13</th>\n",
       "      <th>877.88</th>\n",
       "      <th>...</th>\n",
       "      <th>1737.13</th>\n",
       "      <th>1738.88</th>\n",
       "      <th>1740.63</th>\n",
       "      <th>1742.38</th>\n",
       "      <th>1744.13</th>\n",
       "      <th>1745.88</th>\n",
       "      <th>1747.63</th>\n",
       "      <th>1749.38</th>\n",
       "      <th>1751.13</th>\n",
       "      <th>1752.88</th>\n",
       "    </tr>\n",
       "  </thead>\n",
       "  <tbody>\n",
       "    <tr>\n",
       "      <th>count</th>\n",
       "      <td>9.600000e+01</td>\n",
       "      <td>9.600000e+01</td>\n",
       "      <td>9.600000e+01</td>\n",
       "      <td>96.000000</td>\n",
       "      <td>96.000000</td>\n",
       "      <td>96.000000</td>\n",
       "      <td>96.000000</td>\n",
       "      <td>96.00000</td>\n",
       "      <td>96.000000</td>\n",
       "      <td>96.000000</td>\n",
       "      <td>...</td>\n",
       "      <td>96.000000</td>\n",
       "      <td>96.000000</td>\n",
       "      <td>96.000000</td>\n",
       "      <td>96.000000</td>\n",
       "      <td>96.000000</td>\n",
       "      <td>96.000000</td>\n",
       "      <td>96.000000</td>\n",
       "      <td>96.000000</td>\n",
       "      <td>96.000000</td>\n",
       "      <td>96.000000</td>\n",
       "    </tr>\n",
       "    <tr>\n",
       "      <th>mean</th>\n",
       "      <td>1.000000e-03</td>\n",
       "      <td>1.000000e-03</td>\n",
       "      <td>1.000000e-03</td>\n",
       "      <td>-22.240277</td>\n",
       "      <td>-83.397928</td>\n",
       "      <td>-17.856960</td>\n",
       "      <td>60.262937</td>\n",
       "      <td>62.50099</td>\n",
       "      <td>62.055229</td>\n",
       "      <td>60.223781</td>\n",
       "      <td>...</td>\n",
       "      <td>54.720625</td>\n",
       "      <td>54.825083</td>\n",
       "      <td>54.946271</td>\n",
       "      <td>55.084667</td>\n",
       "      <td>55.206042</td>\n",
       "      <td>55.292979</td>\n",
       "      <td>55.358396</td>\n",
       "      <td>55.430375</td>\n",
       "      <td>55.516292</td>\n",
       "      <td>55.625792</td>\n",
       "    </tr>\n",
       "    <tr>\n",
       "      <th>std</th>\n",
       "      <td>2.179787e-19</td>\n",
       "      <td>2.179787e-19</td>\n",
       "      <td>2.179787e-19</td>\n",
       "      <td>78.400637</td>\n",
       "      <td>306.947040</td>\n",
       "      <td>178.280043</td>\n",
       "      <td>8.797055</td>\n",
       "      <td>8.87673</td>\n",
       "      <td>8.866235</td>\n",
       "      <td>8.819435</td>\n",
       "      <td>...</td>\n",
       "      <td>9.562671</td>\n",
       "      <td>9.566774</td>\n",
       "      <td>9.560269</td>\n",
       "      <td>9.547924</td>\n",
       "      <td>9.538950</td>\n",
       "      <td>9.543365</td>\n",
       "      <td>9.554521</td>\n",
       "      <td>9.558817</td>\n",
       "      <td>9.558564</td>\n",
       "      <td>9.543163</td>\n",
       "    </tr>\n",
       "    <tr>\n",
       "      <th>min</th>\n",
       "      <td>1.000000e-03</td>\n",
       "      <td>1.000000e-03</td>\n",
       "      <td>1.000000e-03</td>\n",
       "      <td>-219.800000</td>\n",
       "      <td>-831.610000</td>\n",
       "      <td>-424.710000</td>\n",
       "      <td>35.295000</td>\n",
       "      <td>36.58600</td>\n",
       "      <td>36.099000</td>\n",
       "      <td>34.592000</td>\n",
       "      <td>...</td>\n",
       "      <td>29.977000</td>\n",
       "      <td>30.166000</td>\n",
       "      <td>30.291000</td>\n",
       "      <td>30.434000</td>\n",
       "      <td>30.538000</td>\n",
       "      <td>30.640000</td>\n",
       "      <td>30.768000</td>\n",
       "      <td>30.876000</td>\n",
       "      <td>30.999000</td>\n",
       "      <td>31.153000</td>\n",
       "    </tr>\n",
       "    <tr>\n",
       "      <th>25%</th>\n",
       "      <td>1.000000e-03</td>\n",
       "      <td>1.000000e-03</td>\n",
       "      <td>1.000000e-03</td>\n",
       "      <td>-32.401250</td>\n",
       "      <td>-132.792500</td>\n",
       "      <td>-53.935500</td>\n",
       "      <td>57.169000</td>\n",
       "      <td>59.12750</td>\n",
       "      <td>58.713000</td>\n",
       "      <td>56.984250</td>\n",
       "      <td>...</td>\n",
       "      <td>50.890750</td>\n",
       "      <td>51.008750</td>\n",
       "      <td>51.129750</td>\n",
       "      <td>51.268750</td>\n",
       "      <td>51.368000</td>\n",
       "      <td>51.377000</td>\n",
       "      <td>51.376250</td>\n",
       "      <td>51.391750</td>\n",
       "      <td>51.435250</td>\n",
       "      <td>51.555250</td>\n",
       "    </tr>\n",
       "    <tr>\n",
       "      <th>50%</th>\n",
       "      <td>1.000000e-03</td>\n",
       "      <td>1.000000e-03</td>\n",
       "      <td>1.000000e-03</td>\n",
       "      <td>-13.299500</td>\n",
       "      <td>-50.816000</td>\n",
       "      <td>-3.153650</td>\n",
       "      <td>61.323500</td>\n",
       "      <td>63.46150</td>\n",
       "      <td>62.906500</td>\n",
       "      <td>61.202000</td>\n",
       "      <td>...</td>\n",
       "      <td>55.781000</td>\n",
       "      <td>55.862000</td>\n",
       "      <td>55.935500</td>\n",
       "      <td>56.041500</td>\n",
       "      <td>56.159000</td>\n",
       "      <td>56.247500</td>\n",
       "      <td>56.335500</td>\n",
       "      <td>56.446000</td>\n",
       "      <td>56.577000</td>\n",
       "      <td>56.677000</td>\n",
       "    </tr>\n",
       "    <tr>\n",
       "      <th>75%</th>\n",
       "      <td>1.000000e-03</td>\n",
       "      <td>1.000000e-03</td>\n",
       "      <td>1.000000e-03</td>\n",
       "      <td>16.248750</td>\n",
       "      <td>58.035750</td>\n",
       "      <td>53.004500</td>\n",
       "      <td>66.452250</td>\n",
       "      <td>68.46875</td>\n",
       "      <td>68.093750</td>\n",
       "      <td>66.410000</td>\n",
       "      <td>...</td>\n",
       "      <td>60.895750</td>\n",
       "      <td>61.000500</td>\n",
       "      <td>61.141000</td>\n",
       "      <td>61.309250</td>\n",
       "      <td>61.440000</td>\n",
       "      <td>61.523750</td>\n",
       "      <td>61.544250</td>\n",
       "      <td>61.555000</td>\n",
       "      <td>61.646500</td>\n",
       "      <td>61.728750</td>\n",
       "    </tr>\n",
       "    <tr>\n",
       "      <th>max</th>\n",
       "      <td>1.000000e-03</td>\n",
       "      <td>1.000000e-03</td>\n",
       "      <td>1.000000e-03</td>\n",
       "      <td>101.090000</td>\n",
       "      <td>464.490000</td>\n",
       "      <td>369.440000</td>\n",
       "      <td>76.971000</td>\n",
       "      <td>78.99300</td>\n",
       "      <td>78.589000</td>\n",
       "      <td>76.930000</td>\n",
       "      <td>...</td>\n",
       "      <td>73.405000</td>\n",
       "      <td>73.463000</td>\n",
       "      <td>73.491000</td>\n",
       "      <td>73.553000</td>\n",
       "      <td>73.608000</td>\n",
       "      <td>73.651000</td>\n",
       "      <td>73.713000</td>\n",
       "      <td>73.801000</td>\n",
       "      <td>73.876000</td>\n",
       "      <td>73.898000</td>\n",
       "    </tr>\n",
       "  </tbody>\n",
       "</table>\n",
       "<p>8 rows × 510 columns</p>\n",
       "</div>"
      ],
      "text/plain": [
       "             862.13        863.88        865.63      867.38      869.13  \\\n",
       "count  9.600000e+01  9.600000e+01  9.600000e+01   96.000000   96.000000   \n",
       "mean   1.000000e-03  1.000000e-03  1.000000e-03  -22.240277  -83.397928   \n",
       "std    2.179787e-19  2.179787e-19  2.179787e-19   78.400637  306.947040   \n",
       "min    1.000000e-03  1.000000e-03  1.000000e-03 -219.800000 -831.610000   \n",
       "25%    1.000000e-03  1.000000e-03  1.000000e-03  -32.401250 -132.792500   \n",
       "50%    1.000000e-03  1.000000e-03  1.000000e-03  -13.299500  -50.816000   \n",
       "75%    1.000000e-03  1.000000e-03  1.000000e-03   16.248750   58.035750   \n",
       "max    1.000000e-03  1.000000e-03  1.000000e-03  101.090000  464.490000   \n",
       "\n",
       "           870.88     872.63    874.38     876.13     877.88  ...    1737.13  \\\n",
       "count   96.000000  96.000000  96.00000  96.000000  96.000000  ...  96.000000   \n",
       "mean   -17.856960  60.262937  62.50099  62.055229  60.223781  ...  54.720625   \n",
       "std    178.280043   8.797055   8.87673   8.866235   8.819435  ...   9.562671   \n",
       "min   -424.710000  35.295000  36.58600  36.099000  34.592000  ...  29.977000   \n",
       "25%    -53.935500  57.169000  59.12750  58.713000  56.984250  ...  50.890750   \n",
       "50%     -3.153650  61.323500  63.46150  62.906500  61.202000  ...  55.781000   \n",
       "75%     53.004500  66.452250  68.46875  68.093750  66.410000  ...  60.895750   \n",
       "max    369.440000  76.971000  78.99300  78.589000  76.930000  ...  73.405000   \n",
       "\n",
       "         1738.88    1740.63    1742.38    1744.13    1745.88    1747.63  \\\n",
       "count  96.000000  96.000000  96.000000  96.000000  96.000000  96.000000   \n",
       "mean   54.825083  54.946271  55.084667  55.206042  55.292979  55.358396   \n",
       "std     9.566774   9.560269   9.547924   9.538950   9.543365   9.554521   \n",
       "min    30.166000  30.291000  30.434000  30.538000  30.640000  30.768000   \n",
       "25%    51.008750  51.129750  51.268750  51.368000  51.377000  51.376250   \n",
       "50%    55.862000  55.935500  56.041500  56.159000  56.247500  56.335500   \n",
       "75%    61.000500  61.141000  61.309250  61.440000  61.523750  61.544250   \n",
       "max    73.463000  73.491000  73.553000  73.608000  73.651000  73.713000   \n",
       "\n",
       "         1749.38    1751.13    1752.88  \n",
       "count  96.000000  96.000000  96.000000  \n",
       "mean   55.430375  55.516292  55.625792  \n",
       "std     9.558817   9.558564   9.543163  \n",
       "min    30.876000  30.999000  31.153000  \n",
       "25%    51.391750  51.435250  51.555250  \n",
       "50%    56.446000  56.577000  56.677000  \n",
       "75%    61.555000  61.646500  61.728750  \n",
       "max    73.801000  73.876000  73.898000  \n",
       "\n",
       "[8 rows x 510 columns]"
      ]
     },
     "execution_count": 21,
     "metadata": {},
     "output_type": "execute_result"
    }
   ],
   "source": [
    "X.describe()"
   ]
  },
  {
   "cell_type": "code",
   "execution_count": 22,
   "metadata": {},
   "outputs": [
    {
     "data": {
      "text/plain": [
       "510"
      ]
     },
     "execution_count": 22,
     "metadata": {},
     "output_type": "execute_result"
    }
   ],
   "source": [
    "len(X.columns)"
   ]
  },
  {
   "cell_type": "markdown",
   "metadata": {},
   "source": [
    "this is too many columns, too many features for linear regression. lets try a tree based model"
   ]
  },
  {
   "cell_type": "code",
   "execution_count": 23,
   "metadata": {},
   "outputs": [],
   "source": [
    "X_train, X_test, y_train, y_test = train_test_split(X, y, test_size=0.3, random_state=10)"
   ]
  },
  {
   "cell_type": "code",
   "execution_count": 24,
   "metadata": {},
   "outputs": [
    {
     "data": {
      "text/plain": [
       "(29, 29)"
      ]
     },
     "execution_count": 24,
     "metadata": {},
     "output_type": "execute_result"
    }
   ],
   "source": [
    "len(X_test), len(y_test)"
   ]
  },
  {
   "cell_type": "code",
   "execution_count": 25,
   "metadata": {},
   "outputs": [
    {
     "data": {
      "text/plain": [
       "(67, 67)"
      ]
     },
     "execution_count": 25,
     "metadata": {},
     "output_type": "execute_result"
    }
   ],
   "source": [
    "len(X_train), len(y_train)"
   ]
  },
  {
   "cell_type": "code",
   "execution_count": 26,
   "metadata": {},
   "outputs": [
    {
     "data": {
      "text/plain": [
       "<AxesSubplot:>"
      ]
     },
     "execution_count": 26,
     "metadata": {},
     "output_type": "execute_result"
    },
    {
     "data": {
      "image/png": "[encoded data removed]",
      "text/plain": [
       "<Figure size 432x288 with 1 Axes>"
      ]
     },
     "metadata": {
      "needs_background": "light"
     },
     "output_type": "display_data"
    }
   ],
   "source": [
    "y_test.hist()"
   ]
  },
  {
   "cell_type": "code",
   "execution_count": 27,
   "metadata": {},
   "outputs": [
    {
     "data": {
      "text/plain": [
       "<AxesSubplot:>"
      ]
     },
     "execution_count": 27,
     "metadata": {},
     "output_type": "execute_result"
    },
    {
     "data": {
      "image/png": "[encoded data removed]",
      "text/plain": [
       "<Figure size 432x288 with 1 Axes>"
      ]
     },
     "metadata": {
      "needs_background": "light"
     },
     "output_type": "display_data"
    }
   ],
   "source": [
    "y_train.hist()"
   ]
  },
  {
   "cell_type": "markdown",
   "metadata": {},
   "source": [
    "# fit baseline model to raw data"
   ]
  },
  {
   "cell_type": "code",
   "execution_count": 28,
   "metadata": {},
   "outputs": [],
   "source": [
    "model = RandomForestRegressor(random_state=10, max_depth=5, n_estimators=10)"
   ]
  },
  {
   "cell_type": "code",
   "execution_count": 29,
   "metadata": {},
   "outputs": [
    {
     "data": {
      "text/plain": [
       "RandomForestRegressor(max_depth=5, n_estimators=10, random_state=10)"
      ]
     },
     "execution_count": 29,
     "metadata": {},
     "output_type": "execute_result"
    }
   ],
   "source": [
    "model.fit(X_train, y_train)"
   ]
  },
  {
   "cell_type": "markdown",
   "metadata": {},
   "source": [
    "# score model"
   ]
  },
  {
   "cell_type": "code",
   "execution_count": 30,
   "metadata": {},
   "outputs": [],
   "source": [
    "num_features = 10"
   ]
  },
  {
   "cell_type": "code",
   "execution_count": 32,
   "metadata": {},
   "outputs": [],
   "source": [
    "# feature_names = X_train.columns\n",
    "# result = permutation_importance(model, X_train, y_train, n_repeats=10,\n",
    "#                                 random_state=42)\n",
    "# perm_sorted_idx = result.importances_mean.argsort()\n",
    "\n",
    "# tree_importance_sorted_idx = np.argsort(model.feature_importances_)\n",
    "# tree_indices = np.arange(0, len(model.feature_importances_)) + 0.5\n",
    "\n",
    "# fig, (ax1, ax2) = plt.subplots(1, 2, figsize=(12, 8))\n",
    "# ax1.barh(tree_indices,\n",
    "#          model.feature_importances_[tree_importance_sorted_idx][:num_features], height=0.7)\n",
    "# ax1.set_yticklabels(feature_names[tree_importance_sorted_idx])\n",
    "# ax1.set_yticks(tree_indices)\n",
    "# ax1.set_ylim((0, len(model.feature_importances_)))\n",
    "# ax2.boxplot(result.importances[perm_sorted_idx].T, vert=False,\n",
    "#             labels=feature_names[perm_sorted_idx])\n",
    "# fig.tight_layout()\n",
    "# plt.show()"
   ]
  },
  {
   "cell_type": "code",
   "execution_count": 33,
   "metadata": {},
   "outputs": [],
   "source": [
    "# def score_model(model, X_train, y_train, X_test, y_test):\n",
    "#     return {\n",
    "#         'train_r2':model.score(X_train, y_train),\n",
    "#         'train_rms3':np.sqrt(mean_squared_error(y_train, model.predict(X_train))),\n",
    "#         'test_r2':model.score(X_test, y_test),\n",
    "#         'test_rmse':np.sqrt(mean_squared_error(y_test, model.predict(X_test)))\n",
    "#     }"
   ]
  },
  {
   "cell_type": "code",
   "execution_count": 34,
   "metadata": {},
   "outputs": [
    {
     "data": {
      "text/plain": [
       "{'train_r2': 0.9413211239589321,\n",
       " 'train_mape': 13.329700732180335,\n",
       " 'train_rms3': 0.08419717198463864,\n",
       " 'test_r2': 0.9124522919605695,\n",
       " 'test_mape': 16.93873140444667,\n",
       " 'test_rmse': 0.10934243921153136}"
      ]
     },
     "execution_count": 34,
     "metadata": {},
     "output_type": "execute_result"
    }
   ],
   "source": [
    "score_model(model, X_train, y_train, X_test, y_test)"
   ]
  },
  {
   "cell_type": "markdown",
   "metadata": {},
   "source": [
    "# select K best features based on feature importance"
   ]
  },
  {
   "cell_type": "code",
   "execution_count": null,
   "metadata": {},
   "outputs": [],
   "source": [
    "feature_selector = SelectFromModel(model, prefit=True)"
   ]
  },
  {
   "cell_type": "code",
   "execution_count": null,
   "metadata": {},
   "outputs": [],
   "source": [
    "X_train_selected = feature_selector.transform(X_train)"
   ]
  },
  {
   "cell_type": "code",
   "execution_count": null,
   "metadata": {},
   "outputs": [],
   "source": [
    "X_train_selected.shape"
   ]
  },
  {
   "cell_type": "code",
   "execution_count": null,
   "metadata": {},
   "outputs": [],
   "source": [
    "len(feature_selector.get_support())"
   ]
  },
  {
   "cell_type": "code",
   "execution_count": null,
   "metadata": {},
   "outputs": [],
   "source": [
    "selected_features = X_test.columns[feature_selector.get_support()]"
   ]
  },
  {
   "cell_type": "code",
   "execution_count": null,
   "metadata": {},
   "outputs": [],
   "source": [
    "selected_features"
   ]
  },
  {
   "cell_type": "code",
   "execution_count": null,
   "metadata": {},
   "outputs": [],
   "source": [
    "X_test_selected = X_test[selected_features]"
   ]
  },
  {
   "cell_type": "code",
   "execution_count": null,
   "metadata": {},
   "outputs": [],
   "source": [
    "model.fit(X_train_selected, y_train)"
   ]
  },
  {
   "cell_type": "code",
   "execution_count": null,
   "metadata": {},
   "outputs": [],
   "source": [
    "score_model(model, X_train_selected, y_train, X_test_selected, y_test)"
   ]
  },
  {
   "cell_type": "markdown",
   "metadata": {},
   "source": [
    "this might be too many variable for a linear regression to handle. We might need to do some feature engineering to downsample these OR we can try using a model that will handle them better. but let's see how it does."
   ]
  },
  {
   "cell_type": "markdown",
   "metadata": {},
   "source": [
    "# plot residuals"
   ]
  },
  {
   "cell_type": "code",
   "execution_count": null,
   "metadata": {},
   "outputs": [],
   "source": [
    "y_pred = model.predict(X_test_selected)"
   ]
  },
  {
   "cell_type": "code",
   "execution_count": null,
   "metadata": {},
   "outputs": [],
   "source": [
    "plt.scatter(y_test, y_test-y_pred)"
   ]
  },
  {
   "cell_type": "code",
   "execution_count": null,
   "metadata": {},
   "outputs": [],
   "source": [
    "y_test.min()"
   ]
  },
  {
   "cell_type": "code",
   "execution_count": null,
   "metadata": {},
   "outputs": [],
   "source": [
    "y_test.max()"
   ]
  },
  {
   "cell_type": "code",
   "execution_count": null,
   "metadata": {},
   "outputs": [],
   "source": [
    "plt.figure(figsize=(10,10))\n",
    "plt.scatter(y_test, y_pred)\n",
    "plt.title('Ammonia-N Prediction from Machine Learning Spectroscopy Inference Model')\n",
    "plt.plot(np.linspace(0, 0.6, len(y_test)), np.linspace(0, 0.6, len(y_test)))\n",
    "plt.xlabel('True Ammonia-N')\n",
    "plt.ylabel('Predicted Ammonia-N')\n",
    "plt.xlim(0,0.6)\n",
    "plt.ylim(0,0.6)\n",
    "# plt.savefig('ammonia_prediction_vs_truth.png')"
   ]
  },
  {
   "cell_type": "code",
   "execution_count": null,
   "metadata": {},
   "outputs": [],
   "source": [
    "# regressor_OLS = OLS(endog = y_train, exog = X_train).fit()\n",
    "# regressor_OLS.summary()"
   ]
  },
  {
   "cell_type": "code",
   "execution_count": null,
   "metadata": {},
   "outputs": [],
   "source": [
    "# lets fill some nA"
   ]
  },
  {
   "cell_type": "code",
   "execution_count": null,
   "metadata": {},
   "outputs": [],
   "source": [
    "# lr = LinearRegression()"
   ]
  },
  {
   "cell_type": "code",
   "execution_count": null,
   "metadata": {},
   "outputs": [],
   "source": [
    "# lr.fit(X, y)"
   ]
  }
 ],
 "metadata": {
  "kernelspec": {
   "display_name": ".spectroscopy",
   "language": "python",
   "name": ".spectroscopy"
  },
  "language_info": {
   "codemirror_mode": {
    "name": "ipython",
    "version": 3
   },
   "file_extension": ".py",
   "mimetype": "text/x-python",
   "name": "python",
   "nbconvert_exporter": "python",
   "pygments_lexer": "ipython3",
   "version": "3.7.3"
  }
 },
 "nbformat": 4,
 "nbformat_minor": 4
}

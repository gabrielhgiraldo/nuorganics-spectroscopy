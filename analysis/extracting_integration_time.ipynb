{
 "cells": [
  {
   "cell_type": "markdown",
   "metadata": {},
   "source": [
    "# extracting integration time from extra info"
   ]
  },
  {
   "cell_type": "code",
   "execution_count": 2,
   "metadata": {},
   "outputs": [],
   "source": [
    "import os\n",
    "import sys\n",
    "module_path = os.path.abspath(os.path.join('..'))\n",
    "if module_path not in sys.path:\n",
    "    sys.path.insert(0, module_path)"
   ]
  },
  {
   "cell_type": "code",
   "execution_count": 3,
   "metadata": {},
   "outputs": [],
   "source": [
    "from spectroscopy.utils import load_training_data"
   ]
  },
  {
   "cell_type": "code",
   "execution_count": 4,
   "metadata": {},
   "outputs": [],
   "source": [
    "data = load_training_data()"
   ]
  },
  {
   "cell_type": "code",
   "execution_count": 5,
   "metadata": {},
   "outputs": [
    {
     "name": "stdout",
     "output_type": "stream",
     "text": [
      "<class 'pandas.core.frame.DataFrame'>\n",
      "RangeIndex: 96 entries, 0 to 95\n",
      "Columns: 517 entries, 862.13 to Ammonia-N\n",
      "dtypes: float64(511), object(6)\n",
      "memory usage: 387.9+ KB\n"
     ]
    }
   ],
   "source": [
    "data.info()"
   ]
  },
  {
   "cell_type": "code",
   "execution_count": 6,
   "metadata": {},
   "outputs": [
    {
     "data": {
      "text/html": [
       "<div>\n",
       "<style scoped>\n",
       "    .dataframe tbody tr th:only-of-type {\n",
       "        vertical-align: middle;\n",
       "    }\n",
       "\n",
       "    .dataframe tbody tr th {\n",
       "        vertical-align: top;\n",
       "    }\n",
       "\n",
       "    .dataframe thead th {\n",
       "        text-align: right;\n",
       "    }\n",
       "</style>\n",
       "<table border=\"1\" class=\"dataframe\">\n",
       "  <thead>\n",
       "    <tr style=\"text-align: right;\">\n",
       "      <th></th>\n",
       "      <th>862.13</th>\n",
       "      <th>863.88</th>\n",
       "      <th>865.63</th>\n",
       "      <th>867.38</th>\n",
       "      <th>869.13</th>\n",
       "      <th>870.88</th>\n",
       "      <th>872.63</th>\n",
       "      <th>874.38</th>\n",
       "      <th>876.13</th>\n",
       "      <th>877.88</th>\n",
       "      <th>...</th>\n",
       "      <th>1749.38</th>\n",
       "      <th>1751.13</th>\n",
       "      <th>1752.88</th>\n",
       "      <th>extra_info</th>\n",
       "      <th>filename</th>\n",
       "      <th>sample_name</th>\n",
       "      <th>sample_date</th>\n",
       "      <th>run_number</th>\n",
       "      <th>process_method</th>\n",
       "      <th>Ammonia-N</th>\n",
       "    </tr>\n",
       "  </thead>\n",
       "  <tbody>\n",
       "    <tr>\n",
       "      <th>0</th>\n",
       "      <td>0.001</td>\n",
       "      <td>0.001</td>\n",
       "      <td>0.001</td>\n",
       "      <td>-27.7720</td>\n",
       "      <td>-110.080</td>\n",
       "      <td>-43.0240</td>\n",
       "      <td>50.165</td>\n",
       "      <td>52.641</td>\n",
       "      <td>52.146</td>\n",
       "      <td>50.020</td>\n",
       "      <td>...</td>\n",
       "      <td>42.985</td>\n",
       "      <td>43.094</td>\n",
       "      <td>43.248</td>\n",
       "      <td>File: Users\\stell\\Desktop\\StellarDat\\South 7 ...</td>\n",
       "      <td>South 7 - 7-8-20 #1.TRM</td>\n",
       "      <td>south 7</td>\n",
       "      <td>2020-07-08 00:00:00</td>\n",
       "      <td>1</td>\n",
       "      <td>NaN</td>\n",
       "      <td>0.47</td>\n",
       "    </tr>\n",
       "    <tr>\n",
       "      <th>1</th>\n",
       "      <td>0.001</td>\n",
       "      <td>0.001</td>\n",
       "      <td>0.001</td>\n",
       "      <td>-205.5200</td>\n",
       "      <td>-785.090</td>\n",
       "      <td>-407.9100</td>\n",
       "      <td>44.607</td>\n",
       "      <td>46.916</td>\n",
       "      <td>46.875</td>\n",
       "      <td>45.709</td>\n",
       "      <td>...</td>\n",
       "      <td>40.831</td>\n",
       "      <td>40.827</td>\n",
       "      <td>40.896</td>\n",
       "      <td>File: Users\\stell\\Desktop\\StellarDat\\South 1 ...</td>\n",
       "      <td>South 1 - 7-8-20-20 #3.TRM</td>\n",
       "      <td>south 1</td>\n",
       "      <td>2020-07-08 20:00:00</td>\n",
       "      <td>3</td>\n",
       "      <td>NaN</td>\n",
       "      <td>0.21</td>\n",
       "    </tr>\n",
       "    <tr>\n",
       "      <th>2</th>\n",
       "      <td>0.001</td>\n",
       "      <td>0.001</td>\n",
       "      <td>0.001</td>\n",
       "      <td>-40.4680</td>\n",
       "      <td>-160.080</td>\n",
       "      <td>-67.7330</td>\n",
       "      <td>60.219</td>\n",
       "      <td>62.969</td>\n",
       "      <td>62.520</td>\n",
       "      <td>60.343</td>\n",
       "      <td>...</td>\n",
       "      <td>55.787</td>\n",
       "      <td>55.854</td>\n",
       "      <td>55.982</td>\n",
       "      <td>File: Users\\stell\\Desktop\\StellarDat\\South 8 ...</td>\n",
       "      <td>South 8 - 7-8-20 #3.TRM</td>\n",
       "      <td>south 8</td>\n",
       "      <td>2020-07-08 00:00:00</td>\n",
       "      <td>3</td>\n",
       "      <td>NaN</td>\n",
       "      <td>0.33</td>\n",
       "    </tr>\n",
       "    <tr>\n",
       "      <th>3</th>\n",
       "      <td>0.001</td>\n",
       "      <td>0.001</td>\n",
       "      <td>0.001</td>\n",
       "      <td>-6.3474</td>\n",
       "      <td>-29.575</td>\n",
       "      <td>-0.4154</td>\n",
       "      <td>51.103</td>\n",
       "      <td>53.461</td>\n",
       "      <td>52.857</td>\n",
       "      <td>50.724</td>\n",
       "      <td>...</td>\n",
       "      <td>43.885</td>\n",
       "      <td>44.003</td>\n",
       "      <td>44.161</td>\n",
       "      <td>File: Users\\stell\\Desktop\\StellarDat\\South 10...</td>\n",
       "      <td>South 10 - 7-8-20 #2.TRM</td>\n",
       "      <td>south 10</td>\n",
       "      <td>2020-07-08 00:00:00</td>\n",
       "      <td>2</td>\n",
       "      <td>NaN</td>\n",
       "      <td>0.32</td>\n",
       "    </tr>\n",
       "    <tr>\n",
       "      <th>4</th>\n",
       "      <td>0.001</td>\n",
       "      <td>0.001</td>\n",
       "      <td>0.001</td>\n",
       "      <td>-6.3474</td>\n",
       "      <td>-30.279</td>\n",
       "      <td>1.4999</td>\n",
       "      <td>58.542</td>\n",
       "      <td>61.196</td>\n",
       "      <td>60.665</td>\n",
       "      <td>58.458</td>\n",
       "      <td>...</td>\n",
       "      <td>52.137</td>\n",
       "      <td>52.260</td>\n",
       "      <td>52.406</td>\n",
       "      <td>File: Users\\stell\\Desktop\\StellarDat\\South 10...</td>\n",
       "      <td>South 10 - 7-8-20 #3.TRM</td>\n",
       "      <td>south 10</td>\n",
       "      <td>2020-07-08 00:00:00</td>\n",
       "      <td>3</td>\n",
       "      <td>NaN</td>\n",
       "      <td>0.32</td>\n",
       "    </tr>\n",
       "  </tbody>\n",
       "</table>\n",
       "<p>5 rows × 517 columns</p>\n",
       "</div>"
      ],
      "text/plain": [
       "   862.13  863.88  865.63    867.38   869.13    870.88  872.63  874.38  \\\n",
       "0   0.001   0.001   0.001  -27.7720 -110.080  -43.0240  50.165  52.641   \n",
       "1   0.001   0.001   0.001 -205.5200 -785.090 -407.9100  44.607  46.916   \n",
       "2   0.001   0.001   0.001  -40.4680 -160.080  -67.7330  60.219  62.969   \n",
       "3   0.001   0.001   0.001   -6.3474  -29.575   -0.4154  51.103  53.461   \n",
       "4   0.001   0.001   0.001   -6.3474  -30.279    1.4999  58.542  61.196   \n",
       "\n",
       "   876.13  877.88  ...  1749.38  1751.13  1752.88  \\\n",
       "0  52.146  50.020  ...   42.985   43.094   43.248   \n",
       "1  46.875  45.709  ...   40.831   40.827   40.896   \n",
       "2  62.520  60.343  ...   55.787   55.854   55.982   \n",
       "3  52.857  50.724  ...   43.885   44.003   44.161   \n",
       "4  60.665  58.458  ...   52.137   52.260   52.406   \n",
       "\n",
       "                                          extra_info  \\\n",
       "0   File: Users\\stell\\Desktop\\StellarDat\\South 7 ...   \n",
       "1   File: Users\\stell\\Desktop\\StellarDat\\South 1 ...   \n",
       "2   File: Users\\stell\\Desktop\\StellarDat\\South 8 ...   \n",
       "3   File: Users\\stell\\Desktop\\StellarDat\\South 10...   \n",
       "4   File: Users\\stell\\Desktop\\StellarDat\\South 10...   \n",
       "\n",
       "                     filename  sample_name          sample_date  run_number  \\\n",
       "0     South 7 - 7-8-20 #1.TRM      south 7  2020-07-08 00:00:00           1   \n",
       "1  South 1 - 7-8-20-20 #3.TRM      south 1  2020-07-08 20:00:00           3   \n",
       "2     South 8 - 7-8-20 #3.TRM      south 8  2020-07-08 00:00:00           3   \n",
       "3    South 10 - 7-8-20 #2.TRM     south 10  2020-07-08 00:00:00           2   \n",
       "4    South 10 - 7-8-20 #3.TRM     south 10  2020-07-08 00:00:00           3   \n",
       "\n",
       "   process_method  Ammonia-N  \n",
       "0             NaN       0.47  \n",
       "1             NaN       0.21  \n",
       "2             NaN       0.33  \n",
       "3             NaN       0.32  \n",
       "4             NaN       0.32  \n",
       "\n",
       "[5 rows x 517 columns]"
      ]
     },
     "execution_count": 6,
     "metadata": {},
     "output_type": "execute_result"
    }
   ],
   "source": [
    "data.head()"
   ]
  },
  {
   "cell_type": "code",
   "execution_count": 10,
   "metadata": {},
   "outputs": [
    {
     "data": {
      "text/plain": [
       "' File: Users\\\\stell\\\\Desktop\\\\StellarDat\\\\South 7 -\\r\\n  TRANS->  Wave:2830.74nm  Pix:1050  Val:-507.811  Time: 40ms  Avg:10  Sm:2  Sg:0  Tc:off  SNAP  Xt:3  Ch:1   '"
      ]
     },
     "execution_count": 10,
     "metadata": {},
     "output_type": "execute_result"
    }
   ],
   "source": [
    "extra_info = data.iloc[0]['extra_info']\n",
    "extra_info"
   ]
  },
  {
   "cell_type": "code",
   "execution_count": 21,
   "metadata": {},
   "outputs": [],
   "source": [
    "def _extract_integration_time(extra_info):\n",
    "    return extra_info.partition('->')[2]\\\n",
    "                     .partition('Time:')[2]\\\n",
    "                     .partition('Avg:')[0]\\\n",
    "                     .strip()\\\n",
    "                     .partition('ms')[0]"
   ]
  },
  {
   "cell_type": "code",
   "execution_count": 22,
   "metadata": {},
   "outputs": [
    {
     "data": {
      "text/plain": [
       "'40'"
      ]
     },
     "execution_count": 22,
     "metadata": {},
     "output_type": "execute_result"
    }
   ],
   "source": [
    "_extract_integration_time(extra_info)"
   ]
  },
  {
   "cell_type": "code",
   "execution_count": 23,
   "metadata": {},
   "outputs": [],
   "source": [
    "data['integration_time'] = data['extra_info'].apply(_extract_integration_time)"
   ]
  },
  {
   "cell_type": "code",
   "execution_count": 24,
   "metadata": {},
   "outputs": [
    {
     "data": {
      "text/plain": [
       "0     40\n",
       "1     45\n",
       "2     40\n",
       "3     40\n",
       "4     40\n",
       "      ..\n",
       "91    40\n",
       "92    45\n",
       "93    45\n",
       "94    40\n",
       "95    45\n",
       "Name: integration_time, Length: 96, dtype: object"
      ]
     },
     "execution_count": 24,
     "metadata": {},
     "output_type": "execute_result"
    }
   ],
   "source": [
    "data['integration_time']"
   ]
  }
 ],
 "metadata": {
  "kernelspec": {
   "display_name": ".spectroscopy",
   "language": "python",
   "name": ".spectroscopy"
  },
  "language_info": {
   "codemirror_mode": {
    "name": "ipython",
    "version": 3
   },
   "file_extension": ".py",
   "mimetype": "text/x-python",
   "name": "python",
   "nbconvert_exporter": "python",
   "pygments_lexer": "ipython3",
   "version": "3.7.3"
  }
 },
 "nbformat": 4,
 "nbformat_minor": 4
}

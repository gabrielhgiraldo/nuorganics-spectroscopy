{
 "cells": [
  {
   "cell_type": "code",
   "execution_count": 1,
   "metadata": {},
   "outputs": [],
   "source": [
    "import os\n",
    "import sys\n",
    "module_path = os.path.abspath(os.path.join('..'))\n",
    "if module_path not in sys.path:\n",
    "    sys.path.insert(0, module_path)"
   ]
  },
  {
   "cell_type": "code",
   "execution_count": 2,
   "metadata": {},
   "outputs": [],
   "source": [
    "import pandas as pd"
   ]
  },
  {
   "cell_type": "code",
   "execution_count": 3,
   "metadata": {},
   "outputs": [],
   "source": [
    "from spectroscopy.data import (\n",
    "    TRM_PATTERN,\n",
    "    get_relevant_filepaths,\n",
    "    extract_data,\n",
    "    load_cached_extracted_data,\n",
    "    EXTRACTED_DATA_FILENAME,\n",
    "    DATA_DIR,\n",
    "    _extract_spect_filename_info,\n",
    "    get_sample_ids\n",
    ")"
   ]
  },
  {
   "cell_type": "code",
   "execution_count": 4,
   "metadata": {},
   "outputs": [],
   "source": [
    "from spectroscopy.app_utils import get_training_data_path"
   ]
  },
  {
   "cell_type": "code",
   "execution_count": 5,
   "metadata": {},
   "outputs": [
    {
     "data": {
      "text/plain": [
       "'extracted_files.pkl'"
      ]
     },
     "execution_count": 5,
     "metadata": {},
     "output_type": "execute_result"
    }
   ],
   "source": [
    "EXTRACTED_DATA_FILENAME"
   ]
  },
  {
   "cell_type": "code",
   "execution_count": 6,
   "metadata": {},
   "outputs": [
    {
     "name": "stderr",
     "output_type": "stream",
     "text": [
      "no configuration file found at config.ini\n"
     ]
    }
   ],
   "source": [
    "data_path = get_training_data_path()"
   ]
  },
  {
   "cell_type": "code",
   "execution_count": 7,
   "metadata": {},
   "outputs": [
    {
     "name": "stderr",
     "output_type": "stream",
     "text": [
      "potential duplicate lab reports detected for samples:\n",
      " Hampton Coulter - 6-15-20 #3.TRM    2\n",
      "Hampton Coulter - 6-15-20 #2.TRM    2\n",
      "Hampton Coulter - 6-15-20 #1.TRM    2\n",
      "Name: filename_trm, dtype: int64\n"
     ]
    }
   ],
   "source": [
    "extracted_data, extracted_filepaths = extract_data(data_path, EXTRACTED_DATA_FILENAME)"
   ]
  },
  {
   "cell_type": "code",
   "execution_count": 8,
   "metadata": {},
   "outputs": [
    {
     "data": {
      "text/plain": [
       "481"
      ]
     },
     "execution_count": 8,
     "metadata": {},
     "output_type": "execute_result"
    }
   ],
   "source": [
    "len(extracted_data.index)"
   ]
  },
  {
   "cell_type": "code",
   "execution_count": 9,
   "metadata": {},
   "outputs": [],
   "source": [
    "trm_filepaths = get_relevant_filepaths(data_path, [TRM_PATTERN])"
   ]
  },
  {
   "cell_type": "code",
   "execution_count": 10,
   "metadata": {},
   "outputs": [
    {
     "data": {
      "text/plain": [
       "481"
      ]
     },
     "execution_count": 10,
     "metadata": {},
     "output_type": "execute_result"
    }
   ],
   "source": [
    "len(trm_filepaths)"
   ]
  },
  {
   "cell_type": "code",
   "execution_count": 11,
   "metadata": {},
   "outputs": [
    {
     "data": {
      "text/plain": [
       "607"
      ]
     },
     "execution_count": 11,
     "metadata": {},
     "output_type": "execute_result"
    }
   ],
   "source": [
    "len(extracted_filepaths)"
   ]
  },
  {
   "cell_type": "code",
   "execution_count": 12,
   "metadata": {},
   "outputs": [],
   "source": [
    "# test deleted functionality"
   ]
  },
  {
   "cell_type": "code",
   "execution_count": 13,
   "metadata": {},
   "outputs": [],
   "source": [
    "deleted_filepaths = set(list(extracted_filepaths)[0:5])"
   ]
  },
  {
   "cell_type": "code",
   "execution_count": 14,
   "metadata": {},
   "outputs": [
    {
     "data": {
      "text/plain": [
       "{PosixPath('/Users/gabriel/spectroscopy/data/Dows Conveyor South - 8-13-20 #1.TRM'),\n",
       " PosixPath('/Users/gabriel/spectroscopy/data/Lab Report - West 6 - 7-6-20.csv'),\n",
       " PosixPath('/Users/gabriel/spectroscopy/data/North 12 (Ground) - 8-13-20 #1.TRM'),\n",
       " PosixPath('/Users/gabriel/spectroscopy/data/North 3 - 7-9-20 #3.TRM'),\n",
       " PosixPath('/Users/gabriel/spectroscopy/data/West 3 - 7-6-20 #1.TRM')}"
      ]
     },
     "execution_count": 14,
     "metadata": {},
     "output_type": "execute_result"
    }
   ],
   "source": [
    "deleted_filepaths"
   ]
  },
  {
   "cell_type": "code",
   "execution_count": 15,
   "metadata": {},
   "outputs": [
    {
     "data": {
      "text/plain": [
       "607"
      ]
     },
     "execution_count": 15,
     "metadata": {},
     "output_type": "execute_result"
    }
   ],
   "source": [
    "len(extracted_filepaths)"
   ]
  },
  {
   "cell_type": "code",
   "execution_count": 30,
   "metadata": {},
   "outputs": [],
   "source": [
    "deleted_filenames = [fp.name for fp in deleted_filepaths]"
   ]
  },
  {
   "cell_type": "code",
   "execution_count": 31,
   "metadata": {},
   "outputs": [
    {
     "name": "stdout",
     "output_type": "stream",
     "text": [
      "files deleted: ['North 12 (Ground) - 8-13-20 #1.TRM', 'Dows Conveyor South - 8-13-20 #1.TRM', 'West 3 - 7-6-20 #1.TRM', 'Lab Report - West 6 - 7-6-20.csv', 'North 3 - 7-9-20 #3.TRM']\n"
     ]
    }
   ],
   "source": [
    "print(f'files deleted: {deleted_filenames}')\n",
    "# deleted_sample_ids = get_sample_ids(deleted_filepaths, unique=True)\n",
    "#     # get row in sample associated with that ids"
   ]
  },
  {
   "cell_type": "code",
   "execution_count": 17,
   "metadata": {},
   "outputs": [],
   "source": [
    "# deleted_sample_ids"
   ]
  },
  {
   "cell_type": "code",
   "execution_count": 18,
   "metadata": {},
   "outputs": [
    {
     "data": {
      "text/html": [
       "<div>\n",
       "<style scoped>\n",
       "    .dataframe tbody tr th:only-of-type {\n",
       "        vertical-align: middle;\n",
       "    }\n",
       "\n",
       "    .dataframe tbody tr th {\n",
       "        vertical-align: top;\n",
       "    }\n",
       "\n",
       "    .dataframe thead th {\n",
       "        text-align: right;\n",
       "    }\n",
       "</style>\n",
       "<table border=\"1\" class=\"dataframe\">\n",
       "  <thead>\n",
       "    <tr style=\"text-align: right;\">\n",
       "      <th></th>\n",
       "      <th>862.13</th>\n",
       "      <th>863.88</th>\n",
       "      <th>865.63</th>\n",
       "      <th>867.38</th>\n",
       "      <th>869.13</th>\n",
       "      <th>870.88</th>\n",
       "      <th>872.63</th>\n",
       "      <th>874.38</th>\n",
       "      <th>876.13</th>\n",
       "      <th>877.88</th>\n",
       "      <th>...</th>\n",
       "      <th>sample_date</th>\n",
       "      <th>run_number</th>\n",
       "      <th>process_method</th>\n",
       "      <th>filename_lr</th>\n",
       "      <th>Ammonia-N</th>\n",
       "      <th>N</th>\n",
       "      <th>Moisture</th>\n",
       "      <th>P</th>\n",
       "      <th>K</th>\n",
       "      <th>S</th>\n",
       "    </tr>\n",
       "  </thead>\n",
       "  <tbody>\n",
       "    <tr>\n",
       "      <th>0</th>\n",
       "      <td>0.001</td>\n",
       "      <td>0.001</td>\n",
       "      <td>0.001</td>\n",
       "      <td>0.000</td>\n",
       "      <td>0.000</td>\n",
       "      <td>0.000</td>\n",
       "      <td>72.165</td>\n",
       "      <td>73.627</td>\n",
       "      <td>73.418</td>\n",
       "      <td>72.486</td>\n",
       "      <td>...</td>\n",
       "      <td>2020-08-13</td>\n",
       "      <td>1</td>\n",
       "      <td>ground</td>\n",
       "      <td>Lab Report - North 12 - 8-13-20.csv</td>\n",
       "      <td>0.24</td>\n",
       "      <td>4.32</td>\n",
       "      <td>10.7</td>\n",
       "      <td>3.29</td>\n",
       "      <td>2.29</td>\n",
       "      <td>3730.0</td>\n",
       "    </tr>\n",
       "    <tr>\n",
       "      <th>1</th>\n",
       "      <td>0.001</td>\n",
       "      <td>0.001</td>\n",
       "      <td>0.001</td>\n",
       "      <td>80.794</td>\n",
       "      <td>334.390</td>\n",
       "      <td>230.130</td>\n",
       "      <td>42.306</td>\n",
       "      <td>42.575</td>\n",
       "      <td>42.085</td>\n",
       "      <td>41.027</td>\n",
       "      <td>...</td>\n",
       "      <td>2020-08-13</td>\n",
       "      <td>1</td>\n",
       "      <td></td>\n",
       "      <td>Lab Report - Dows Conveyor South - 8-13-20.csv</td>\n",
       "      <td>0.78</td>\n",
       "      <td>3.26</td>\n",
       "      <td>47.5</td>\n",
       "      <td>2.21</td>\n",
       "      <td>1.50</td>\n",
       "      <td>2460.0</td>\n",
       "    </tr>\n",
       "    <tr>\n",
       "      <th>2</th>\n",
       "      <td>0.001</td>\n",
       "      <td>0.001</td>\n",
       "      <td>0.001</td>\n",
       "      <td>18.541</td>\n",
       "      <td>66.446</td>\n",
       "      <td>56.466</td>\n",
       "      <td>59.827</td>\n",
       "      <td>61.383</td>\n",
       "      <td>61.019</td>\n",
       "      <td>59.598</td>\n",
       "      <td>...</td>\n",
       "      <td>2020-07-06</td>\n",
       "      <td>1</td>\n",
       "      <td></td>\n",
       "      <td>Lab Report - West 3 - 7-6-20.csv</td>\n",
       "      <td>0.24</td>\n",
       "      <td>2.65</td>\n",
       "      <td>18.7</td>\n",
       "      <td>4.94</td>\n",
       "      <td>3.35</td>\n",
       "      <td>5310.0</td>\n",
       "    </tr>\n",
       "    <tr>\n",
       "      <th>3</th>\n",
       "      <td>0.001</td>\n",
       "      <td>0.001</td>\n",
       "      <td>0.001</td>\n",
       "      <td>28.031</td>\n",
       "      <td>98.738</td>\n",
       "      <td>71.905</td>\n",
       "      <td>65.332</td>\n",
       "      <td>67.690</td>\n",
       "      <td>66.967</td>\n",
       "      <td>64.592</td>\n",
       "      <td>...</td>\n",
       "      <td>2020-07-09</td>\n",
       "      <td>3</td>\n",
       "      <td></td>\n",
       "      <td>Lab Report - North 3 - 7-9-20.csv</td>\n",
       "      <td>0.44</td>\n",
       "      <td>5.32</td>\n",
       "      <td>10.9</td>\n",
       "      <td>3.66</td>\n",
       "      <td>2.65</td>\n",
       "      <td>3830.0</td>\n",
       "    </tr>\n",
       "    <tr>\n",
       "      <th>4</th>\n",
       "      <td>0.001</td>\n",
       "      <td>0.001</td>\n",
       "      <td>0.001</td>\n",
       "      <td>0.000</td>\n",
       "      <td>0.000</td>\n",
       "      <td>28.247</td>\n",
       "      <td>55.832</td>\n",
       "      <td>56.225</td>\n",
       "      <td>55.953</td>\n",
       "      <td>55.263</td>\n",
       "      <td>...</td>\n",
       "      <td>2020-08-13</td>\n",
       "      <td>3</td>\n",
       "      <td></td>\n",
       "      <td>Lab Report - West 9 - 8-13-20.csv</td>\n",
       "      <td>0.27</td>\n",
       "      <td>3.80</td>\n",
       "      <td>20.7</td>\n",
       "      <td>3.47</td>\n",
       "      <td>2.50</td>\n",
       "      <td>4390.0</td>\n",
       "    </tr>\n",
       "  </tbody>\n",
       "</table>\n",
       "<p>5 rows × 524 columns</p>\n",
       "</div>"
      ],
      "text/plain": [
       "   862.13  863.88  865.63  867.38   869.13   870.88  872.63  874.38  876.13  \\\n",
       "0   0.001   0.001   0.001   0.000    0.000    0.000  72.165  73.627  73.418   \n",
       "1   0.001   0.001   0.001  80.794  334.390  230.130  42.306  42.575  42.085   \n",
       "2   0.001   0.001   0.001  18.541   66.446   56.466  59.827  61.383  61.019   \n",
       "3   0.001   0.001   0.001  28.031   98.738   71.905  65.332  67.690  66.967   \n",
       "4   0.001   0.001   0.001   0.000    0.000   28.247  55.832  56.225  55.953   \n",
       "\n",
       "   877.88  ...  sample_date  run_number  process_method  \\\n",
       "0  72.486  ...   2020-08-13           1          ground   \n",
       "1  41.027  ...   2020-08-13           1                   \n",
       "2  59.598  ...   2020-07-06           1                   \n",
       "3  64.592  ...   2020-07-09           3                   \n",
       "4  55.263  ...   2020-08-13           3                   \n",
       "\n",
       "                                      filename_lr  Ammonia-N     N  Moisture  \\\n",
       "0             Lab Report - North 12 - 8-13-20.csv       0.24  4.32      10.7   \n",
       "1  Lab Report - Dows Conveyor South - 8-13-20.csv       0.78  3.26      47.5   \n",
       "2                Lab Report - West 3 - 7-6-20.csv       0.24  2.65      18.7   \n",
       "3               Lab Report - North 3 - 7-9-20.csv       0.44  5.32      10.9   \n",
       "4               Lab Report - West 9 - 8-13-20.csv       0.27  3.80      20.7   \n",
       "\n",
       "      P     K       S  \n",
       "0  3.29  2.29  3730.0  \n",
       "1  2.21  1.50  2460.0  \n",
       "2  4.94  3.35  5310.0  \n",
       "3  3.66  2.65  3830.0  \n",
       "4  3.47  2.50  4390.0  \n",
       "\n",
       "[5 rows x 524 columns]"
      ]
     },
     "execution_count": 18,
     "metadata": {},
     "output_type": "execute_result"
    }
   ],
   "source": [
    "extracted_data.head()"
   ]
  },
  {
   "cell_type": "code",
   "execution_count": 19,
   "metadata": {},
   "outputs": [],
   "source": [
    "# current_sample_ids = get_sample_ids(extracted_data, unique=False)"
   ]
  },
  {
   "cell_type": "code",
   "execution_count": 20,
   "metadata": {},
   "outputs": [],
   "source": [
    "# current_sample_ids.iloc[0]"
   ]
  },
  {
   "cell_type": "code",
   "execution_count": 21,
   "metadata": {},
   "outputs": [],
   "source": [
    "# deleted_sample_ids[0]"
   ]
  },
  {
   "cell_type": "code",
   "execution_count": 22,
   "metadata": {},
   "outputs": [],
   "source": [
    "# len(current_sample_ids)"
   ]
  },
  {
   "cell_type": "code",
   "execution_count": 23,
   "metadata": {},
   "outputs": [
    {
     "data": {
      "text/plain": [
       "481"
      ]
     },
     "execution_count": 23,
     "metadata": {},
     "output_type": "execute_result"
    }
   ],
   "source": [
    "len(extracted_data.index)"
   ]
  },
  {
   "cell_type": "code",
   "execution_count": 28,
   "metadata": {},
   "outputs": [
    {
     "data": {
      "text/plain": [
       "0                    Lab Report - North 12 - 8-13-20.csv\n",
       "1         Lab Report - Dows Conveyor South - 8-13-20.csv\n",
       "2                       Lab Report - West 3 - 7-6-20.csv\n",
       "3                      Lab Report - North 3 - 7-9-20.csv\n",
       "4                      Lab Report - West 9 - 8-13-20.csv\n",
       "                             ...                        \n",
       "479                    Lab Report - North 8 - 7-9-20.csv\n",
       "480    Lab Report - Clarion NRF Process Raw - 8-5-20.csv\n",
       "481            Lab Report - Hampton East 2 - 6-15-20.csv\n",
       "482                   Lab Report - South 9 - 8-13-20.csv\n",
       "483                    Lab Report - West 14 - 7-6-20.csv\n",
       "Name: filename_lr, Length: 481, dtype: object"
      ]
     },
     "execution_count": 28,
     "metadata": {},
     "output_type": "execute_result"
    }
   ],
   "source": [
    "extracted_data['filename_lr']"
   ]
  },
  {
   "cell_type": "code",
   "execution_count": 32,
   "metadata": {},
   "outputs": [],
   "source": [
    "# mask = ~current_sample_ids.isin(deleted_sample_ids)\n",
    "mask = (extracted_data['filename_lr'].isin(deleted_filenames))\\\n",
    "    | (extracted_data['filename_trm'].isin(deleted_filenames))\n",
    "extracted_data = extracted_data[~mask]"
   ]
  },
  {
   "cell_type": "code",
   "execution_count": 33,
   "metadata": {},
   "outputs": [
    {
     "data": {
      "text/plain": [
       "473"
      ]
     },
     "execution_count": 33,
     "metadata": {},
     "output_type": "execute_result"
    }
   ],
   "source": [
    "len(extracted_data.index)"
   ]
  },
  {
   "cell_type": "code",
   "execution_count": 34,
   "metadata": {},
   "outputs": [
    {
     "name": "stdout",
     "output_type": "stream",
     "text": [
      "<class 'pandas.core.frame.DataFrame'>\n",
      "Int64Index: 473 entries, 4 to 483\n",
      "Columns: 524 entries, 862.13 to S\n",
      "dtypes: datetime64[ns](1), float64(516), object(7)\n",
      "memory usage: 1.9+ MB\n"
     ]
    }
   ],
   "source": [
    "extracted_data.info()"
   ]
  },
  {
   "cell_type": "code",
   "execution_count": 35,
   "metadata": {},
   "outputs": [],
   "source": [
    "extracted_filepaths -= deleted_filepaths\n",
    "has_changed = True"
   ]
  },
  {
   "cell_type": "code",
   "execution_count": null,
   "metadata": {},
   "outputs": [],
   "source": []
  }
 ],
 "metadata": {
  "kernelspec": {
   "display_name": ".spectroscopy",
   "language": "python",
   "name": ".spectroscopy"
  },
  "language_info": {
   "codemirror_mode": {
    "name": "ipython",
    "version": 3
   },
   "file_extension": ".py",
   "mimetype": "text/x-python",
   "name": "python",
   "nbconvert_exporter": "python",
   "pygments_lexer": "ipython3",
   "version": "3.7.3"
  }
 },
 "nbformat": 4,
 "nbformat_minor": 4
}

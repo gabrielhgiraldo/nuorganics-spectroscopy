{
 "cells": [
  {
   "cell_type": "code",
   "execution_count": 1,
   "metadata": {},
   "outputs": [],
   "source": [
    "import os\n",
    "import sys\n",
    "\n",
    "\n",
    "import matplotlib.pyplot as plt\n",
    "%matplotlib inline\n",
    "import numpy as np\n",
    "import pickle"
   ]
  },
  {
   "cell_type": "code",
   "execution_count": 2,
   "metadata": {},
   "outputs": [],
   "source": [
    "from sklearn.inspection import permutation_importance"
   ]
  },
  {
   "cell_type": "code",
   "execution_count": 3,
   "metadata": {},
   "outputs": [],
   "source": [
    "from sklearn.linear_model import LinearRegression"
   ]
  },
  {
   "cell_type": "code",
   "execution_count": 4,
   "metadata": {},
   "outputs": [],
   "source": [
    "from sklearn.metrics import mean_squared_error"
   ]
  },
  {
   "cell_type": "code",
   "execution_count": 5,
   "metadata": {},
   "outputs": [],
   "source": [
    "from sklearn.model_selection import train_test_split"
   ]
  },
  {
   "cell_type": "code",
   "execution_count": 6,
   "metadata": {},
   "outputs": [],
   "source": [
    "from sklearn.feature_selection import SelectFromModel"
   ]
  },
  {
   "cell_type": "code",
   "execution_count": 7,
   "metadata": {},
   "outputs": [],
   "source": [
    "from sklearn.ensemble import RandomForestRegressor"
   ]
  },
  {
   "cell_type": "code",
   "execution_count": 8,
   "metadata": {},
   "outputs": [],
   "source": [
    "from statsmodels.regression.linear_model import OLS"
   ]
  },
  {
   "cell_type": "code",
   "execution_count": 9,
   "metadata": {},
   "outputs": [],
   "source": [
    "module_path = os.path.abspath(os.path.join('..'))\n",
    "if module_path not in sys.path:\n",
    "    sys.path.insert(0, module_path)"
   ]
  },
  {
   "cell_type": "code",
   "execution_count": 10,
   "metadata": {},
   "outputs": [],
   "source": [
    "from spectroscopy.utils import load_training_data, get_wavelength_columns\n",
    "from spectroscopy.model import score_model"
   ]
  },
  {
   "cell_type": "markdown",
   "metadata": {},
   "source": [
    "# modeling"
   ]
  },
  {
   "cell_type": "markdown",
   "metadata": {},
   "source": [
    "note: \"I think the best is the ground samples from South\""
   ]
  },
  {
   "cell_type": "markdown",
   "metadata": {},
   "source": [
    "# load in data"
   ]
  },
  {
   "cell_type": "code",
   "execution_count": 11,
   "metadata": {},
   "outputs": [],
   "source": [
    "df = load_training_data()"
   ]
  },
  {
   "cell_type": "code",
   "execution_count": 12,
   "metadata": {},
   "outputs": [
    {
     "data": {
      "text/plain": [
       "Index(['862.13', '863.88', '865.63', '867.38', '869.13', '870.88', '872.63',\n",
       "       '874.38', '876.13', '877.88',\n",
       "       ...\n",
       "       '1749.38', '1751.13', '1752.88', 'extra_info', 'filename',\n",
       "       'sample_name', 'sample_date', 'run_number', 'process_method',\n",
       "       'Ammonia-N'],\n",
       "      dtype='object', length=517)"
      ]
     },
     "execution_count": 12,
     "metadata": {},
     "output_type": "execute_result"
    }
   ],
   "source": [
    "df.columns"
   ]
  },
  {
   "cell_type": "code",
   "execution_count": 13,
   "metadata": {},
   "outputs": [],
   "source": [
    "feature_columns = get_wavelength_columns(df)"
   ]
  },
  {
   "cell_type": "code",
   "execution_count": 14,
   "metadata": {},
   "outputs": [],
   "source": [
    "X, y = df[feature_columns], df['Ammonia-N']"
   ]
  },
  {
   "cell_type": "code",
   "execution_count": 15,
   "metadata": {},
   "outputs": [
    {
     "data": {
      "text/plain": [
       "0.15    6\n",
       "0.37    6\n",
       "0.42    6\n",
       "0.39    6\n",
       "0.20    6\n",
       "0.44    6\n",
       "0.12    6\n",
       "0.32    6\n",
       "0.21    6\n",
       "2.24    3\n",
       "0.57    3\n",
       "Name: Ammonia-N, dtype: int64"
      ]
     },
     "execution_count": 15,
     "metadata": {},
     "output_type": "execute_result"
    }
   ],
   "source": [
    "y.value_counts(dropna=False)"
   ]
  },
  {
   "cell_type": "code",
   "execution_count": 16,
   "metadata": {},
   "outputs": [
    {
     "data": {
      "text/plain": [
       "count    60.000000\n",
       "mean      0.402500\n",
       "std       0.443437\n",
       "min       0.120000\n",
       "25%       0.200000\n",
       "50%       0.345000\n",
       "75%       0.420000\n",
       "max       2.240000\n",
       "Name: Ammonia-N, dtype: float64"
      ]
     },
     "execution_count": 16,
     "metadata": {},
     "output_type": "execute_result"
    }
   ],
   "source": [
    "y.describe()"
   ]
  },
  {
   "cell_type": "code",
   "execution_count": 17,
   "metadata": {},
   "outputs": [
    {
     "data": {
      "text/plain": [
       "<matplotlib.axes._subplots.AxesSubplot at 0x7fa7c9bb73d0>"
      ]
     },
     "execution_count": 17,
     "metadata": {},
     "output_type": "execute_result"
    },
    {
     "data": {
      "image/png": "[encoded data removed]",
      "text/plain": [
       "<Figure size 432x288 with 1 Axes>"
      ]
     },
     "metadata": {
      "needs_background": "light"
     },
     "output_type": "display_data"
    }
   ],
   "source": [
    "y.hist()"
   ]
  },
  {
   "cell_type": "code",
   "execution_count": 18,
   "metadata": {},
   "outputs": [
    {
     "data": {
      "text/html": [
       "<div>\n",
       "<style scoped>\n",
       "    .dataframe tbody tr th:only-of-type {\n",
       "        vertical-align: middle;\n",
       "    }\n",
       "\n",
       "    .dataframe tbody tr th {\n",
       "        vertical-align: top;\n",
       "    }\n",
       "\n",
       "    .dataframe thead th {\n",
       "        text-align: right;\n",
       "    }\n",
       "</style>\n",
       "<table border=\"1\" class=\"dataframe\">\n",
       "  <thead>\n",
       "    <tr style=\"text-align: right;\">\n",
       "      <th></th>\n",
       "      <th>862.13</th>\n",
       "      <th>863.88</th>\n",
       "      <th>865.63</th>\n",
       "      <th>867.38</th>\n",
       "      <th>869.13</th>\n",
       "      <th>870.88</th>\n",
       "      <th>872.63</th>\n",
       "      <th>874.38</th>\n",
       "      <th>876.13</th>\n",
       "      <th>877.88</th>\n",
       "      <th>...</th>\n",
       "      <th>1737.13</th>\n",
       "      <th>1738.88</th>\n",
       "      <th>1740.63</th>\n",
       "      <th>1742.38</th>\n",
       "      <th>1744.13</th>\n",
       "      <th>1745.88</th>\n",
       "      <th>1747.63</th>\n",
       "      <th>1749.38</th>\n",
       "      <th>1751.13</th>\n",
       "      <th>1752.88</th>\n",
       "    </tr>\n",
       "  </thead>\n",
       "  <tbody>\n",
       "    <tr>\n",
       "      <td>count</td>\n",
       "      <td>6.000000e+01</td>\n",
       "      <td>6.000000e+01</td>\n",
       "      <td>6.000000e+01</td>\n",
       "      <td>60.000000</td>\n",
       "      <td>60.000000</td>\n",
       "      <td>60.000000</td>\n",
       "      <td>60.000000</td>\n",
       "      <td>60.000000</td>\n",
       "      <td>60.000000</td>\n",
       "      <td>60.00000</td>\n",
       "      <td>...</td>\n",
       "      <td>60.00000</td>\n",
       "      <td>60.000000</td>\n",
       "      <td>60.000000</td>\n",
       "      <td>60.000000</td>\n",
       "      <td>60.000000</td>\n",
       "      <td>60.000000</td>\n",
       "      <td>60.000000</td>\n",
       "      <td>60.000000</td>\n",
       "      <td>60.000000</td>\n",
       "      <td>60.000000</td>\n",
       "    </tr>\n",
       "    <tr>\n",
       "      <td>mean</td>\n",
       "      <td>1.000000e-03</td>\n",
       "      <td>1.000000e-03</td>\n",
       "      <td>1.000000e-03</td>\n",
       "      <td>-22.376158</td>\n",
       "      <td>-79.282372</td>\n",
       "      <td>-9.747710</td>\n",
       "      <td>61.435517</td>\n",
       "      <td>63.454850</td>\n",
       "      <td>63.060100</td>\n",
       "      <td>61.42710</td>\n",
       "      <td>...</td>\n",
       "      <td>56.62385</td>\n",
       "      <td>56.740450</td>\n",
       "      <td>56.854950</td>\n",
       "      <td>56.978800</td>\n",
       "      <td>57.084133</td>\n",
       "      <td>57.172933</td>\n",
       "      <td>57.255483</td>\n",
       "      <td>57.334700</td>\n",
       "      <td>57.411633</td>\n",
       "      <td>57.492417</td>\n",
       "    </tr>\n",
       "    <tr>\n",
       "      <td>std</td>\n",
       "      <td>6.560110e-19</td>\n",
       "      <td>6.560110e-19</td>\n",
       "      <td>6.560110e-19</td>\n",
       "      <td>98.681245</td>\n",
       "      <td>386.412083</td>\n",
       "      <td>224.213526</td>\n",
       "      <td>10.037716</td>\n",
       "      <td>10.169806</td>\n",
       "      <td>10.130332</td>\n",
       "      <td>10.00967</td>\n",
       "      <td>...</td>\n",
       "      <td>10.59067</td>\n",
       "      <td>10.592262</td>\n",
       "      <td>10.586519</td>\n",
       "      <td>10.573621</td>\n",
       "      <td>10.567218</td>\n",
       "      <td>10.573909</td>\n",
       "      <td>10.585283</td>\n",
       "      <td>10.590813</td>\n",
       "      <td>10.597759</td>\n",
       "      <td>10.589627</td>\n",
       "    </tr>\n",
       "    <tr>\n",
       "      <td>min</td>\n",
       "      <td>1.000000e-03</td>\n",
       "      <td>1.000000e-03</td>\n",
       "      <td>1.000000e-03</td>\n",
       "      <td>-219.800000</td>\n",
       "      <td>-831.610000</td>\n",
       "      <td>-424.710000</td>\n",
       "      <td>35.295000</td>\n",
       "      <td>36.586000</td>\n",
       "      <td>36.099000</td>\n",
       "      <td>34.59200</td>\n",
       "      <td>...</td>\n",
       "      <td>29.97700</td>\n",
       "      <td>30.166000</td>\n",
       "      <td>30.291000</td>\n",
       "      <td>30.434000</td>\n",
       "      <td>30.538000</td>\n",
       "      <td>30.640000</td>\n",
       "      <td>30.768000</td>\n",
       "      <td>30.876000</td>\n",
       "      <td>30.999000</td>\n",
       "      <td>31.153000</td>\n",
       "    </tr>\n",
       "    <tr>\n",
       "      <td>25%</td>\n",
       "      <td>1.000000e-03</td>\n",
       "      <td>1.000000e-03</td>\n",
       "      <td>1.000000e-03</td>\n",
       "      <td>-18.137000</td>\n",
       "      <td>-65.816750</td>\n",
       "      <td>-19.444250</td>\n",
       "      <td>57.511250</td>\n",
       "      <td>59.920000</td>\n",
       "      <td>59.390250</td>\n",
       "      <td>57.89625</td>\n",
       "      <td>...</td>\n",
       "      <td>51.86325</td>\n",
       "      <td>52.008000</td>\n",
       "      <td>52.149250</td>\n",
       "      <td>52.285750</td>\n",
       "      <td>52.410750</td>\n",
       "      <td>52.500500</td>\n",
       "      <td>52.541750</td>\n",
       "      <td>52.556000</td>\n",
       "      <td>52.591000</td>\n",
       "      <td>52.664000</td>\n",
       "    </tr>\n",
       "    <tr>\n",
       "      <td>50%</td>\n",
       "      <td>1.000000e-03</td>\n",
       "      <td>1.000000e-03</td>\n",
       "      <td>1.000000e-03</td>\n",
       "      <td>6.192950</td>\n",
       "      <td>25.124500</td>\n",
       "      <td>32.943000</td>\n",
       "      <td>64.552000</td>\n",
       "      <td>66.510000</td>\n",
       "      <td>66.011500</td>\n",
       "      <td>64.26450</td>\n",
       "      <td>...</td>\n",
       "      <td>59.36900</td>\n",
       "      <td>59.539500</td>\n",
       "      <td>59.682000</td>\n",
       "      <td>59.825000</td>\n",
       "      <td>59.948500</td>\n",
       "      <td>60.056500</td>\n",
       "      <td>60.160000</td>\n",
       "      <td>60.293500</td>\n",
       "      <td>60.483500</td>\n",
       "      <td>60.625500</td>\n",
       "    </tr>\n",
       "    <tr>\n",
       "      <td>75%</td>\n",
       "      <td>1.000000e-03</td>\n",
       "      <td>1.000000e-03</td>\n",
       "      <td>1.000000e-03</td>\n",
       "      <td>33.206000</td>\n",
       "      <td>116.542500</td>\n",
       "      <td>88.267500</td>\n",
       "      <td>67.844750</td>\n",
       "      <td>69.713500</td>\n",
       "      <td>69.314750</td>\n",
       "      <td>67.67650</td>\n",
       "      <td>...</td>\n",
       "      <td>62.91000</td>\n",
       "      <td>63.065500</td>\n",
       "      <td>63.205500</td>\n",
       "      <td>63.340750</td>\n",
       "      <td>63.451250</td>\n",
       "      <td>63.566250</td>\n",
       "      <td>63.668750</td>\n",
       "      <td>63.733750</td>\n",
       "      <td>63.787250</td>\n",
       "      <td>63.845750</td>\n",
       "    </tr>\n",
       "    <tr>\n",
       "      <td>max</td>\n",
       "      <td>1.000000e-03</td>\n",
       "      <td>1.000000e-03</td>\n",
       "      <td>1.000000e-03</td>\n",
       "      <td>101.090000</td>\n",
       "      <td>464.490000</td>\n",
       "      <td>369.440000</td>\n",
       "      <td>76.971000</td>\n",
       "      <td>78.993000</td>\n",
       "      <td>78.589000</td>\n",
       "      <td>76.93000</td>\n",
       "      <td>...</td>\n",
       "      <td>73.40500</td>\n",
       "      <td>73.463000</td>\n",
       "      <td>73.491000</td>\n",
       "      <td>73.553000</td>\n",
       "      <td>73.608000</td>\n",
       "      <td>73.651000</td>\n",
       "      <td>73.713000</td>\n",
       "      <td>73.801000</td>\n",
       "      <td>73.876000</td>\n",
       "      <td>73.898000</td>\n",
       "    </tr>\n",
       "  </tbody>\n",
       "</table>\n",
       "<p>8 rows × 510 columns</p>\n",
       "</div>"
      ],
      "text/plain": [
       "             862.13        863.88        865.63      867.38      869.13  \\\n",
       "count  6.000000e+01  6.000000e+01  6.000000e+01   60.000000   60.000000   \n",
       "mean   1.000000e-03  1.000000e-03  1.000000e-03  -22.376158  -79.282372   \n",
       "std    6.560110e-19  6.560110e-19  6.560110e-19   98.681245  386.412083   \n",
       "min    1.000000e-03  1.000000e-03  1.000000e-03 -219.800000 -831.610000   \n",
       "25%    1.000000e-03  1.000000e-03  1.000000e-03  -18.137000  -65.816750   \n",
       "50%    1.000000e-03  1.000000e-03  1.000000e-03    6.192950   25.124500   \n",
       "75%    1.000000e-03  1.000000e-03  1.000000e-03   33.206000  116.542500   \n",
       "max    1.000000e-03  1.000000e-03  1.000000e-03  101.090000  464.490000   \n",
       "\n",
       "           870.88     872.63     874.38     876.13    877.88  ...   1737.13  \\\n",
       "count   60.000000  60.000000  60.000000  60.000000  60.00000  ...  60.00000   \n",
       "mean    -9.747710  61.435517  63.454850  63.060100  61.42710  ...  56.62385   \n",
       "std    224.213526  10.037716  10.169806  10.130332  10.00967  ...  10.59067   \n",
       "min   -424.710000  35.295000  36.586000  36.099000  34.59200  ...  29.97700   \n",
       "25%    -19.444250  57.511250  59.920000  59.390250  57.89625  ...  51.86325   \n",
       "50%     32.943000  64.552000  66.510000  66.011500  64.26450  ...  59.36900   \n",
       "75%     88.267500  67.844750  69.713500  69.314750  67.67650  ...  62.91000   \n",
       "max    369.440000  76.971000  78.993000  78.589000  76.93000  ...  73.40500   \n",
       "\n",
       "         1738.88    1740.63    1742.38    1744.13    1745.88    1747.63  \\\n",
       "count  60.000000  60.000000  60.000000  60.000000  60.000000  60.000000   \n",
       "mean   56.740450  56.854950  56.978800  57.084133  57.172933  57.255483   \n",
       "std    10.592262  10.586519  10.573621  10.567218  10.573909  10.585283   \n",
       "min    30.166000  30.291000  30.434000  30.538000  30.640000  30.768000   \n",
       "25%    52.008000  52.149250  52.285750  52.410750  52.500500  52.541750   \n",
       "50%    59.539500  59.682000  59.825000  59.948500  60.056500  60.160000   \n",
       "75%    63.065500  63.205500  63.340750  63.451250  63.566250  63.668750   \n",
       "max    73.463000  73.491000  73.553000  73.608000  73.651000  73.713000   \n",
       "\n",
       "         1749.38    1751.13    1752.88  \n",
       "count  60.000000  60.000000  60.000000  \n",
       "mean   57.334700  57.411633  57.492417  \n",
       "std    10.590813  10.597759  10.589627  \n",
       "min    30.876000  30.999000  31.153000  \n",
       "25%    52.556000  52.591000  52.664000  \n",
       "50%    60.293500  60.483500  60.625500  \n",
       "75%    63.733750  63.787250  63.845750  \n",
       "max    73.801000  73.876000  73.898000  \n",
       "\n",
       "[8 rows x 510 columns]"
      ]
     },
     "execution_count": 18,
     "metadata": {},
     "output_type": "execute_result"
    }
   ],
   "source": [
    "X.describe()"
   ]
  },
  {
   "cell_type": "code",
   "execution_count": 19,
   "metadata": {},
   "outputs": [
    {
     "data": {
      "text/plain": [
       "510"
      ]
     },
     "execution_count": 19,
     "metadata": {},
     "output_type": "execute_result"
    }
   ],
   "source": [
    "len(X.columns)"
   ]
  },
  {
   "cell_type": "markdown",
   "metadata": {},
   "source": [
    "this is too many columns, too many features for linear regression. lets try a tree based model"
   ]
  },
  {
   "cell_type": "code",
   "execution_count": 20,
   "metadata": {},
   "outputs": [],
   "source": [
    "X_train, X_test, y_train, y_test = train_test_split(X, y, test_size=0.3, random_state=10)"
   ]
  },
  {
   "cell_type": "code",
   "execution_count": 21,
   "metadata": {},
   "outputs": [
    {
     "data": {
      "text/plain": [
       "(18, 18)"
      ]
     },
     "execution_count": 21,
     "metadata": {},
     "output_type": "execute_result"
    }
   ],
   "source": [
    "len(X_test), len(y_test)"
   ]
  },
  {
   "cell_type": "code",
   "execution_count": 22,
   "metadata": {},
   "outputs": [
    {
     "data": {
      "text/plain": [
       "(42, 42)"
      ]
     },
     "execution_count": 22,
     "metadata": {},
     "output_type": "execute_result"
    }
   ],
   "source": [
    "len(X_train), len(y_train)"
   ]
  },
  {
   "cell_type": "code",
   "execution_count": 23,
   "metadata": {},
   "outputs": [
    {
     "data": {
      "text/plain": [
       "<matplotlib.axes._subplots.AxesSubplot at 0x7fa7c9f36250>"
      ]
     },
     "execution_count": 23,
     "metadata": {},
     "output_type": "execute_result"
    },
    {
     "data": {
      "image/png": "[encoded data removed]",
      "text/plain": [
       "<Figure size 432x288 with 1 Axes>"
      ]
     },
     "metadata": {
      "needs_background": "light"
     },
     "output_type": "display_data"
    }
   ],
   "source": [
    "y_test.hist()"
   ]
  },
  {
   "cell_type": "code",
   "execution_count": 24,
   "metadata": {},
   "outputs": [
    {
     "data": {
      "text/plain": [
       "<matplotlib.axes._subplots.AxesSubplot at 0x7fa7c9e73f50>"
      ]
     },
     "execution_count": 24,
     "metadata": {},
     "output_type": "execute_result"
    },
    {
     "data": {
      "image/png": "[encoded data removed]",
      "text/plain": [
       "<Figure size 432x288 with 1 Axes>"
      ]
     },
     "metadata": {
      "needs_background": "light"
     },
     "output_type": "display_data"
    }
   ],
   "source": [
    "y_train.hist()"
   ]
  },
  {
   "cell_type": "markdown",
   "metadata": {},
   "source": [
    "# fit baseline model to raw data"
   ]
  },
  {
   "cell_type": "code",
   "execution_count": 25,
   "metadata": {},
   "outputs": [],
   "source": [
    "model = RandomForestRegressor(random_state=10, max_depth=5, n_estimators=10)"
   ]
  },
  {
   "cell_type": "code",
   "execution_count": 26,
   "metadata": {},
   "outputs": [
    {
     "data": {
      "text/plain": [
       "RandomForestRegressor(max_depth=5, n_estimators=10, random_state=10)"
      ]
     },
     "execution_count": 26,
     "metadata": {},
     "output_type": "execute_result"
    }
   ],
   "source": [
    "model.fit(X_train, y_train)"
   ]
  },
  {
   "cell_type": "markdown",
   "metadata": {},
   "source": [
    "# score model"
   ]
  },
  {
   "cell_type": "code",
   "execution_count": 27,
   "metadata": {},
   "outputs": [],
   "source": [
    "# feature_names = X_train.columns\n",
    "# result = permutation_importance(model, X_train, y_train, n_repeats=10,\n",
    "#                                 random_state=42)\n",
    "# perm_sorted_idx = result.importances_mean.argsort()\n",
    "\n",
    "# tree_importance_sorted_idx = np.argsort(model.feature_importances_)\n",
    "# tree_indices = np.arange(0, len(model.feature_importances_)) + 0.5\n",
    "\n",
    "# fig, (ax1, ax2) = plt.subplots(1, 2, figsize=(12, 8))\n",
    "# ax1.barh(tree_indices,\n",
    "#          model.feature_importances_[tree_importance_sorted_idx], height=0.7)\n",
    "# ax1.set_yticklabels(feature_names[tree_importance_sorted_idx])\n",
    "# ax1.set_yticks(tree_indices)\n",
    "# ax1.set_ylim((0, len(model.feature_importances_)))\n",
    "# ax2.boxplot(result.importances[perm_sorted_idx].T, vert=False,\n",
    "#             labels=feature_names[perm_sorted_idx])\n",
    "# fig.tight_layout()\n",
    "# plt.show()"
   ]
  },
  {
   "cell_type": "code",
   "execution_count": 28,
   "metadata": {},
   "outputs": [],
   "source": [
    "# def score_model(model, X_train, y_train, X_test, y_test):\n",
    "#     return {\n",
    "#         'train_r2':model.score(X_train, y_train),\n",
    "#         'train_rms3':np.sqrt(mean_squared_error(y_train, model.predict(X_train))),\n",
    "#         'test_r2':model.score(X_test, y_test),\n",
    "#         'test_rmse':np.sqrt(mean_squared_error(y_test, model.predict(X_test)))\n",
    "#     }"
   ]
  },
  {
   "cell_type": "code",
   "execution_count": 29,
   "metadata": {},
   "outputs": [
    {
     "data": {
      "text/plain": [
       "{'train_r2': 0.9952928299053715,\n",
       " 'train_rms3': 0.035107916744219494,\n",
       " 'test_r2': 0.753345138375459,\n",
       " 'test_rmse': 0.06990791009670655}"
      ]
     },
     "execution_count": 29,
     "metadata": {},
     "output_type": "execute_result"
    }
   ],
   "source": [
    "score_model(model, X_train, y_train, X_test, y_test)"
   ]
  },
  {
   "cell_type": "markdown",
   "metadata": {},
   "source": [
    "# select K best features based on feature importance"
   ]
  },
  {
   "cell_type": "code",
   "execution_count": 30,
   "metadata": {},
   "outputs": [],
   "source": [
    "feature_selector = SelectFromModel(model, prefit=True)"
   ]
  },
  {
   "cell_type": "code",
   "execution_count": 31,
   "metadata": {},
   "outputs": [],
   "source": [
    "X_train_selected = feature_selector.transform(X_train)"
   ]
  },
  {
   "cell_type": "code",
   "execution_count": 32,
   "metadata": {},
   "outputs": [
    {
     "data": {
      "text/plain": [
       "(42, 19)"
      ]
     },
     "execution_count": 32,
     "metadata": {},
     "output_type": "execute_result"
    }
   ],
   "source": [
    "X_train_selected.shape"
   ]
  },
  {
   "cell_type": "code",
   "execution_count": 33,
   "metadata": {},
   "outputs": [
    {
     "data": {
      "text/plain": [
       "510"
      ]
     },
     "execution_count": 33,
     "metadata": {},
     "output_type": "execute_result"
    }
   ],
   "source": [
    "len(feature_selector.get_support())"
   ]
  },
  {
   "cell_type": "code",
   "execution_count": 34,
   "metadata": {},
   "outputs": [],
   "source": [
    "selected_features = X_test.columns[feature_selector.get_support()]"
   ]
  },
  {
   "cell_type": "code",
   "execution_count": 35,
   "metadata": {},
   "outputs": [
    {
     "data": {
      "text/plain": [
       "Index(['867.38', '872.63', '874.38', '916.38', '933.88', '956.63', '972.38',\n",
       "       '1045.88', '1054.63', '1079.13', '1119.38', '1234.88', '1325.88',\n",
       "       '1367.88', '1380.13', '1451.88', '1625.13', '1637.38', '1654.88'],\n",
       "      dtype='object')"
      ]
     },
     "execution_count": 35,
     "metadata": {},
     "output_type": "execute_result"
    }
   ],
   "source": [
    "selected_features"
   ]
  },
  {
   "cell_type": "code",
   "execution_count": 36,
   "metadata": {},
   "outputs": [],
   "source": [
    "X_test_selected = X_test[selected_features]"
   ]
  },
  {
   "cell_type": "code",
   "execution_count": 37,
   "metadata": {},
   "outputs": [
    {
     "data": {
      "text/plain": [
       "RandomForestRegressor(max_depth=5, n_estimators=10, random_state=10)"
      ]
     },
     "execution_count": 37,
     "metadata": {},
     "output_type": "execute_result"
    }
   ],
   "source": [
    "model.fit(X_train_selected, y_train)"
   ]
  },
  {
   "cell_type": "code",
   "execution_count": 38,
   "metadata": {},
   "outputs": [
    {
     "data": {
      "text/plain": [
       "{'train_r2': 0.9952892222578713,\n",
       " 'train_rms3': 0.03512136779090612,\n",
       " 'test_r2': 0.763757680653316,\n",
       " 'test_rmse': 0.06841641727021744}"
      ]
     },
     "execution_count": 38,
     "metadata": {},
     "output_type": "execute_result"
    }
   ],
   "source": [
    "score_model(model, X_train_selected, y_train, X_test_selected, y_test)"
   ]
  },
  {
   "cell_type": "markdown",
   "metadata": {},
   "source": [
    "this might be too many variable for a linear regression to handle. We might need to do some feature engineering to downsample these OR we can try using a model that will handle them better. but let's see how it does."
   ]
  },
  {
   "cell_type": "markdown",
   "metadata": {},
   "source": [
    "# plot residuals"
   ]
  },
  {
   "cell_type": "code",
   "execution_count": 39,
   "metadata": {},
   "outputs": [
    {
     "data": {
      "text/plain": [
       "<matplotlib.collections.PathCollection at 0x7fa7c9fdc410>"
      ]
     },
     "execution_count": 39,
     "metadata": {},
     "output_type": "execute_result"
    },
    {
     "data": {
      "image/png": "[encoded data removed]",
      "text/plain": [
       "<Figure size 432x288 with 1 Axes>"
      ]
     },
     "metadata": {
      "needs_background": "light"
     },
     "output_type": "display_data"
    }
   ],
   "source": [
    "plt.scatter(y_test, y_test-model.predict(X_test_selected))"
   ]
  },
  {
   "cell_type": "code",
   "execution_count": 40,
   "metadata": {},
   "outputs": [],
   "source": [
    "# regressor_OLS = OLS(endog = y_train, exog = X_train).fit()\n",
    "# regressor_OLS.summary()"
   ]
  },
  {
   "cell_type": "code",
   "execution_count": 41,
   "metadata": {},
   "outputs": [],
   "source": [
    "# lets fill some nA"
   ]
  },
  {
   "cell_type": "code",
   "execution_count": 42,
   "metadata": {},
   "outputs": [],
   "source": [
    "# lr = LinearRegression()"
   ]
  },
  {
   "cell_type": "code",
   "execution_count": 43,
   "metadata": {},
   "outputs": [],
   "source": [
    "# lr.fit(X, y)"
   ]
  }
 ],
 "metadata": {
  "kernelspec": {
   "display_name": "Python 3",
   "language": "python",
   "name": "python3"
  },
  "language_info": {
   "codemirror_mode": {
    "name": "ipython",
    "version": 3
   },
   "file_extension": ".py",
   "mimetype": "text/x-python",
   "name": "python",
   "nbconvert_exporter": "python",
   "pygments_lexer": "ipython3",
   "version": "3.7.4"
  }
 },
 "nbformat": 4,
 "nbformat_minor": 4
}

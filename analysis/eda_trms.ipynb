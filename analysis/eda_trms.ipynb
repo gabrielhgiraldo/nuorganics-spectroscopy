{
 "cells": [
  {
   "cell_type": "code",
   "execution_count": 1,
   "metadata": {},
   "outputs": [],
   "source": [
    "from pathlib import Path\n",
    "\n",
    "import matplotlib.pyplot as plt\n",
    "%matplotlib inline\n",
    "import pandas as pd"
   ]
  },
  {
   "cell_type": "code",
   "execution_count": 2,
   "metadata": {},
   "outputs": [],
   "source": [
    "DATA_DIR = Path().cwd().parent / 'data'"
   ]
  },
  {
   "cell_type": "code",
   "execution_count": 3,
   "metadata": {},
   "outputs": [],
   "source": [
    "assert DATA_DIR.exists()"
   ]
  },
  {
   "cell_type": "markdown",
   "metadata": {},
   "source": [
    "# Read in .TRM files"
   ]
  },
  {
   "cell_type": "code",
   "execution_count": 4,
   "metadata": {},
   "outputs": [],
   "source": [
    "dfs = [pd.read_csv(filename) for filename in DATA_DIR.glob('*.TRM')]"
   ]
  },
  {
   "cell_type": "code",
   "execution_count": 35,
   "metadata": {},
   "outputs": [
    {
     "data": {
      "text/plain": [
       "96"
      ]
     },
     "execution_count": 35,
     "metadata": {},
     "output_type": "execute_result"
    }
   ],
   "source": [
    "len(dfs)"
   ]
  },
  {
   "cell_type": "code",
   "execution_count": 5,
   "metadata": {},
   "outputs": [],
   "source": [
    "df = dfs[0]"
   ]
  },
  {
   "cell_type": "code",
   "execution_count": 6,
   "metadata": {},
   "outputs": [
    {
     "data": {
      "text/html": [
       "<div>\n",
       "<style scoped>\n",
       "    .dataframe tbody tr th:only-of-type {\n",
       "        vertical-align: middle;\n",
       "    }\n",
       "\n",
       "    .dataframe tbody tr th {\n",
       "        vertical-align: top;\n",
       "    }\n",
       "\n",
       "    .dataframe thead th {\n",
       "        text-align: right;\n",
       "    }\n",
       "</style>\n",
       "<table border=\"1\" class=\"dataframe\">\n",
       "  <thead>\n",
       "    <tr style=\"text-align: right;\">\n",
       "      <th></th>\n",
       "      <th>File: Users\\stell\\Desktop\\StellarDat\\South 7 -\\r\\n  TRANS-&gt;  Wave:2830.74nm  Pix:1050  Val:-507.811  Time: 40ms  Avg:10  Sm:2  Sg:0  Tc:off  SNAP  Xt:3  Ch:1</th>\n",
       "    </tr>\n",
       "  </thead>\n",
       "  <tbody>\n",
       "    <tr>\n",
       "      <th>0</th>\n",
       "      <td>862.13  1.0000E-003</td>\n",
       "    </tr>\n",
       "    <tr>\n",
       "      <th>1</th>\n",
       "      <td>863.88  1.0000E-003</td>\n",
       "    </tr>\n",
       "    <tr>\n",
       "      <th>2</th>\n",
       "      <td>865.63  1.0000E-003</td>\n",
       "    </tr>\n",
       "    <tr>\n",
       "      <th>3</th>\n",
       "      <td>867.38  -2.7772E+001</td>\n",
       "    </tr>\n",
       "    <tr>\n",
       "      <th>4</th>\n",
       "      <td>869.13  -1.1008E+002</td>\n",
       "    </tr>\n",
       "  </tbody>\n",
       "</table>\n",
       "</div>"
      ],
      "text/plain": [
       "   File: Users\\stell\\Desktop\\StellarDat\\South 7 -\\r\\n  TRANS->  Wave:2830.74nm  Pix:1050  Val:-507.811  Time: 40ms  Avg:10  Sm:2  Sg:0  Tc:off  SNAP  Xt:3  Ch:1   \n",
       "0                                862.13  1.0000E-003                                                                                                               \n",
       "1                                863.88  1.0000E-003                                                                                                               \n",
       "2                                865.63  1.0000E-003                                                                                                               \n",
       "3                               867.38  -2.7772E+001                                                                                                               \n",
       "4                               869.13  -1.1008E+002                                                                                                               "
      ]
     },
     "execution_count": 6,
     "metadata": {},
     "output_type": "execute_result"
    }
   ],
   "source": [
    "df.head()"
   ]
  },
  {
   "cell_type": "markdown",
   "metadata": {},
   "source": [
    "## extract the header information"
   ]
  },
  {
   "cell_type": "code",
   "execution_count": 7,
   "metadata": {},
   "outputs": [],
   "source": [
    "info = df.columns[0]"
   ]
  },
  {
   "cell_type": "markdown",
   "metadata": {},
   "source": [
    "## extract the time series info"
   ]
  },
  {
   "cell_type": "code",
   "execution_count": 8,
   "metadata": {},
   "outputs": [],
   "source": [
    "data = df.iloc[:,0]"
   ]
  },
  {
   "cell_type": "code",
   "execution_count": 9,
   "metadata": {},
   "outputs": [
    {
     "data": {
      "text/plain": [
       "0        862.13  1.0000E-003\n",
       "1        863.88  1.0000E-003\n",
       "2        865.63  1.0000E-003\n",
       "3       867.38  -2.7772E+001\n",
       "4       869.13  -1.1008E+002\n",
       "               ...          \n",
       "505     1745.88  4.2877E+001\n",
       "506     1747.63  4.2926E+001\n",
       "507     1749.38  4.2985E+001\n",
       "508     1751.13  4.3094E+001\n",
       "509     1752.88  4.3248E+001\n",
       "Name:  File: Users\\stell\\Desktop\\StellarDat\\South 7 -\\r\\n  TRANS->  Wave:2830.74nm  Pix:1050  Val:-507.811  Time: 40ms  Avg:10  Sm:2  Sg:0  Tc:off  SNAP  Xt:3  Ch:1   , Length: 510, dtype: object"
      ]
     },
     "execution_count": 9,
     "metadata": {},
     "output_type": "execute_result"
    }
   ],
   "source": [
    "data"
   ]
  },
  {
   "cell_type": "markdown",
   "metadata": {},
   "source": [
    "## get number of steps in time series"
   ]
  },
  {
   "cell_type": "code",
   "execution_count": 10,
   "metadata": {},
   "outputs": [
    {
     "data": {
      "text/plain": [
       "510"
      ]
     },
     "execution_count": 10,
     "metadata": {},
     "output_type": "execute_result"
    }
   ],
   "source": [
    "len(data)"
   ]
  },
  {
   "cell_type": "markdown",
   "metadata": {},
   "source": [
    "## remove whitespace"
   ]
  },
  {
   "cell_type": "code",
   "execution_count": 11,
   "metadata": {},
   "outputs": [],
   "source": [
    "data = data.str.strip()"
   ]
  },
  {
   "cell_type": "markdown",
   "metadata": {},
   "source": [
    "## split columns on space"
   ]
  },
  {
   "cell_type": "code",
   "execution_count": 12,
   "metadata": {},
   "outputs": [],
   "source": [
    "data = data.str.partition(' ')"
   ]
  },
  {
   "cell_type": "code",
   "execution_count": 13,
   "metadata": {},
   "outputs": [
    {
     "data": {
      "text/html": [
       "<div>\n",
       "<style scoped>\n",
       "    .dataframe tbody tr th:only-of-type {\n",
       "        vertical-align: middle;\n",
       "    }\n",
       "\n",
       "    .dataframe tbody tr th {\n",
       "        vertical-align: top;\n",
       "    }\n",
       "\n",
       "    .dataframe thead th {\n",
       "        text-align: right;\n",
       "    }\n",
       "</style>\n",
       "<table border=\"1\" class=\"dataframe\">\n",
       "  <thead>\n",
       "    <tr style=\"text-align: right;\">\n",
       "      <th></th>\n",
       "      <th>0</th>\n",
       "      <th>1</th>\n",
       "      <th>2</th>\n",
       "    </tr>\n",
       "  </thead>\n",
       "  <tbody>\n",
       "    <tr>\n",
       "      <th>0</th>\n",
       "      <td>862.13</td>\n",
       "      <td></td>\n",
       "      <td>1.0000E-003</td>\n",
       "    </tr>\n",
       "    <tr>\n",
       "      <th>1</th>\n",
       "      <td>863.88</td>\n",
       "      <td></td>\n",
       "      <td>1.0000E-003</td>\n",
       "    </tr>\n",
       "    <tr>\n",
       "      <th>2</th>\n",
       "      <td>865.63</td>\n",
       "      <td></td>\n",
       "      <td>1.0000E-003</td>\n",
       "    </tr>\n",
       "    <tr>\n",
       "      <th>3</th>\n",
       "      <td>867.38</td>\n",
       "      <td></td>\n",
       "      <td>-2.7772E+001</td>\n",
       "    </tr>\n",
       "    <tr>\n",
       "      <th>4</th>\n",
       "      <td>869.13</td>\n",
       "      <td></td>\n",
       "      <td>-1.1008E+002</td>\n",
       "    </tr>\n",
       "  </tbody>\n",
       "</table>\n",
       "</div>"
      ],
      "text/plain": [
       "        0  1              2\n",
       "0  862.13       1.0000E-003\n",
       "1  863.88       1.0000E-003\n",
       "2  865.63       1.0000E-003\n",
       "3  867.38      -2.7772E+001\n",
       "4  869.13      -1.1008E+002"
      ]
     },
     "execution_count": 13,
     "metadata": {},
     "output_type": "execute_result"
    }
   ],
   "source": [
    "data.head()"
   ]
  },
  {
   "cell_type": "markdown",
   "metadata": {},
   "source": [
    "## get first column as wavelengths"
   ]
  },
  {
   "cell_type": "code",
   "execution_count": 14,
   "metadata": {},
   "outputs": [
    {
     "data": {
      "text/plain": [
       "0    862.13\n",
       "1    863.88\n",
       "2    865.63\n",
       "3    867.38\n",
       "4    869.13\n",
       "Name: 0, dtype: object"
      ]
     },
     "execution_count": 14,
     "metadata": {},
     "output_type": "execute_result"
    }
   ],
   "source": [
    "wavelengths = data[0]\n",
    "wavelengths.head()"
   ]
  },
  {
   "cell_type": "markdown",
   "metadata": {},
   "source": [
    "## convert wavelengths to float (decimal numbers)"
   ]
  },
  {
   "cell_type": "code",
   "execution_count": 15,
   "metadata": {},
   "outputs": [
    {
     "data": {
      "text/plain": [
       "0    862.13\n",
       "1    863.88\n",
       "2    865.63\n",
       "3    867.38\n",
       "4    869.13\n",
       "Name: 0, dtype: float64"
      ]
     },
     "execution_count": 15,
     "metadata": {},
     "output_type": "execute_result"
    }
   ],
   "source": [
    "wavelengths = wavelengths.astype(float)\n",
    "wavelengths.head()"
   ]
  },
  {
   "cell_type": "code",
   "execution_count": 16,
   "metadata": {},
   "outputs": [
    {
     "data": {
      "text/plain": [
       "count     510.000000\n",
       "mean     1307.505000\n",
       "std       257.895025\n",
       "min       862.130000\n",
       "25%      1084.817500\n",
       "50%      1307.505000\n",
       "75%      1530.192500\n",
       "max      1752.880000\n",
       "Name: 0, dtype: float64"
      ]
     },
     "execution_count": 16,
     "metadata": {},
     "output_type": "execute_result"
    }
   ],
   "source": [
    "wavelengths.describe()"
   ]
  },
  {
   "cell_type": "code",
   "execution_count": 17,
   "metadata": {},
   "outputs": [
    {
     "data": {
      "text/plain": [
       "[<matplotlib.lines.Line2D at 0x1164b2b00>]"
      ]
     },
     "execution_count": 17,
     "metadata": {},
     "output_type": "execute_result"
    },
    {
     "data": {
      "image/png": "[encoded data removed]",
      "text/plain": [
       "<Figure size 432x288 with 1 Axes>"
      ]
     },
     "metadata": {
      "needs_background": "light"
     },
     "output_type": "display_data"
    }
   ],
   "source": [
    "plt.plot(wavelengths)"
   ]
  },
  {
   "cell_type": "markdown",
   "metadata": {},
   "source": [
    "## extract transmittance"
   ]
  },
  {
   "cell_type": "code",
   "execution_count": 18,
   "metadata": {},
   "outputs": [
    {
     "data": {
      "text/plain": [
       "0      1.0000E-003\n",
       "1      1.0000E-003\n",
       "2      1.0000E-003\n",
       "3     -2.7772E+001\n",
       "4     -1.1008E+002\n",
       "Name: 2, dtype: object"
      ]
     },
     "execution_count": 18,
     "metadata": {},
     "output_type": "execute_result"
    }
   ],
   "source": [
    "transmittance = data[2]\n",
    "transmittance.head()"
   ]
  },
  {
   "cell_type": "markdown",
   "metadata": {},
   "source": [
    "## convert transmittance to float"
   ]
  },
  {
   "cell_type": "code",
   "execution_count": 19,
   "metadata": {},
   "outputs": [],
   "source": [
    "transmittance = transmittance.astype(float)"
   ]
  },
  {
   "cell_type": "code",
   "execution_count": 20,
   "metadata": {},
   "outputs": [
    {
     "data": {
      "text/plain": [
       "0      0.001\n",
       "1      0.001\n",
       "2      0.001\n",
       "3    -27.772\n",
       "4   -110.080\n",
       "Name: 2, dtype: float64"
      ]
     },
     "execution_count": 20,
     "metadata": {},
     "output_type": "execute_result"
    }
   ],
   "source": [
    "transmittance.head()"
   ]
  },
  {
   "cell_type": "code",
   "execution_count": 21,
   "metadata": {},
   "outputs": [
    {
     "data": {
      "text/plain": [
       "count    510.000000\n",
       "mean      45.304892\n",
       "std       14.092619\n",
       "min     -110.080000\n",
       "25%       35.538500\n",
       "50%       50.131000\n",
       "75%       55.729750\n",
       "max       59.612000\n",
       "Name: 2, dtype: float64"
      ]
     },
     "execution_count": 21,
     "metadata": {},
     "output_type": "execute_result"
    }
   ],
   "source": [
    "transmittance.describe()"
   ]
  },
  {
   "cell_type": "markdown",
   "metadata": {},
   "source": [
    "## remove transmittance values that are less than 0 and corresponding wavelengths"
   ]
  },
  {
   "cell_type": "code",
   "execution_count": 22,
   "metadata": {},
   "outputs": [],
   "source": [
    "mask = transmittance > 0\n",
    "transmittance = transmittance[mask]\n",
    "wavelengths = wavelengths[mask]"
   ]
  },
  {
   "cell_type": "code",
   "execution_count": 23,
   "metadata": {},
   "outputs": [],
   "source": [
    "# plot transmittance vs wavelength"
   ]
  },
  {
   "cell_type": "code",
   "execution_count": 24,
   "metadata": {},
   "outputs": [],
   "source": [
    "def plot_sample(wavelengths, transmittance):\n",
    "    plt.figure(figsize=(20,10))\n",
    "    plt.title('Transmittance vs Wavelength')\n",
    "    plt.xlabel('Wavelength(nm)')\n",
    "    plt.ylabel('Transmittance (counts)')\n",
    "    plt.plot(wavelengths, transmittance)"
   ]
  },
  {
   "cell_type": "code",
   "execution_count": 25,
   "metadata": {},
   "outputs": [
    {
     "data": {
      "image/png": "[encoded data removed]",
      "text/plain": [
       "<Figure size 1440x720 with 1 Axes>"
      ]
     },
     "metadata": {
      "needs_background": "light"
     },
     "output_type": "display_data"
    }
   ],
   "source": [
    "plot_sample(wavelengths, transmittance)"
   ]
  },
  {
   "cell_type": "markdown",
   "metadata": {},
   "source": [
    "# convert TRM to sample"
   ]
  },
  {
   "cell_type": "code",
   "execution_count": 26,
   "metadata": {},
   "outputs": [
    {
     "data": {
      "text/plain": [
       "0       0.001\n",
       "1       0.001\n",
       "2       0.001\n",
       "6      50.165\n",
       "7      52.641\n",
       "        ...  \n",
       "505    42.877\n",
       "506    42.926\n",
       "507    42.985\n",
       "508    43.094\n",
       "509    43.248\n",
       "Name: 2, Length: 507, dtype: float64"
      ]
     },
     "execution_count": 26,
     "metadata": {},
     "output_type": "execute_result"
    }
   ],
   "source": [
    "transmittance"
   ]
  },
  {
   "cell_type": "code",
   "execution_count": 27,
   "metadata": {},
   "outputs": [
    {
     "data": {
      "text/html": [
       "<div>\n",
       "<style scoped>\n",
       "    .dataframe tbody tr th:only-of-type {\n",
       "        vertical-align: middle;\n",
       "    }\n",
       "\n",
       "    .dataframe tbody tr th {\n",
       "        vertical-align: top;\n",
       "    }\n",
       "\n",
       "    .dataframe thead th {\n",
       "        text-align: right;\n",
       "    }\n",
       "</style>\n",
       "<table border=\"1\" class=\"dataframe\">\n",
       "  <thead>\n",
       "    <tr style=\"text-align: right;\">\n",
       "      <th></th>\n",
       "      <th>862.13</th>\n",
       "      <th>863.88</th>\n",
       "      <th>865.63</th>\n",
       "      <th>872.63</th>\n",
       "      <th>874.38</th>\n",
       "      <th>876.13</th>\n",
       "      <th>877.88</th>\n",
       "      <th>879.63</th>\n",
       "      <th>881.38</th>\n",
       "      <th>883.13</th>\n",
       "      <th>...</th>\n",
       "      <th>1737.13</th>\n",
       "      <th>1738.88</th>\n",
       "      <th>1740.63</th>\n",
       "      <th>1742.38</th>\n",
       "      <th>1744.13</th>\n",
       "      <th>1745.88</th>\n",
       "      <th>1747.63</th>\n",
       "      <th>1749.38</th>\n",
       "      <th>1751.13</th>\n",
       "      <th>1752.88</th>\n",
       "    </tr>\n",
       "  </thead>\n",
       "  <tbody>\n",
       "    <tr>\n",
       "      <th>0</th>\n",
       "      <td>0.001</td>\n",
       "      <td>0.001</td>\n",
       "      <td>0.001</td>\n",
       "      <td>50.165</td>\n",
       "      <td>52.641</td>\n",
       "      <td>52.146</td>\n",
       "      <td>50.02</td>\n",
       "      <td>49.476</td>\n",
       "      <td>49.373</td>\n",
       "      <td>49.398</td>\n",
       "      <td>...</td>\n",
       "      <td>42.207</td>\n",
       "      <td>42.288</td>\n",
       "      <td>42.426</td>\n",
       "      <td>42.624</td>\n",
       "      <td>42.804</td>\n",
       "      <td>42.877</td>\n",
       "      <td>42.926</td>\n",
       "      <td>42.985</td>\n",
       "      <td>43.094</td>\n",
       "      <td>43.248</td>\n",
       "    </tr>\n",
       "  </tbody>\n",
       "</table>\n",
       "<p>1 rows × 507 columns</p>\n",
       "</div>"
      ],
      "text/plain": [
       "0  862.13   863.88   865.63   872.63   874.38   876.13   877.88   879.63   \\\n",
       "0    0.001    0.001    0.001   50.165   52.641   52.146    50.02   49.476   \n",
       "\n",
       "0  881.38   883.13   ...  1737.13  1738.88  1740.63  1742.38  1744.13  \\\n",
       "0   49.373   49.398  ...   42.207   42.288   42.426   42.624   42.804   \n",
       "\n",
       "0  1745.88  1747.63  1749.38  1751.13  1752.88  \n",
       "0   42.877   42.926   42.985   43.094   43.248  \n",
       "\n",
       "[1 rows x 507 columns]"
      ]
     },
     "execution_count": 27,
     "metadata": {},
     "output_type": "execute_result"
    }
   ],
   "source": [
    "pd.DataFrame([transmittance.values], columns=wavelengths)"
   ]
  },
  {
   "cell_type": "code",
   "execution_count": 28,
   "metadata": {},
   "outputs": [],
   "source": [
    "def _extract_trm_filename_info(filename):\n",
    "    sample_name_method, _, _ = filename.partition('-')\n",
    "    if '(' in sample_name_method:\n",
    "        sample_name, _, process_method = sample_name_method.partition('(')\n",
    "        sample_name = sample_name.strip()\n",
    "        process_method = process_method.strip()[:-1] # drop )\n",
    "    else:\n",
    "        sample_name = sample_name_method.strip()\n",
    "        process_method = ''\n",
    "    sample_date = pd.to_datetime(filename.partition('-')[2].partition('#')[0])\n",
    "    run_number = filename.partition('#')[2].partition('.')[0]\n",
    "    return sample_name, process_method, sample_date, run_number"
   ]
  },
  {
   "cell_type": "code",
   "execution_count": 29,
   "metadata": {},
   "outputs": [],
   "source": [
    "def parse_trm_files_files(trm_path, drop_neg_trans=False):\n",
    "    trm_path = Path(trm_path)\n",
    "    df = pd.read_csv(trm_path)\n",
    "    extra_info = df.columns[0]\n",
    "    data = df.iloc[:,0]\\\n",
    "             .str.strip()\\\n",
    "             .str.partition(' ')\n",
    "    wavelengths = data[0].astype(float)\n",
    "    transmittance = data[2].astype(float)\n",
    "    if drop_neg_trans:\n",
    "        mask = transmittance > 0\n",
    "        transmittance = transmittance[mask]\n",
    "        wavelengths = wavelengths[mask]\n",
    "    sample_df = pd.DataFrame([transmittance.values], columns=wavelengths)\n",
    "    sample_df['extra_info'] = extra_info\n",
    "    sample_df['filename'] = trm_path.name\n",
    "    sample_name, process_method, sample_date, run_number = _extract_trm_filename_info(trm_path.name)\n",
    "    sample_df['sample_name'] = sample_name\n",
    "    sample_df['sample_date'] = sample_date\n",
    "    sample_df['run_number'] = run_number\n",
    "    sample_df['process_method'] = process_method\n",
    "    return sample_df"
   ]
  },
  {
   "cell_type": "code",
   "execution_count": 30,
   "metadata": {},
   "outputs": [],
   "source": [
    "def parse_trm_files_filess(trm_directory):\n",
    "    trm_directory = Path(trm_directory)\n",
    "    return pd.concat([parse_trm_files_files(trm_filepath) for trm_filepath in trm_directory.glob(\"*.TRM\")])"
   ]
  },
  {
   "cell_type": "code",
   "execution_count": 31,
   "metadata": {},
   "outputs": [],
   "source": [
    "df_trms = parse_trm_files_filess(DATA_DIR)"
   ]
  },
  {
   "cell_type": "code",
   "execution_count": 32,
   "metadata": {},
   "outputs": [
    {
     "data": {
      "text/plain": [
       "96"
      ]
     },
     "execution_count": 32,
     "metadata": {},
     "output_type": "execute_result"
    }
   ],
   "source": [
    "len(df_trms)"
   ]
  },
  {
   "cell_type": "code",
   "execution_count": 33,
   "metadata": {},
   "outputs": [
    {
     "data": {
      "text/html": [
       "<div>\n",
       "<style scoped>\n",
       "    .dataframe tbody tr th:only-of-type {\n",
       "        vertical-align: middle;\n",
       "    }\n",
       "\n",
       "    .dataframe tbody tr th {\n",
       "        vertical-align: top;\n",
       "    }\n",
       "\n",
       "    .dataframe thead th {\n",
       "        text-align: right;\n",
       "    }\n",
       "</style>\n",
       "<table border=\"1\" class=\"dataframe\">\n",
       "  <thead>\n",
       "    <tr style=\"text-align: right;\">\n",
       "      <th></th>\n",
       "      <th>862.13</th>\n",
       "      <th>863.88</th>\n",
       "      <th>865.63</th>\n",
       "      <th>867.38</th>\n",
       "      <th>869.13</th>\n",
       "      <th>870.88</th>\n",
       "      <th>872.63</th>\n",
       "      <th>874.38</th>\n",
       "      <th>876.13</th>\n",
       "      <th>877.88</th>\n",
       "      <th>...</th>\n",
       "      <th>1747.63</th>\n",
       "      <th>1749.38</th>\n",
       "      <th>1751.13</th>\n",
       "      <th>1752.88</th>\n",
       "      <th>extra_info</th>\n",
       "      <th>filename</th>\n",
       "      <th>sample_name</th>\n",
       "      <th>sample_date</th>\n",
       "      <th>run_number</th>\n",
       "      <th>process_method</th>\n",
       "    </tr>\n",
       "  </thead>\n",
       "  <tbody>\n",
       "    <tr>\n",
       "      <th>0</th>\n",
       "      <td>0.001</td>\n",
       "      <td>0.001</td>\n",
       "      <td>0.001</td>\n",
       "      <td>-27.7720</td>\n",
       "      <td>-110.080</td>\n",
       "      <td>-43.0240</td>\n",
       "      <td>50.165</td>\n",
       "      <td>52.641</td>\n",
       "      <td>52.146</td>\n",
       "      <td>50.020</td>\n",
       "      <td>...</td>\n",
       "      <td>42.926</td>\n",
       "      <td>42.985</td>\n",
       "      <td>43.094</td>\n",
       "      <td>43.248</td>\n",
       "      <td>File: Users\\stell\\Desktop\\StellarDat\\South 7 ...</td>\n",
       "      <td>South 7 - 7-8-20 #1.TRM</td>\n",
       "      <td>South 7</td>\n",
       "      <td>2020-07-08 00:00:00</td>\n",
       "      <td>1</td>\n",
       "      <td></td>\n",
       "    </tr>\n",
       "    <tr>\n",
       "      <th>0</th>\n",
       "      <td>0.001</td>\n",
       "      <td>0.001</td>\n",
       "      <td>0.001</td>\n",
       "      <td>-205.5200</td>\n",
       "      <td>-785.090</td>\n",
       "      <td>-407.9100</td>\n",
       "      <td>44.607</td>\n",
       "      <td>46.916</td>\n",
       "      <td>46.875</td>\n",
       "      <td>45.709</td>\n",
       "      <td>...</td>\n",
       "      <td>40.831</td>\n",
       "      <td>40.831</td>\n",
       "      <td>40.827</td>\n",
       "      <td>40.896</td>\n",
       "      <td>File: Users\\stell\\Desktop\\StellarDat\\South 1 ...</td>\n",
       "      <td>South 1 - 7-8-20-20 #3.TRM</td>\n",
       "      <td>South 1</td>\n",
       "      <td>2020-07-08 20:00:00</td>\n",
       "      <td>3</td>\n",
       "      <td></td>\n",
       "    </tr>\n",
       "    <tr>\n",
       "      <th>0</th>\n",
       "      <td>0.001</td>\n",
       "      <td>0.001</td>\n",
       "      <td>0.001</td>\n",
       "      <td>-40.4680</td>\n",
       "      <td>-160.080</td>\n",
       "      <td>-67.7330</td>\n",
       "      <td>60.219</td>\n",
       "      <td>62.969</td>\n",
       "      <td>62.520</td>\n",
       "      <td>60.343</td>\n",
       "      <td>...</td>\n",
       "      <td>55.748</td>\n",
       "      <td>55.787</td>\n",
       "      <td>55.854</td>\n",
       "      <td>55.982</td>\n",
       "      <td>File: Users\\stell\\Desktop\\StellarDat\\South 8 ...</td>\n",
       "      <td>South 8 - 7-8-20 #3.TRM</td>\n",
       "      <td>South 8</td>\n",
       "      <td>2020-07-08 00:00:00</td>\n",
       "      <td>3</td>\n",
       "      <td></td>\n",
       "    </tr>\n",
       "    <tr>\n",
       "      <th>0</th>\n",
       "      <td>0.001</td>\n",
       "      <td>0.001</td>\n",
       "      <td>0.001</td>\n",
       "      <td>-6.3474</td>\n",
       "      <td>-29.575</td>\n",
       "      <td>-0.4154</td>\n",
       "      <td>51.103</td>\n",
       "      <td>53.461</td>\n",
       "      <td>52.857</td>\n",
       "      <td>50.724</td>\n",
       "      <td>...</td>\n",
       "      <td>43.783</td>\n",
       "      <td>43.885</td>\n",
       "      <td>44.003</td>\n",
       "      <td>44.161</td>\n",
       "      <td>File: Users\\stell\\Desktop\\StellarDat\\South 10...</td>\n",
       "      <td>South 10 - 7-8-20 #2.TRM</td>\n",
       "      <td>South 10</td>\n",
       "      <td>2020-07-08 00:00:00</td>\n",
       "      <td>2</td>\n",
       "      <td></td>\n",
       "    </tr>\n",
       "    <tr>\n",
       "      <th>0</th>\n",
       "      <td>0.001</td>\n",
       "      <td>0.001</td>\n",
       "      <td>0.001</td>\n",
       "      <td>-6.3474</td>\n",
       "      <td>-30.279</td>\n",
       "      <td>1.4999</td>\n",
       "      <td>58.542</td>\n",
       "      <td>61.196</td>\n",
       "      <td>60.665</td>\n",
       "      <td>58.458</td>\n",
       "      <td>...</td>\n",
       "      <td>52.028</td>\n",
       "      <td>52.137</td>\n",
       "      <td>52.260</td>\n",
       "      <td>52.406</td>\n",
       "      <td>File: Users\\stell\\Desktop\\StellarDat\\South 10...</td>\n",
       "      <td>South 10 - 7-8-20 #3.TRM</td>\n",
       "      <td>South 10</td>\n",
       "      <td>2020-07-08 00:00:00</td>\n",
       "      <td>3</td>\n",
       "      <td></td>\n",
       "    </tr>\n",
       "    <tr>\n",
       "      <th>...</th>\n",
       "      <td>...</td>\n",
       "      <td>...</td>\n",
       "      <td>...</td>\n",
       "      <td>...</td>\n",
       "      <td>...</td>\n",
       "      <td>...</td>\n",
       "      <td>...</td>\n",
       "      <td>...</td>\n",
       "      <td>...</td>\n",
       "      <td>...</td>\n",
       "      <td>...</td>\n",
       "      <td>...</td>\n",
       "      <td>...</td>\n",
       "      <td>...</td>\n",
       "      <td>...</td>\n",
       "      <td>...</td>\n",
       "      <td>...</td>\n",
       "      <td>...</td>\n",
       "      <td>...</td>\n",
       "      <td>...</td>\n",
       "      <td>...</td>\n",
       "    </tr>\n",
       "    <tr>\n",
       "      <th>0</th>\n",
       "      <td>0.001</td>\n",
       "      <td>0.001</td>\n",
       "      <td>0.001</td>\n",
       "      <td>33.2060</td>\n",
       "      <td>116.050</td>\n",
       "      <td>80.0110</td>\n",
       "      <td>69.459</td>\n",
       "      <td>71.834</td>\n",
       "      <td>71.386</td>\n",
       "      <td>69.426</td>\n",
       "      <td>...</td>\n",
       "      <td>65.856</td>\n",
       "      <td>65.913</td>\n",
       "      <td>65.986</td>\n",
       "      <td>66.050</td>\n",
       "      <td>File: Users\\stell\\Desktop\\StellarDat\\Raw - Ha...</td>\n",
       "      <td>Hampton West 2 (Ground)- 6-15-20 #3.TRM</td>\n",
       "      <td>Hampton West 2</td>\n",
       "      <td>2020-06-15 00:00:00</td>\n",
       "      <td>3</td>\n",
       "      <td>Ground</td>\n",
       "    </tr>\n",
       "    <tr>\n",
       "      <th>0</th>\n",
       "      <td>0.001</td>\n",
       "      <td>0.001</td>\n",
       "      <td>0.001</td>\n",
       "      <td>101.0900</td>\n",
       "      <td>464.490</td>\n",
       "      <td>369.4400</td>\n",
       "      <td>59.347</td>\n",
       "      <td>60.366</td>\n",
       "      <td>59.759</td>\n",
       "      <td>58.208</td>\n",
       "      <td>...</td>\n",
       "      <td>53.833</td>\n",
       "      <td>53.961</td>\n",
       "      <td>54.094</td>\n",
       "      <td>54.177</td>\n",
       "      <td>File: Users\\stell\\Desktop\\StellarDat\\South 15...</td>\n",
       "      <td>South 15 (Ground) - 7-8-20 #3.TRM</td>\n",
       "      <td>South 15</td>\n",
       "      <td>2020-07-08 00:00:00</td>\n",
       "      <td>3</td>\n",
       "      <td>Ground</td>\n",
       "    </tr>\n",
       "    <tr>\n",
       "      <th>0</th>\n",
       "      <td>0.001</td>\n",
       "      <td>0.001</td>\n",
       "      <td>0.001</td>\n",
       "      <td>90.0710</td>\n",
       "      <td>394.670</td>\n",
       "      <td>298.8800</td>\n",
       "      <td>59.011</td>\n",
       "      <td>60.231</td>\n",
       "      <td>59.735</td>\n",
       "      <td>58.255</td>\n",
       "      <td>...</td>\n",
       "      <td>53.956</td>\n",
       "      <td>54.096</td>\n",
       "      <td>54.194</td>\n",
       "      <td>54.259</td>\n",
       "      <td>File: Users\\stell\\Desktop\\StellarDat\\South 15...</td>\n",
       "      <td>South 15 (Ground) - 7-8-20 #2.TRM</td>\n",
       "      <td>South 15</td>\n",
       "      <td>2020-07-08 00:00:00</td>\n",
       "      <td>2</td>\n",
       "      <td>Ground</td>\n",
       "    </tr>\n",
       "    <tr>\n",
       "      <th>0</th>\n",
       "      <td>0.001</td>\n",
       "      <td>0.001</td>\n",
       "      <td>0.001</td>\n",
       "      <td>23.4400</td>\n",
       "      <td>98.442</td>\n",
       "      <td>93.5010</td>\n",
       "      <td>69.543</td>\n",
       "      <td>71.842</td>\n",
       "      <td>71.347</td>\n",
       "      <td>69.429</td>\n",
       "      <td>...</td>\n",
       "      <td>66.330</td>\n",
       "      <td>66.404</td>\n",
       "      <td>66.516</td>\n",
       "      <td>66.550</td>\n",
       "      <td>File: Users\\stell\\Desktop\\StellarDat\\Raw - Ha...</td>\n",
       "      <td>Hampton West 2 (Ground)- 6-15-20 #2.TRM</td>\n",
       "      <td>Hampton West 2</td>\n",
       "      <td>2020-06-15 00:00:00</td>\n",
       "      <td>2</td>\n",
       "      <td>Ground</td>\n",
       "    </tr>\n",
       "    <tr>\n",
       "      <th>0</th>\n",
       "      <td>0.001</td>\n",
       "      <td>0.001</td>\n",
       "      <td>0.001</td>\n",
       "      <td>82.4050</td>\n",
       "      <td>343.630</td>\n",
       "      <td>248.6600</td>\n",
       "      <td>66.105</td>\n",
       "      <td>67.391</td>\n",
       "      <td>66.836</td>\n",
       "      <td>65.293</td>\n",
       "      <td>...</td>\n",
       "      <td>61.314</td>\n",
       "      <td>61.467</td>\n",
       "      <td>61.600</td>\n",
       "      <td>61.697</td>\n",
       "      <td>File: Users\\stell\\Desktop\\StellarDat\\South 9 ...</td>\n",
       "      <td>South 9 (Ground) - 7-8-20-20 #3.TRM</td>\n",
       "      <td>South 9</td>\n",
       "      <td>2020-07-08 20:00:00</td>\n",
       "      <td>3</td>\n",
       "      <td>Ground</td>\n",
       "    </tr>\n",
       "  </tbody>\n",
       "</table>\n",
       "<p>96 rows × 516 columns</p>\n",
       "</div>"
      ],
      "text/plain": [
       "0   862.13  863.88  865.63    867.38   869.13    870.88  872.63  874.38  \\\n",
       "0    0.001   0.001   0.001  -27.7720 -110.080  -43.0240  50.165  52.641   \n",
       "0    0.001   0.001   0.001 -205.5200 -785.090 -407.9100  44.607  46.916   \n",
       "0    0.001   0.001   0.001  -40.4680 -160.080  -67.7330  60.219  62.969   \n",
       "0    0.001   0.001   0.001   -6.3474  -29.575   -0.4154  51.103  53.461   \n",
       "0    0.001   0.001   0.001   -6.3474  -30.279    1.4999  58.542  61.196   \n",
       "..     ...     ...     ...       ...      ...       ...     ...     ...   \n",
       "0    0.001   0.001   0.001   33.2060  116.050   80.0110  69.459  71.834   \n",
       "0    0.001   0.001   0.001  101.0900  464.490  369.4400  59.347  60.366   \n",
       "0    0.001   0.001   0.001   90.0710  394.670  298.8800  59.011  60.231   \n",
       "0    0.001   0.001   0.001   23.4400   98.442   93.5010  69.543  71.842   \n",
       "0    0.001   0.001   0.001   82.4050  343.630  248.6600  66.105  67.391   \n",
       "\n",
       "0   876.13  877.88  ...  1747.63  1749.38  1751.13  1752.88  \\\n",
       "0   52.146  50.020  ...   42.926   42.985   43.094   43.248   \n",
       "0   46.875  45.709  ...   40.831   40.831   40.827   40.896   \n",
       "0   62.520  60.343  ...   55.748   55.787   55.854   55.982   \n",
       "0   52.857  50.724  ...   43.783   43.885   44.003   44.161   \n",
       "0   60.665  58.458  ...   52.028   52.137   52.260   52.406   \n",
       "..     ...     ...  ...      ...      ...      ...      ...   \n",
       "0   71.386  69.426  ...   65.856   65.913   65.986   66.050   \n",
       "0   59.759  58.208  ...   53.833   53.961   54.094   54.177   \n",
       "0   59.735  58.255  ...   53.956   54.096   54.194   54.259   \n",
       "0   71.347  69.429  ...   66.330   66.404   66.516   66.550   \n",
       "0   66.836  65.293  ...   61.314   61.467   61.600   61.697   \n",
       "\n",
       "0                                          extra_info  \\\n",
       "0    File: Users\\stell\\Desktop\\StellarDat\\South 7 ...   \n",
       "0    File: Users\\stell\\Desktop\\StellarDat\\South 1 ...   \n",
       "0    File: Users\\stell\\Desktop\\StellarDat\\South 8 ...   \n",
       "0    File: Users\\stell\\Desktop\\StellarDat\\South 10...   \n",
       "0    File: Users\\stell\\Desktop\\StellarDat\\South 10...   \n",
       "..                                                ...   \n",
       "0    File: Users\\stell\\Desktop\\StellarDat\\Raw - Ha...   \n",
       "0    File: Users\\stell\\Desktop\\StellarDat\\South 15...   \n",
       "0    File: Users\\stell\\Desktop\\StellarDat\\South 15...   \n",
       "0    File: Users\\stell\\Desktop\\StellarDat\\Raw - Ha...   \n",
       "0    File: Users\\stell\\Desktop\\StellarDat\\South 9 ...   \n",
       "\n",
       "0                                  filename     sample_name  \\\n",
       "0                   South 7 - 7-8-20 #1.TRM         South 7   \n",
       "0                South 1 - 7-8-20-20 #3.TRM         South 1   \n",
       "0                   South 8 - 7-8-20 #3.TRM         South 8   \n",
       "0                  South 10 - 7-8-20 #2.TRM        South 10   \n",
       "0                  South 10 - 7-8-20 #3.TRM        South 10   \n",
       "..                                      ...             ...   \n",
       "0   Hampton West 2 (Ground)- 6-15-20 #3.TRM  Hampton West 2   \n",
       "0         South 15 (Ground) - 7-8-20 #3.TRM        South 15   \n",
       "0         South 15 (Ground) - 7-8-20 #2.TRM        South 15   \n",
       "0   Hampton West 2 (Ground)- 6-15-20 #2.TRM  Hampton West 2   \n",
       "0       South 9 (Ground) - 7-8-20-20 #3.TRM         South 9   \n",
       "\n",
       "0          sample_date  run_number  process_method  \n",
       "0  2020-07-08 00:00:00           1                  \n",
       "0  2020-07-08 20:00:00           3                  \n",
       "0  2020-07-08 00:00:00           3                  \n",
       "0  2020-07-08 00:00:00           2                  \n",
       "0  2020-07-08 00:00:00           3                  \n",
       "..                 ...         ...             ...  \n",
       "0  2020-06-15 00:00:00           3          Ground  \n",
       "0  2020-07-08 00:00:00           3          Ground  \n",
       "0  2020-07-08 00:00:00           2          Ground  \n",
       "0  2020-06-15 00:00:00           2          Ground  \n",
       "0  2020-07-08 20:00:00           3          Ground  \n",
       "\n",
       "[96 rows x 516 columns]"
      ]
     },
     "execution_count": 33,
     "metadata": {},
     "output_type": "execute_result"
    }
   ],
   "source": [
    "df_trms"
   ]
  },
  {
   "cell_type": "markdown",
   "metadata": {},
   "source": [
    "# check for null values"
   ]
  },
  {
   "cell_type": "code",
   "execution_count": 34,
   "metadata": {},
   "outputs": [
    {
     "data": {
      "text/html": [
       "<div>\n",
       "<style scoped>\n",
       "    .dataframe tbody tr th:only-of-type {\n",
       "        vertical-align: middle;\n",
       "    }\n",
       "\n",
       "    .dataframe tbody tr th {\n",
       "        vertical-align: top;\n",
       "    }\n",
       "\n",
       "    .dataframe thead th {\n",
       "        text-align: right;\n",
       "    }\n",
       "</style>\n",
       "<table border=\"1\" class=\"dataframe\">\n",
       "  <thead>\n",
       "    <tr style=\"text-align: right;\">\n",
       "      <th></th>\n",
       "      <th>862.13</th>\n",
       "      <th>863.88</th>\n",
       "      <th>865.63</th>\n",
       "      <th>867.38</th>\n",
       "      <th>869.13</th>\n",
       "      <th>870.88</th>\n",
       "      <th>872.63</th>\n",
       "      <th>874.38</th>\n",
       "      <th>876.13</th>\n",
       "      <th>877.88</th>\n",
       "      <th>...</th>\n",
       "      <th>1747.63</th>\n",
       "      <th>1749.38</th>\n",
       "      <th>1751.13</th>\n",
       "      <th>1752.88</th>\n",
       "      <th>extra_info</th>\n",
       "      <th>filename</th>\n",
       "      <th>sample_name</th>\n",
       "      <th>sample_date</th>\n",
       "      <th>run_number</th>\n",
       "      <th>process_method</th>\n",
       "    </tr>\n",
       "  </thead>\n",
       "  <tbody>\n",
       "    <tr>\n",
       "      <th>0</th>\n",
       "      <td>NaN</td>\n",
       "      <td>NaN</td>\n",
       "      <td>NaN</td>\n",
       "      <td>NaN</td>\n",
       "      <td>NaN</td>\n",
       "      <td>NaN</td>\n",
       "      <td>NaN</td>\n",
       "      <td>NaN</td>\n",
       "      <td>NaN</td>\n",
       "      <td>NaN</td>\n",
       "      <td>...</td>\n",
       "      <td>NaN</td>\n",
       "      <td>NaN</td>\n",
       "      <td>NaN</td>\n",
       "      <td>NaN</td>\n",
       "      <td>NaN</td>\n",
       "      <td>NaN</td>\n",
       "      <td>NaN</td>\n",
       "      <td>NaT</td>\n",
       "      <td>NaN</td>\n",
       "      <td>NaN</td>\n",
       "    </tr>\n",
       "    <tr>\n",
       "      <th>0</th>\n",
       "      <td>NaN</td>\n",
       "      <td>NaN</td>\n",
       "      <td>NaN</td>\n",
       "      <td>NaN</td>\n",
       "      <td>NaN</td>\n",
       "      <td>NaN</td>\n",
       "      <td>NaN</td>\n",
       "      <td>NaN</td>\n",
       "      <td>NaN</td>\n",
       "      <td>NaN</td>\n",
       "      <td>...</td>\n",
       "      <td>NaN</td>\n",
       "      <td>NaN</td>\n",
       "      <td>NaN</td>\n",
       "      <td>NaN</td>\n",
       "      <td>NaN</td>\n",
       "      <td>NaN</td>\n",
       "      <td>NaN</td>\n",
       "      <td>NaT</td>\n",
       "      <td>NaN</td>\n",
       "      <td>NaN</td>\n",
       "    </tr>\n",
       "    <tr>\n",
       "      <th>0</th>\n",
       "      <td>NaN</td>\n",
       "      <td>NaN</td>\n",
       "      <td>NaN</td>\n",
       "      <td>NaN</td>\n",
       "      <td>NaN</td>\n",
       "      <td>NaN</td>\n",
       "      <td>NaN</td>\n",
       "      <td>NaN</td>\n",
       "      <td>NaN</td>\n",
       "      <td>NaN</td>\n",
       "      <td>...</td>\n",
       "      <td>NaN</td>\n",
       "      <td>NaN</td>\n",
       "      <td>NaN</td>\n",
       "      <td>NaN</td>\n",
       "      <td>NaN</td>\n",
       "      <td>NaN</td>\n",
       "      <td>NaN</td>\n",
       "      <td>NaT</td>\n",
       "      <td>NaN</td>\n",
       "      <td>NaN</td>\n",
       "    </tr>\n",
       "    <tr>\n",
       "      <th>0</th>\n",
       "      <td>NaN</td>\n",
       "      <td>NaN</td>\n",
       "      <td>NaN</td>\n",
       "      <td>NaN</td>\n",
       "      <td>NaN</td>\n",
       "      <td>NaN</td>\n",
       "      <td>NaN</td>\n",
       "      <td>NaN</td>\n",
       "      <td>NaN</td>\n",
       "      <td>NaN</td>\n",
       "      <td>...</td>\n",
       "      <td>NaN</td>\n",
       "      <td>NaN</td>\n",
       "      <td>NaN</td>\n",
       "      <td>NaN</td>\n",
       "      <td>NaN</td>\n",
       "      <td>NaN</td>\n",
       "      <td>NaN</td>\n",
       "      <td>NaT</td>\n",
       "      <td>NaN</td>\n",
       "      <td>NaN</td>\n",
       "    </tr>\n",
       "    <tr>\n",
       "      <th>0</th>\n",
       "      <td>NaN</td>\n",
       "      <td>NaN</td>\n",
       "      <td>NaN</td>\n",
       "      <td>NaN</td>\n",
       "      <td>NaN</td>\n",
       "      <td>NaN</td>\n",
       "      <td>NaN</td>\n",
       "      <td>NaN</td>\n",
       "      <td>NaN</td>\n",
       "      <td>NaN</td>\n",
       "      <td>...</td>\n",
       "      <td>NaN</td>\n",
       "      <td>NaN</td>\n",
       "      <td>NaN</td>\n",
       "      <td>NaN</td>\n",
       "      <td>NaN</td>\n",
       "      <td>NaN</td>\n",
       "      <td>NaN</td>\n",
       "      <td>NaT</td>\n",
       "      <td>NaN</td>\n",
       "      <td>NaN</td>\n",
       "    </tr>\n",
       "    <tr>\n",
       "      <th>...</th>\n",
       "      <td>...</td>\n",
       "      <td>...</td>\n",
       "      <td>...</td>\n",
       "      <td>...</td>\n",
       "      <td>...</td>\n",
       "      <td>...</td>\n",
       "      <td>...</td>\n",
       "      <td>...</td>\n",
       "      <td>...</td>\n",
       "      <td>...</td>\n",
       "      <td>...</td>\n",
       "      <td>...</td>\n",
       "      <td>...</td>\n",
       "      <td>...</td>\n",
       "      <td>...</td>\n",
       "      <td>...</td>\n",
       "      <td>...</td>\n",
       "      <td>...</td>\n",
       "      <td>...</td>\n",
       "      <td>...</td>\n",
       "      <td>...</td>\n",
       "    </tr>\n",
       "    <tr>\n",
       "      <th>0</th>\n",
       "      <td>NaN</td>\n",
       "      <td>NaN</td>\n",
       "      <td>NaN</td>\n",
       "      <td>NaN</td>\n",
       "      <td>NaN</td>\n",
       "      <td>NaN</td>\n",
       "      <td>NaN</td>\n",
       "      <td>NaN</td>\n",
       "      <td>NaN</td>\n",
       "      <td>NaN</td>\n",
       "      <td>...</td>\n",
       "      <td>NaN</td>\n",
       "      <td>NaN</td>\n",
       "      <td>NaN</td>\n",
       "      <td>NaN</td>\n",
       "      <td>NaN</td>\n",
       "      <td>NaN</td>\n",
       "      <td>NaN</td>\n",
       "      <td>NaT</td>\n",
       "      <td>NaN</td>\n",
       "      <td>NaN</td>\n",
       "    </tr>\n",
       "    <tr>\n",
       "      <th>0</th>\n",
       "      <td>NaN</td>\n",
       "      <td>NaN</td>\n",
       "      <td>NaN</td>\n",
       "      <td>NaN</td>\n",
       "      <td>NaN</td>\n",
       "      <td>NaN</td>\n",
       "      <td>NaN</td>\n",
       "      <td>NaN</td>\n",
       "      <td>NaN</td>\n",
       "      <td>NaN</td>\n",
       "      <td>...</td>\n",
       "      <td>NaN</td>\n",
       "      <td>NaN</td>\n",
       "      <td>NaN</td>\n",
       "      <td>NaN</td>\n",
       "      <td>NaN</td>\n",
       "      <td>NaN</td>\n",
       "      <td>NaN</td>\n",
       "      <td>NaT</td>\n",
       "      <td>NaN</td>\n",
       "      <td>NaN</td>\n",
       "    </tr>\n",
       "    <tr>\n",
       "      <th>0</th>\n",
       "      <td>NaN</td>\n",
       "      <td>NaN</td>\n",
       "      <td>NaN</td>\n",
       "      <td>NaN</td>\n",
       "      <td>NaN</td>\n",
       "      <td>NaN</td>\n",
       "      <td>NaN</td>\n",
       "      <td>NaN</td>\n",
       "      <td>NaN</td>\n",
       "      <td>NaN</td>\n",
       "      <td>...</td>\n",
       "      <td>NaN</td>\n",
       "      <td>NaN</td>\n",
       "      <td>NaN</td>\n",
       "      <td>NaN</td>\n",
       "      <td>NaN</td>\n",
       "      <td>NaN</td>\n",
       "      <td>NaN</td>\n",
       "      <td>NaT</td>\n",
       "      <td>NaN</td>\n",
       "      <td>NaN</td>\n",
       "    </tr>\n",
       "    <tr>\n",
       "      <th>0</th>\n",
       "      <td>NaN</td>\n",
       "      <td>NaN</td>\n",
       "      <td>NaN</td>\n",
       "      <td>NaN</td>\n",
       "      <td>NaN</td>\n",
       "      <td>NaN</td>\n",
       "      <td>NaN</td>\n",
       "      <td>NaN</td>\n",
       "      <td>NaN</td>\n",
       "      <td>NaN</td>\n",
       "      <td>...</td>\n",
       "      <td>NaN</td>\n",
       "      <td>NaN</td>\n",
       "      <td>NaN</td>\n",
       "      <td>NaN</td>\n",
       "      <td>NaN</td>\n",
       "      <td>NaN</td>\n",
       "      <td>NaN</td>\n",
       "      <td>NaT</td>\n",
       "      <td>NaN</td>\n",
       "      <td>NaN</td>\n",
       "    </tr>\n",
       "    <tr>\n",
       "      <th>0</th>\n",
       "      <td>NaN</td>\n",
       "      <td>NaN</td>\n",
       "      <td>NaN</td>\n",
       "      <td>NaN</td>\n",
       "      <td>NaN</td>\n",
       "      <td>NaN</td>\n",
       "      <td>NaN</td>\n",
       "      <td>NaN</td>\n",
       "      <td>NaN</td>\n",
       "      <td>NaN</td>\n",
       "      <td>...</td>\n",
       "      <td>NaN</td>\n",
       "      <td>NaN</td>\n",
       "      <td>NaN</td>\n",
       "      <td>NaN</td>\n",
       "      <td>NaN</td>\n",
       "      <td>NaN</td>\n",
       "      <td>NaN</td>\n",
       "      <td>NaT</td>\n",
       "      <td>NaN</td>\n",
       "      <td>NaN</td>\n",
       "    </tr>\n",
       "  </tbody>\n",
       "</table>\n",
       "<p>96 rows × 516 columns</p>\n",
       "</div>"
      ],
      "text/plain": [
       "0   862.13  863.88  865.63  867.38  869.13  870.88  872.63  874.38  876.13  \\\n",
       "0      NaN     NaN     NaN     NaN     NaN     NaN     NaN     NaN     NaN   \n",
       "0      NaN     NaN     NaN     NaN     NaN     NaN     NaN     NaN     NaN   \n",
       "0      NaN     NaN     NaN     NaN     NaN     NaN     NaN     NaN     NaN   \n",
       "0      NaN     NaN     NaN     NaN     NaN     NaN     NaN     NaN     NaN   \n",
       "0      NaN     NaN     NaN     NaN     NaN     NaN     NaN     NaN     NaN   \n",
       "..     ...     ...     ...     ...     ...     ...     ...     ...     ...   \n",
       "0      NaN     NaN     NaN     NaN     NaN     NaN     NaN     NaN     NaN   \n",
       "0      NaN     NaN     NaN     NaN     NaN     NaN     NaN     NaN     NaN   \n",
       "0      NaN     NaN     NaN     NaN     NaN     NaN     NaN     NaN     NaN   \n",
       "0      NaN     NaN     NaN     NaN     NaN     NaN     NaN     NaN     NaN   \n",
       "0      NaN     NaN     NaN     NaN     NaN     NaN     NaN     NaN     NaN   \n",
       "\n",
       "0   877.88  ...  1747.63  1749.38  1751.13  1752.88  extra_info  filename  \\\n",
       "0      NaN  ...      NaN      NaN      NaN      NaN         NaN       NaN   \n",
       "0      NaN  ...      NaN      NaN      NaN      NaN         NaN       NaN   \n",
       "0      NaN  ...      NaN      NaN      NaN      NaN         NaN       NaN   \n",
       "0      NaN  ...      NaN      NaN      NaN      NaN         NaN       NaN   \n",
       "0      NaN  ...      NaN      NaN      NaN      NaN         NaN       NaN   \n",
       "..     ...  ...      ...      ...      ...      ...         ...       ...   \n",
       "0      NaN  ...      NaN      NaN      NaN      NaN         NaN       NaN   \n",
       "0      NaN  ...      NaN      NaN      NaN      NaN         NaN       NaN   \n",
       "0      NaN  ...      NaN      NaN      NaN      NaN         NaN       NaN   \n",
       "0      NaN  ...      NaN      NaN      NaN      NaN         NaN       NaN   \n",
       "0      NaN  ...      NaN      NaN      NaN      NaN         NaN       NaN   \n",
       "\n",
       "0   sample_name  sample_date  run_number  process_method  \n",
       "0           NaN          NaT         NaN             NaN  \n",
       "0           NaN          NaT         NaN             NaN  \n",
       "0           NaN          NaT         NaN             NaN  \n",
       "0           NaN          NaT         NaN             NaN  \n",
       "0           NaN          NaT         NaN             NaN  \n",
       "..          ...          ...         ...             ...  \n",
       "0           NaN          NaT         NaN             NaN  \n",
       "0           NaN          NaT         NaN             NaN  \n",
       "0           NaN          NaT         NaN             NaN  \n",
       "0           NaN          NaT         NaN             NaN  \n",
       "0           NaN          NaT         NaN             NaN  \n",
       "\n",
       "[96 rows x 516 columns]"
      ]
     },
     "execution_count": 34,
     "metadata": {},
     "output_type": "execute_result"
    }
   ],
   "source": [
    "df_trms[df_trms.isnull()]"
   ]
  },
  {
   "cell_type": "code",
   "execution_count": null,
   "metadata": {},
   "outputs": [],
   "source": []
  }
 ],
 "metadata": {
  "kernelspec": {
   "display_name": ".spectroscopy",
   "language": "python",
   "name": ".spectroscopy"
  },
  "language_info": {
   "codemirror_mode": {
    "name": "ipython",
    "version": 3
   },
   "file_extension": ".py",
   "mimetype": "text/x-python",
   "name": "python",
   "nbconvert_exporter": "python",
   "pygments_lexer": "ipython3",
   "version": "3.7.3"
  }
 },
 "nbformat": 4,
 "nbformat_minor": 4
}

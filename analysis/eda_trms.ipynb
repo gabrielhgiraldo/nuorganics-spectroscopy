{
 "cells": [
  {
   "cell_type": "code",
   "execution_count": 1,
   "metadata": {},
   "outputs": [],
   "source": [
    "from pathlib import Path\n",
    "\n",
    "import matplotlib.pyplot as plt\n",
    "%matplotlib inline\n",
    "import pandas as pd"
   ]
  },
  {
   "cell_type": "code",
   "execution_count": 2,
   "metadata": {},
   "outputs": [],
   "source": [
    "DATA_DIR = Path().cwd().parent / 'data'"
   ]
  },
  {
   "cell_type": "code",
   "execution_count": 3,
   "metadata": {},
   "outputs": [],
   "source": [
    "assert DATA_DIR.exists()"
   ]
  },
  {
   "cell_type": "markdown",
   "metadata": {},
   "source": [
    "# Read in .TRM files"
   ]
  },
  {
   "cell_type": "code",
   "execution_count": 4,
   "metadata": {},
   "outputs": [],
   "source": [
    "dfs = [pd.read_csv(filename) for filename in DATA_DIR.glob('*.TRM')]"
   ]
  },
  {
   "cell_type": "code",
   "execution_count": 5,
   "metadata": {},
   "outputs": [
    {
     "data": {
      "text/plain": [
       "176"
      ]
     },
     "execution_count": 5,
     "metadata": {},
     "output_type": "execute_result"
    }
   ],
   "source": [
    "len(dfs)"
   ]
  },
  {
   "cell_type": "code",
   "execution_count": 6,
   "metadata": {},
   "outputs": [],
   "source": [
    "df = dfs[0]"
   ]
  },
  {
   "cell_type": "code",
   "execution_count": 7,
   "metadata": {},
   "outputs": [
    {
     "data": {
      "text/html": [
       "<div>\n",
       "<style scoped>\n",
       "    .dataframe tbody tr th:only-of-type {\n",
       "        vertical-align: middle;\n",
       "    }\n",
       "\n",
       "    .dataframe tbody tr th {\n",
       "        vertical-align: top;\n",
       "    }\n",
       "\n",
       "    .dataframe thead th {\n",
       "        text-align: right;\n",
       "    }\n",
       "</style>\n",
       "<table border=\"1\" class=\"dataframe\">\n",
       "  <thead>\n",
       "    <tr style=\"text-align: right;\">\n",
       "      <th></th>\n",
       "      <th>File: Users\\stell\\Desktop\\StellarDat\\North 11 \\r\\n  TRANS-&gt;  Wave:2830.74nm  Pix:1050  Val:-26.148  Time: 40ms  Avg:10  Sm:2  Sg:0  Tc:off  SNAP  Xt:3  Ch:1  Xtrig</th>\n",
       "    </tr>\n",
       "  </thead>\n",
       "  <tbody>\n",
       "    <tr>\n",
       "      <th>0</th>\n",
       "      <td>862.13  1.0000E-003</td>\n",
       "    </tr>\n",
       "    <tr>\n",
       "      <th>1</th>\n",
       "      <td>863.88  1.0000E-003</td>\n",
       "    </tr>\n",
       "    <tr>\n",
       "      <th>2</th>\n",
       "      <td>865.63  1.0000E-003</td>\n",
       "    </tr>\n",
       "    <tr>\n",
       "      <th>3</th>\n",
       "      <td>867.38  5.0793E+000</td>\n",
       "    </tr>\n",
       "    <tr>\n",
       "      <th>4</th>\n",
       "      <td>869.13  2.3314E+001</td>\n",
       "    </tr>\n",
       "  </tbody>\n",
       "</table>\n",
       "</div>"
      ],
      "text/plain": [
       "   File: Users\\stell\\Desktop\\StellarDat\\North 11 \\r\\n  TRANS->  Wave:2830.74nm  Pix:1050  Val:-26.148  Time: 40ms  Avg:10  Sm:2  Sg:0  Tc:off  SNAP  Xt:3  Ch:1  Xtrig  \n",
       "0                                862.13  1.0000E-003                                                                                                                    \n",
       "1                                863.88  1.0000E-003                                                                                                                    \n",
       "2                                865.63  1.0000E-003                                                                                                                    \n",
       "3                                867.38  5.0793E+000                                                                                                                    \n",
       "4                                869.13  2.3314E+001                                                                                                                    "
      ]
     },
     "execution_count": 7,
     "metadata": {},
     "output_type": "execute_result"
    }
   ],
   "source": [
    "df.head()"
   ]
  },
  {
   "cell_type": "markdown",
   "metadata": {},
   "source": [
    "## extract the header information"
   ]
  },
  {
   "cell_type": "code",
   "execution_count": 8,
   "metadata": {},
   "outputs": [],
   "source": [
    "info = df.columns[0]"
   ]
  },
  {
   "cell_type": "markdown",
   "metadata": {},
   "source": [
    "## extract the time series info"
   ]
  },
  {
   "cell_type": "code",
   "execution_count": 9,
   "metadata": {},
   "outputs": [],
   "source": [
    "data = df.iloc[:,0]"
   ]
  },
  {
   "cell_type": "code",
   "execution_count": 10,
   "metadata": {},
   "outputs": [
    {
     "data": {
      "text/plain": [
       "0       862.13  1.0000E-003\n",
       "1       863.88  1.0000E-003\n",
       "2       865.63  1.0000E-003\n",
       "3       867.38  5.0793E+000\n",
       "4       869.13  2.3314E+001\n",
       "               ...         \n",
       "505    1745.88  6.0104E+001\n",
       "506    1747.63  6.0219E+001\n",
       "507    1749.38  6.0265E+001\n",
       "508    1751.13  6.0294E+001\n",
       "509    1752.88  6.0350E+001\n",
       "Name:  File: Users\\stell\\Desktop\\StellarDat\\North 11 \\r\\n  TRANS->  Wave:2830.74nm  Pix:1050  Val:-26.148  Time: 40ms  Avg:10  Sm:2  Sg:0  Tc:off  SNAP  Xt:3  Ch:1  Xtrig  , Length: 510, dtype: object"
      ]
     },
     "execution_count": 10,
     "metadata": {},
     "output_type": "execute_result"
    }
   ],
   "source": [
    "data"
   ]
  },
  {
   "cell_type": "markdown",
   "metadata": {},
   "source": [
    "## get number of steps in time series"
   ]
  },
  {
   "cell_type": "code",
   "execution_count": 11,
   "metadata": {},
   "outputs": [
    {
     "data": {
      "text/plain": [
       "510"
      ]
     },
     "execution_count": 11,
     "metadata": {},
     "output_type": "execute_result"
    }
   ],
   "source": [
    "len(data)"
   ]
  },
  {
   "cell_type": "markdown",
   "metadata": {},
   "source": [
    "## remove whitespace"
   ]
  },
  {
   "cell_type": "code",
   "execution_count": 12,
   "metadata": {},
   "outputs": [],
   "source": [
    "data = data.str.strip()"
   ]
  },
  {
   "cell_type": "markdown",
   "metadata": {},
   "source": [
    "## split columns on space"
   ]
  },
  {
   "cell_type": "code",
   "execution_count": 13,
   "metadata": {},
   "outputs": [],
   "source": [
    "data = data.str.partition(' ')"
   ]
  },
  {
   "cell_type": "code",
   "execution_count": 14,
   "metadata": {},
   "outputs": [
    {
     "data": {
      "text/html": [
       "<div>\n",
       "<style scoped>\n",
       "    .dataframe tbody tr th:only-of-type {\n",
       "        vertical-align: middle;\n",
       "    }\n",
       "\n",
       "    .dataframe tbody tr th {\n",
       "        vertical-align: top;\n",
       "    }\n",
       "\n",
       "    .dataframe thead th {\n",
       "        text-align: right;\n",
       "    }\n",
       "</style>\n",
       "<table border=\"1\" class=\"dataframe\">\n",
       "  <thead>\n",
       "    <tr style=\"text-align: right;\">\n",
       "      <th></th>\n",
       "      <th>0</th>\n",
       "      <th>1</th>\n",
       "      <th>2</th>\n",
       "    </tr>\n",
       "  </thead>\n",
       "  <tbody>\n",
       "    <tr>\n",
       "      <th>0</th>\n",
       "      <td>862.13</td>\n",
       "      <td></td>\n",
       "      <td>1.0000E-003</td>\n",
       "    </tr>\n",
       "    <tr>\n",
       "      <th>1</th>\n",
       "      <td>863.88</td>\n",
       "      <td></td>\n",
       "      <td>1.0000E-003</td>\n",
       "    </tr>\n",
       "    <tr>\n",
       "      <th>2</th>\n",
       "      <td>865.63</td>\n",
       "      <td></td>\n",
       "      <td>1.0000E-003</td>\n",
       "    </tr>\n",
       "    <tr>\n",
       "      <th>3</th>\n",
       "      <td>867.38</td>\n",
       "      <td></td>\n",
       "      <td>5.0793E+000</td>\n",
       "    </tr>\n",
       "    <tr>\n",
       "      <th>4</th>\n",
       "      <td>869.13</td>\n",
       "      <td></td>\n",
       "      <td>2.3314E+001</td>\n",
       "    </tr>\n",
       "  </tbody>\n",
       "</table>\n",
       "</div>"
      ],
      "text/plain": [
       "        0  1             2\n",
       "0  862.13      1.0000E-003\n",
       "1  863.88      1.0000E-003\n",
       "2  865.63      1.0000E-003\n",
       "3  867.38      5.0793E+000\n",
       "4  869.13      2.3314E+001"
      ]
     },
     "execution_count": 14,
     "metadata": {},
     "output_type": "execute_result"
    }
   ],
   "source": [
    "data.head()"
   ]
  },
  {
   "cell_type": "markdown",
   "metadata": {},
   "source": [
    "## get first column as wavelengths"
   ]
  },
  {
   "cell_type": "code",
   "execution_count": 15,
   "metadata": {},
   "outputs": [
    {
     "data": {
      "text/plain": [
       "0    862.13\n",
       "1    863.88\n",
       "2    865.63\n",
       "3    867.38\n",
       "4    869.13\n",
       "Name: 0, dtype: object"
      ]
     },
     "execution_count": 15,
     "metadata": {},
     "output_type": "execute_result"
    }
   ],
   "source": [
    "wavelengths = data[0]\n",
    "wavelengths.head()"
   ]
  },
  {
   "cell_type": "markdown",
   "metadata": {},
   "source": [
    "## convert wavelengths to float (decimal numbers)"
   ]
  },
  {
   "cell_type": "code",
   "execution_count": 16,
   "metadata": {},
   "outputs": [
    {
     "data": {
      "text/plain": [
       "0    862.13\n",
       "1    863.88\n",
       "2    865.63\n",
       "3    867.38\n",
       "4    869.13\n",
       "Name: 0, dtype: float64"
      ]
     },
     "execution_count": 16,
     "metadata": {},
     "output_type": "execute_result"
    }
   ],
   "source": [
    "wavelengths = wavelengths.astype(float)\n",
    "wavelengths.head()"
   ]
  },
  {
   "cell_type": "code",
   "execution_count": 17,
   "metadata": {},
   "outputs": [
    {
     "data": {
      "text/plain": [
       "count     510.000000\n",
       "mean     1307.505000\n",
       "std       257.895025\n",
       "min       862.130000\n",
       "25%      1084.817500\n",
       "50%      1307.505000\n",
       "75%      1530.192500\n",
       "max      1752.880000\n",
       "Name: 0, dtype: float64"
      ]
     },
     "execution_count": 17,
     "metadata": {},
     "output_type": "execute_result"
    }
   ],
   "source": [
    "wavelengths.describe()"
   ]
  },
  {
   "cell_type": "code",
   "execution_count": 18,
   "metadata": {},
   "outputs": [
    {
     "data": {
      "text/plain": [
       "[<matplotlib.lines.Line2D at 0x110f25eb8>]"
      ]
     },
     "execution_count": 18,
     "metadata": {},
     "output_type": "execute_result"
    },
    {
     "data": {
      "image/png": "[encoded data removed]",
      "text/plain": [
       "<Figure size 432x288 with 1 Axes>"
      ]
     },
     "metadata": {
      "needs_background": "light"
     },
     "output_type": "display_data"
    }
   ],
   "source": [
    "plt.plot(wavelengths)"
   ]
  },
  {
   "cell_type": "markdown",
   "metadata": {},
   "source": [
    "## extract transmittance"
   ]
  },
  {
   "cell_type": "code",
   "execution_count": 19,
   "metadata": {},
   "outputs": [
    {
     "data": {
      "text/plain": [
       "0     1.0000E-003\n",
       "1     1.0000E-003\n",
       "2     1.0000E-003\n",
       "3     5.0793E+000\n",
       "4     2.3314E+001\n",
       "Name: 2, dtype: object"
      ]
     },
     "execution_count": 19,
     "metadata": {},
     "output_type": "execute_result"
    }
   ],
   "source": [
    "transmittance = data[2]\n",
    "transmittance.head()"
   ]
  },
  {
   "cell_type": "markdown",
   "metadata": {},
   "source": [
    "## convert transmittance to float"
   ]
  },
  {
   "cell_type": "code",
   "execution_count": 20,
   "metadata": {},
   "outputs": [],
   "source": [
    "transmittance = transmittance.astype(float)"
   ]
  },
  {
   "cell_type": "code",
   "execution_count": 21,
   "metadata": {},
   "outputs": [
    {
     "data": {
      "text/plain": [
       "0     0.0010\n",
       "1     0.0010\n",
       "2     0.0010\n",
       "3     5.0793\n",
       "4    23.3140\n",
       "Name: 2, dtype: float64"
      ]
     },
     "execution_count": 21,
     "metadata": {},
     "output_type": "execute_result"
    }
   ],
   "source": [
    "transmittance.head()"
   ]
  },
  {
   "cell_type": "code",
   "execution_count": 22,
   "metadata": {},
   "outputs": [
    {
     "data": {
      "text/plain": [
       "count    510.000000\n",
       "mean      62.669569\n",
       "std        8.425377\n",
       "min        0.001000\n",
       "25%       56.288500\n",
       "50%       66.173500\n",
       "75%       69.092250\n",
       "max       70.310000\n",
       "Name: 2, dtype: float64"
      ]
     },
     "execution_count": 22,
     "metadata": {},
     "output_type": "execute_result"
    }
   ],
   "source": [
    "transmittance.describe()"
   ]
  },
  {
   "cell_type": "markdown",
   "metadata": {},
   "source": [
    "## remove transmittance values that are less than 0 and corresponding wavelengths"
   ]
  },
  {
   "cell_type": "code",
   "execution_count": 23,
   "metadata": {},
   "outputs": [],
   "source": [
    "mask = transmittance > 0\n",
    "transmittance = transmittance[mask]\n",
    "wavelengths = wavelengths[mask]"
   ]
  },
  {
   "cell_type": "code",
   "execution_count": 24,
   "metadata": {},
   "outputs": [],
   "source": [
    "# plot transmittance vs wavelength"
   ]
  },
  {
   "cell_type": "code",
   "execution_count": 25,
   "metadata": {},
   "outputs": [],
   "source": [
    "def plot_sample(wavelengths, transmittance):\n",
    "    plt.figure(figsize=(20,10))\n",
    "    plt.title('Transmittance vs Wavelength')\n",
    "    plt.xlabel('Wavelength(nm)')\n",
    "    plt.ylabel('Transmittance (counts)')\n",
    "    plt.plot(wavelengths, transmittance)"
   ]
  },
  {
   "cell_type": "code",
   "execution_count": 26,
   "metadata": {},
   "outputs": [
    {
     "data": {
      "image/png": "[encoded data removed]",
      "text/plain": [
       "<Figure size 1440x720 with 1 Axes>"
      ]
     },
     "metadata": {
      "needs_background": "light"
     },
     "output_type": "display_data"
    }
   ],
   "source": [
    "plot_sample(wavelengths, transmittance)"
   ]
  },
  {
   "cell_type": "markdown",
   "metadata": {},
   "source": [
    "# convert TRM to sample"
   ]
  },
  {
   "cell_type": "code",
   "execution_count": 27,
   "metadata": {},
   "outputs": [
    {
     "data": {
      "text/plain": [
       "0       0.0010\n",
       "1       0.0010\n",
       "2       0.0010\n",
       "3       5.0793\n",
       "4      23.3140\n",
       "        ...   \n",
       "505    60.1040\n",
       "506    60.2190\n",
       "507    60.2650\n",
       "508    60.2940\n",
       "509    60.3500\n",
       "Name: 2, Length: 510, dtype: float64"
      ]
     },
     "execution_count": 27,
     "metadata": {},
     "output_type": "execute_result"
    }
   ],
   "source": [
    "transmittance"
   ]
  },
  {
   "cell_type": "code",
   "execution_count": 28,
   "metadata": {},
   "outputs": [
    {
     "data": {
      "text/html": [
       "<div>\n",
       "<style scoped>\n",
       "    .dataframe tbody tr th:only-of-type {\n",
       "        vertical-align: middle;\n",
       "    }\n",
       "\n",
       "    .dataframe tbody tr th {\n",
       "        vertical-align: top;\n",
       "    }\n",
       "\n",
       "    .dataframe thead th {\n",
       "        text-align: right;\n",
       "    }\n",
       "</style>\n",
       "<table border=\"1\" class=\"dataframe\">\n",
       "  <thead>\n",
       "    <tr style=\"text-align: right;\">\n",
       "      <th></th>\n",
       "      <th>862.13</th>\n",
       "      <th>863.88</th>\n",
       "      <th>865.63</th>\n",
       "      <th>867.38</th>\n",
       "      <th>869.13</th>\n",
       "      <th>870.88</th>\n",
       "      <th>872.63</th>\n",
       "      <th>874.38</th>\n",
       "      <th>876.13</th>\n",
       "      <th>877.88</th>\n",
       "      <th>...</th>\n",
       "      <th>1737.13</th>\n",
       "      <th>1738.88</th>\n",
       "      <th>1740.63</th>\n",
       "      <th>1742.38</th>\n",
       "      <th>1744.13</th>\n",
       "      <th>1745.88</th>\n",
       "      <th>1747.63</th>\n",
       "      <th>1749.38</th>\n",
       "      <th>1751.13</th>\n",
       "      <th>1752.88</th>\n",
       "    </tr>\n",
       "  </thead>\n",
       "  <tbody>\n",
       "    <tr>\n",
       "      <th>0</th>\n",
       "      <td>0.001</td>\n",
       "      <td>0.001</td>\n",
       "      <td>0.001</td>\n",
       "      <td>5.0793</td>\n",
       "      <td>23.314</td>\n",
       "      <td>44.663</td>\n",
       "      <td>63.727</td>\n",
       "      <td>66.158</td>\n",
       "      <td>65.59</td>\n",
       "      <td>63.127</td>\n",
       "      <td>...</td>\n",
       "      <td>59.639</td>\n",
       "      <td>59.764</td>\n",
       "      <td>59.858</td>\n",
       "      <td>59.941</td>\n",
       "      <td>60.012</td>\n",
       "      <td>60.104</td>\n",
       "      <td>60.219</td>\n",
       "      <td>60.265</td>\n",
       "      <td>60.294</td>\n",
       "      <td>60.35</td>\n",
       "    </tr>\n",
       "  </tbody>\n",
       "</table>\n",
       "<p>1 rows × 510 columns</p>\n",
       "</div>"
      ],
      "text/plain": [
       "0  862.13   863.88   865.63   867.38   869.13   870.88   872.63   874.38   \\\n",
       "0    0.001    0.001    0.001   5.0793   23.314   44.663   63.727   66.158   \n",
       "\n",
       "0  876.13   877.88   ...  1737.13  1738.88  1740.63  1742.38  1744.13  \\\n",
       "0    65.59   63.127  ...   59.639   59.764   59.858   59.941   60.012   \n",
       "\n",
       "0  1745.88  1747.63  1749.38  1751.13  1752.88  \n",
       "0   60.104   60.219   60.265   60.294    60.35  \n",
       "\n",
       "[1 rows x 510 columns]"
      ]
     },
     "execution_count": 28,
     "metadata": {},
     "output_type": "execute_result"
    }
   ],
   "source": [
    "pd.DataFrame([transmittance.values], columns=wavelengths)"
   ]
  },
  {
   "cell_type": "code",
   "execution_count": 29,
   "metadata": {},
   "outputs": [],
   "source": [
    "def _extract_trm_filename_info(filename):\n",
    "    sample_name_method, _, _ = filename.partition('-')\n",
    "    if '(' in sample_name_method:\n",
    "        sample_name, _, process_method = sample_name_method.partition('(')\n",
    "        sample_name = sample_name.strip()\n",
    "        process_method = process_method.strip()[:-1] # drop )\n",
    "    else:\n",
    "        sample_name = sample_name_method.strip()\n",
    "        process_method = ''\n",
    "    sample_date = pd.to_datetime(filename.partition('-')[2].partition('#')[0])\n",
    "    run_number = filename.partition('#')[2].partition('.')[0]\n",
    "    return sample_name, process_method, sample_date, run_number"
   ]
  },
  {
   "cell_type": "code",
   "execution_count": 30,
   "metadata": {},
   "outputs": [],
   "source": [
    "def parse_trm(trm_path, drop_neg_trans=False):\n",
    "    trm_path = Path(trm_path)\n",
    "    df = pd.read_csv(trm_path)\n",
    "    extra_info = df.columns[0]\n",
    "    data = df.iloc[:,0]\\\n",
    "             .str.strip()\\\n",
    "             .str.partition(' ')\n",
    "    wavelengths = data[0].astype(float)\n",
    "    transmittance = data[2].astype(float)\n",
    "    if drop_neg_trans:\n",
    "        mask = transmittance > 0\n",
    "        transmittance = transmittance[mask]\n",
    "        wavelengths = wavelengths[mask]\n",
    "    sample_df = pd.DataFrame([transmittance.values], columns=wavelengths)\n",
    "    sample_df['extra_info'] = extra_info\n",
    "    sample_df['filename'] = trm_path.name\n",
    "    sample_name, process_method, sample_date, run_number = _extract_trm_filename_info(trm_path.name)\n",
    "    sample_df['sample_name'] = sample_name\n",
    "    sample_df['sample_date'] = sample_date\n",
    "    sample_df['run_number'] = run_number\n",
    "    sample_df['process_method'] = process_method\n",
    "    return sample_df"
   ]
  },
  {
   "cell_type": "code",
   "execution_count": 31,
   "metadata": {},
   "outputs": [],
   "source": [
    "def parse_trms(trm_directory):\n",
    "    trm_directory = Path(trm_directory)\n",
    "    return pd.concat([parse_trm(trm_filepath) for trm_filepath in trm_directory.glob(\"*.TRM\")])"
   ]
  },
  {
   "cell_type": "code",
   "execution_count": 32,
   "metadata": {},
   "outputs": [],
   "source": [
    "df_trms = parse_trms(DATA_DIR)"
   ]
  },
  {
   "cell_type": "code",
   "execution_count": 33,
   "metadata": {},
   "outputs": [
    {
     "data": {
      "text/plain": [
       "176"
      ]
     },
     "execution_count": 33,
     "metadata": {},
     "output_type": "execute_result"
    }
   ],
   "source": [
    "len(df_trms)"
   ]
  },
  {
   "cell_type": "code",
   "execution_count": 34,
   "metadata": {},
   "outputs": [
    {
     "data": {
      "text/html": [
       "<div>\n",
       "<style scoped>\n",
       "    .dataframe tbody tr th:only-of-type {\n",
       "        vertical-align: middle;\n",
       "    }\n",
       "\n",
       "    .dataframe tbody tr th {\n",
       "        vertical-align: top;\n",
       "    }\n",
       "\n",
       "    .dataframe thead th {\n",
       "        text-align: right;\n",
       "    }\n",
       "</style>\n",
       "<table border=\"1\" class=\"dataframe\">\n",
       "  <thead>\n",
       "    <tr style=\"text-align: right;\">\n",
       "      <th></th>\n",
       "      <th>862.13</th>\n",
       "      <th>863.88</th>\n",
       "      <th>865.63</th>\n",
       "      <th>867.38</th>\n",
       "      <th>869.13</th>\n",
       "      <th>870.88</th>\n",
       "      <th>872.63</th>\n",
       "      <th>874.38</th>\n",
       "      <th>876.13</th>\n",
       "      <th>877.88</th>\n",
       "      <th>...</th>\n",
       "      <th>1747.63</th>\n",
       "      <th>1749.38</th>\n",
       "      <th>1751.13</th>\n",
       "      <th>1752.88</th>\n",
       "      <th>extra_info</th>\n",
       "      <th>filename</th>\n",
       "      <th>sample_name</th>\n",
       "      <th>sample_date</th>\n",
       "      <th>run_number</th>\n",
       "      <th>process_method</th>\n",
       "    </tr>\n",
       "  </thead>\n",
       "  <tbody>\n",
       "    <tr>\n",
       "      <th>0</th>\n",
       "      <td>0.001</td>\n",
       "      <td>0.001</td>\n",
       "      <td>0.001</td>\n",
       "      <td>5.0793</td>\n",
       "      <td>23.314</td>\n",
       "      <td>44.6630</td>\n",
       "      <td>63.727</td>\n",
       "      <td>66.158</td>\n",
       "      <td>65.590</td>\n",
       "      <td>63.127</td>\n",
       "      <td>...</td>\n",
       "      <td>60.219</td>\n",
       "      <td>60.265</td>\n",
       "      <td>60.294</td>\n",
       "      <td>60.350</td>\n",
       "      <td>File: Users\\stell\\Desktop\\StellarDat\\North 11...</td>\n",
       "      <td>North 11 - 7-9-20 #3.TRM</td>\n",
       "      <td>North 11</td>\n",
       "      <td>2020-07-09</td>\n",
       "      <td>3</td>\n",
       "      <td></td>\n",
       "    </tr>\n",
       "    <tr>\n",
       "      <th>0</th>\n",
       "      <td>0.001</td>\n",
       "      <td>0.001</td>\n",
       "      <td>0.001</td>\n",
       "      <td>-27.7720</td>\n",
       "      <td>-110.080</td>\n",
       "      <td>-43.0240</td>\n",
       "      <td>50.165</td>\n",
       "      <td>52.641</td>\n",
       "      <td>52.146</td>\n",
       "      <td>50.020</td>\n",
       "      <td>...</td>\n",
       "      <td>42.926</td>\n",
       "      <td>42.985</td>\n",
       "      <td>43.094</td>\n",
       "      <td>43.248</td>\n",
       "      <td>File: Users\\stell\\Desktop\\StellarDat\\South 7 ...</td>\n",
       "      <td>South 7 - 7-8-20 #1.TRM</td>\n",
       "      <td>South 7</td>\n",
       "      <td>2020-07-08</td>\n",
       "      <td>1</td>\n",
       "      <td></td>\n",
       "    </tr>\n",
       "    <tr>\n",
       "      <th>0</th>\n",
       "      <td>0.001</td>\n",
       "      <td>0.001</td>\n",
       "      <td>0.001</td>\n",
       "      <td>14.5110</td>\n",
       "      <td>37.024</td>\n",
       "      <td>27.5150</td>\n",
       "      <td>67.515</td>\n",
       "      <td>69.958</td>\n",
       "      <td>69.425</td>\n",
       "      <td>67.164</td>\n",
       "      <td>...</td>\n",
       "      <td>62.012</td>\n",
       "      <td>62.107</td>\n",
       "      <td>62.216</td>\n",
       "      <td>62.324</td>\n",
       "      <td>File: Users\\stell\\Desktop\\StellarDat\\North 6 ...</td>\n",
       "      <td>North 6 (Ground) - 7-9-20 #1.TRM</td>\n",
       "      <td>North 6</td>\n",
       "      <td>2020-07-09</td>\n",
       "      <td>1</td>\n",
       "      <td>Ground</td>\n",
       "    </tr>\n",
       "    <tr>\n",
       "      <th>0</th>\n",
       "      <td>0.001</td>\n",
       "      <td>0.001</td>\n",
       "      <td>0.001</td>\n",
       "      <td>-40.4680</td>\n",
       "      <td>-160.080</td>\n",
       "      <td>-67.7330</td>\n",
       "      <td>60.219</td>\n",
       "      <td>62.969</td>\n",
       "      <td>62.520</td>\n",
       "      <td>60.343</td>\n",
       "      <td>...</td>\n",
       "      <td>55.748</td>\n",
       "      <td>55.787</td>\n",
       "      <td>55.854</td>\n",
       "      <td>55.982</td>\n",
       "      <td>File: Users\\stell\\Desktop\\StellarDat\\South 8 ...</td>\n",
       "      <td>South 8 - 7-8-20 #3.TRM</td>\n",
       "      <td>South 8</td>\n",
       "      <td>2020-07-08</td>\n",
       "      <td>3</td>\n",
       "      <td></td>\n",
       "    </tr>\n",
       "    <tr>\n",
       "      <th>0</th>\n",
       "      <td>0.001</td>\n",
       "      <td>0.001</td>\n",
       "      <td>0.001</td>\n",
       "      <td>-6.3474</td>\n",
       "      <td>-29.575</td>\n",
       "      <td>-0.4154</td>\n",
       "      <td>51.103</td>\n",
       "      <td>53.461</td>\n",
       "      <td>52.857</td>\n",
       "      <td>50.724</td>\n",
       "      <td>...</td>\n",
       "      <td>43.783</td>\n",
       "      <td>43.885</td>\n",
       "      <td>44.003</td>\n",
       "      <td>44.161</td>\n",
       "      <td>File: Users\\stell\\Desktop\\StellarDat\\South 10...</td>\n",
       "      <td>South 10 - 7-8-20 #2.TRM</td>\n",
       "      <td>South 10</td>\n",
       "      <td>2020-07-08</td>\n",
       "      <td>2</td>\n",
       "      <td></td>\n",
       "    </tr>\n",
       "    <tr>\n",
       "      <th>...</th>\n",
       "      <td>...</td>\n",
       "      <td>...</td>\n",
       "      <td>...</td>\n",
       "      <td>...</td>\n",
       "      <td>...</td>\n",
       "      <td>...</td>\n",
       "      <td>...</td>\n",
       "      <td>...</td>\n",
       "      <td>...</td>\n",
       "      <td>...</td>\n",
       "      <td>...</td>\n",
       "      <td>...</td>\n",
       "      <td>...</td>\n",
       "      <td>...</td>\n",
       "      <td>...</td>\n",
       "      <td>...</td>\n",
       "      <td>...</td>\n",
       "      <td>...</td>\n",
       "      <td>...</td>\n",
       "      <td>...</td>\n",
       "      <td>...</td>\n",
       "    </tr>\n",
       "    <tr>\n",
       "      <th>0</th>\n",
       "      <td>0.001</td>\n",
       "      <td>0.001</td>\n",
       "      <td>0.001</td>\n",
       "      <td>-26.7280</td>\n",
       "      <td>-106.410</td>\n",
       "      <td>-45.0300</td>\n",
       "      <td>41.211</td>\n",
       "      <td>43.281</td>\n",
       "      <td>42.695</td>\n",
       "      <td>40.538</td>\n",
       "      <td>...</td>\n",
       "      <td>38.527</td>\n",
       "      <td>38.621</td>\n",
       "      <td>38.691</td>\n",
       "      <td>38.775</td>\n",
       "      <td>File: Users\\stell\\Desktop\\StellarDat\\North 14...</td>\n",
       "      <td>North 14 - 7-9-20 #2.TRM</td>\n",
       "      <td>North 14</td>\n",
       "      <td>2020-07-09</td>\n",
       "      <td>2</td>\n",
       "      <td></td>\n",
       "    </tr>\n",
       "    <tr>\n",
       "      <th>0</th>\n",
       "      <td>0.001</td>\n",
       "      <td>0.001</td>\n",
       "      <td>0.001</td>\n",
       "      <td>90.0710</td>\n",
       "      <td>394.670</td>\n",
       "      <td>298.8800</td>\n",
       "      <td>59.011</td>\n",
       "      <td>60.231</td>\n",
       "      <td>59.735</td>\n",
       "      <td>58.255</td>\n",
       "      <td>...</td>\n",
       "      <td>53.956</td>\n",
       "      <td>54.096</td>\n",
       "      <td>54.194</td>\n",
       "      <td>54.259</td>\n",
       "      <td>File: Users\\stell\\Desktop\\StellarDat\\South 15...</td>\n",
       "      <td>South 15 (Ground) - 7-8-20 #2.TRM</td>\n",
       "      <td>South 15</td>\n",
       "      <td>2020-07-08</td>\n",
       "      <td>2</td>\n",
       "      <td>Ground</td>\n",
       "    </tr>\n",
       "    <tr>\n",
       "      <th>0</th>\n",
       "      <td>0.001</td>\n",
       "      <td>0.001</td>\n",
       "      <td>0.001</td>\n",
       "      <td>23.4400</td>\n",
       "      <td>98.442</td>\n",
       "      <td>93.5010</td>\n",
       "      <td>69.543</td>\n",
       "      <td>71.842</td>\n",
       "      <td>71.347</td>\n",
       "      <td>69.429</td>\n",
       "      <td>...</td>\n",
       "      <td>66.330</td>\n",
       "      <td>66.404</td>\n",
       "      <td>66.516</td>\n",
       "      <td>66.550</td>\n",
       "      <td>File: Users\\stell\\Desktop\\StellarDat\\Raw - Ha...</td>\n",
       "      <td>Hampton West 2 (Ground)- 6-15-20 #2.TRM</td>\n",
       "      <td>Hampton West 2</td>\n",
       "      <td>2020-06-15</td>\n",
       "      <td>2</td>\n",
       "      <td>Ground</td>\n",
       "    </tr>\n",
       "    <tr>\n",
       "      <th>0</th>\n",
       "      <td>0.001</td>\n",
       "      <td>0.001</td>\n",
       "      <td>0.001</td>\n",
       "      <td>90.0710</td>\n",
       "      <td>391.930</td>\n",
       "      <td>295.6000</td>\n",
       "      <td>62.392</td>\n",
       "      <td>63.609</td>\n",
       "      <td>63.036</td>\n",
       "      <td>61.592</td>\n",
       "      <td>...</td>\n",
       "      <td>56.965</td>\n",
       "      <td>57.171</td>\n",
       "      <td>57.359</td>\n",
       "      <td>57.487</td>\n",
       "      <td>File: Users\\stell\\Desktop\\StellarDat\\South 15...</td>\n",
       "      <td>South 15 - 7-8-20 #3.TRM</td>\n",
       "      <td>South 15</td>\n",
       "      <td>2020-07-08</td>\n",
       "      <td>3</td>\n",
       "      <td></td>\n",
       "    </tr>\n",
       "    <tr>\n",
       "      <th>0</th>\n",
       "      <td>0.001</td>\n",
       "      <td>0.001</td>\n",
       "      <td>0.001</td>\n",
       "      <td>-181.1000</td>\n",
       "      <td>-604.520</td>\n",
       "      <td>-201.5800</td>\n",
       "      <td>58.535</td>\n",
       "      <td>61.597</td>\n",
       "      <td>61.206</td>\n",
       "      <td>58.863</td>\n",
       "      <td>...</td>\n",
       "      <td>51.617</td>\n",
       "      <td>51.618</td>\n",
       "      <td>51.683</td>\n",
       "      <td>51.852</td>\n",
       "      <td>File: Users\\stell\\Desktop\\StellarDat\\Hampton ...</td>\n",
       "      <td>Hampton West 2 - 7-9-20 #3.TRM</td>\n",
       "      <td>Hampton West 2</td>\n",
       "      <td>2020-07-09</td>\n",
       "      <td>3</td>\n",
       "      <td></td>\n",
       "    </tr>\n",
       "  </tbody>\n",
       "</table>\n",
       "<p>176 rows × 516 columns</p>\n",
       "</div>"
      ],
      "text/plain": [
       "0   862.13  863.88  865.63    867.38   869.13    870.88  872.63  874.38  \\\n",
       "0    0.001   0.001   0.001    5.0793   23.314   44.6630  63.727  66.158   \n",
       "0    0.001   0.001   0.001  -27.7720 -110.080  -43.0240  50.165  52.641   \n",
       "0    0.001   0.001   0.001   14.5110   37.024   27.5150  67.515  69.958   \n",
       "0    0.001   0.001   0.001  -40.4680 -160.080  -67.7330  60.219  62.969   \n",
       "0    0.001   0.001   0.001   -6.3474  -29.575   -0.4154  51.103  53.461   \n",
       "..     ...     ...     ...       ...      ...       ...     ...     ...   \n",
       "0    0.001   0.001   0.001  -26.7280 -106.410  -45.0300  41.211  43.281   \n",
       "0    0.001   0.001   0.001   90.0710  394.670  298.8800  59.011  60.231   \n",
       "0    0.001   0.001   0.001   23.4400   98.442   93.5010  69.543  71.842   \n",
       "0    0.001   0.001   0.001   90.0710  391.930  295.6000  62.392  63.609   \n",
       "0    0.001   0.001   0.001 -181.1000 -604.520 -201.5800  58.535  61.597   \n",
       "\n",
       "0   876.13  877.88  ...  1747.63  1749.38  1751.13  1752.88  \\\n",
       "0   65.590  63.127  ...   60.219   60.265   60.294   60.350   \n",
       "0   52.146  50.020  ...   42.926   42.985   43.094   43.248   \n",
       "0   69.425  67.164  ...   62.012   62.107   62.216   62.324   \n",
       "0   62.520  60.343  ...   55.748   55.787   55.854   55.982   \n",
       "0   52.857  50.724  ...   43.783   43.885   44.003   44.161   \n",
       "..     ...     ...  ...      ...      ...      ...      ...   \n",
       "0   42.695  40.538  ...   38.527   38.621   38.691   38.775   \n",
       "0   59.735  58.255  ...   53.956   54.096   54.194   54.259   \n",
       "0   71.347  69.429  ...   66.330   66.404   66.516   66.550   \n",
       "0   63.036  61.592  ...   56.965   57.171   57.359   57.487   \n",
       "0   61.206  58.863  ...   51.617   51.618   51.683   51.852   \n",
       "\n",
       "0                                          extra_info  \\\n",
       "0    File: Users\\stell\\Desktop\\StellarDat\\North 11...   \n",
       "0    File: Users\\stell\\Desktop\\StellarDat\\South 7 ...   \n",
       "0    File: Users\\stell\\Desktop\\StellarDat\\North 6 ...   \n",
       "0    File: Users\\stell\\Desktop\\StellarDat\\South 8 ...   \n",
       "0    File: Users\\stell\\Desktop\\StellarDat\\South 10...   \n",
       "..                                                ...   \n",
       "0    File: Users\\stell\\Desktop\\StellarDat\\North 14...   \n",
       "0    File: Users\\stell\\Desktop\\StellarDat\\South 15...   \n",
       "0    File: Users\\stell\\Desktop\\StellarDat\\Raw - Ha...   \n",
       "0    File: Users\\stell\\Desktop\\StellarDat\\South 15...   \n",
       "0    File: Users\\stell\\Desktop\\StellarDat\\Hampton ...   \n",
       "\n",
       "0                                  filename     sample_name  sample_date  \\\n",
       "0                  North 11 - 7-9-20 #3.TRM        North 11   2020-07-09   \n",
       "0                   South 7 - 7-8-20 #1.TRM         South 7   2020-07-08   \n",
       "0          North 6 (Ground) - 7-9-20 #1.TRM         North 6   2020-07-09   \n",
       "0                   South 8 - 7-8-20 #3.TRM         South 8   2020-07-08   \n",
       "0                  South 10 - 7-8-20 #2.TRM        South 10   2020-07-08   \n",
       "..                                      ...             ...          ...   \n",
       "0                  North 14 - 7-9-20 #2.TRM        North 14   2020-07-09   \n",
       "0         South 15 (Ground) - 7-8-20 #2.TRM        South 15   2020-07-08   \n",
       "0   Hampton West 2 (Ground)- 6-15-20 #2.TRM  Hampton West 2   2020-06-15   \n",
       "0                  South 15 - 7-8-20 #3.TRM        South 15   2020-07-08   \n",
       "0            Hampton West 2 - 7-9-20 #3.TRM  Hampton West 2   2020-07-09   \n",
       "\n",
       "0   run_number  process_method  \n",
       "0            3                  \n",
       "0            1                  \n",
       "0            1          Ground  \n",
       "0            3                  \n",
       "0            2                  \n",
       "..         ...             ...  \n",
       "0            2                  \n",
       "0            2          Ground  \n",
       "0            2          Ground  \n",
       "0            3                  \n",
       "0            3                  \n",
       "\n",
       "[176 rows x 516 columns]"
      ]
     },
     "execution_count": 34,
     "metadata": {},
     "output_type": "execute_result"
    }
   ],
   "source": [
    "df_trms"
   ]
  },
  {
   "cell_type": "markdown",
   "metadata": {},
   "source": [
    "# check for null values"
   ]
  },
  {
   "cell_type": "code",
   "execution_count": 35,
   "metadata": {},
   "outputs": [
    {
     "data": {
      "text/html": [
       "<div>\n",
       "<style scoped>\n",
       "    .dataframe tbody tr th:only-of-type {\n",
       "        vertical-align: middle;\n",
       "    }\n",
       "\n",
       "    .dataframe tbody tr th {\n",
       "        vertical-align: top;\n",
       "    }\n",
       "\n",
       "    .dataframe thead th {\n",
       "        text-align: right;\n",
       "    }\n",
       "</style>\n",
       "<table border=\"1\" class=\"dataframe\">\n",
       "  <thead>\n",
       "    <tr style=\"text-align: right;\">\n",
       "      <th></th>\n",
       "      <th>862.13</th>\n",
       "      <th>863.88</th>\n",
       "      <th>865.63</th>\n",
       "      <th>867.38</th>\n",
       "      <th>869.13</th>\n",
       "      <th>870.88</th>\n",
       "      <th>872.63</th>\n",
       "      <th>874.38</th>\n",
       "      <th>876.13</th>\n",
       "      <th>877.88</th>\n",
       "      <th>...</th>\n",
       "      <th>1747.63</th>\n",
       "      <th>1749.38</th>\n",
       "      <th>1751.13</th>\n",
       "      <th>1752.88</th>\n",
       "      <th>extra_info</th>\n",
       "      <th>filename</th>\n",
       "      <th>sample_name</th>\n",
       "      <th>sample_date</th>\n",
       "      <th>run_number</th>\n",
       "      <th>process_method</th>\n",
       "    </tr>\n",
       "  </thead>\n",
       "  <tbody>\n",
       "    <tr>\n",
       "      <th>0</th>\n",
       "      <td>NaN</td>\n",
       "      <td>NaN</td>\n",
       "      <td>NaN</td>\n",
       "      <td>NaN</td>\n",
       "      <td>NaN</td>\n",
       "      <td>NaN</td>\n",
       "      <td>NaN</td>\n",
       "      <td>NaN</td>\n",
       "      <td>NaN</td>\n",
       "      <td>NaN</td>\n",
       "      <td>...</td>\n",
       "      <td>NaN</td>\n",
       "      <td>NaN</td>\n",
       "      <td>NaN</td>\n",
       "      <td>NaN</td>\n",
       "      <td>NaN</td>\n",
       "      <td>NaN</td>\n",
       "      <td>NaN</td>\n",
       "      <td>NaT</td>\n",
       "      <td>NaN</td>\n",
       "      <td>NaN</td>\n",
       "    </tr>\n",
       "    <tr>\n",
       "      <th>0</th>\n",
       "      <td>NaN</td>\n",
       "      <td>NaN</td>\n",
       "      <td>NaN</td>\n",
       "      <td>NaN</td>\n",
       "      <td>NaN</td>\n",
       "      <td>NaN</td>\n",
       "      <td>NaN</td>\n",
       "      <td>NaN</td>\n",
       "      <td>NaN</td>\n",
       "      <td>NaN</td>\n",
       "      <td>...</td>\n",
       "      <td>NaN</td>\n",
       "      <td>NaN</td>\n",
       "      <td>NaN</td>\n",
       "      <td>NaN</td>\n",
       "      <td>NaN</td>\n",
       "      <td>NaN</td>\n",
       "      <td>NaN</td>\n",
       "      <td>NaT</td>\n",
       "      <td>NaN</td>\n",
       "      <td>NaN</td>\n",
       "    </tr>\n",
       "    <tr>\n",
       "      <th>0</th>\n",
       "      <td>NaN</td>\n",
       "      <td>NaN</td>\n",
       "      <td>NaN</td>\n",
       "      <td>NaN</td>\n",
       "      <td>NaN</td>\n",
       "      <td>NaN</td>\n",
       "      <td>NaN</td>\n",
       "      <td>NaN</td>\n",
       "      <td>NaN</td>\n",
       "      <td>NaN</td>\n",
       "      <td>...</td>\n",
       "      <td>NaN</td>\n",
       "      <td>NaN</td>\n",
       "      <td>NaN</td>\n",
       "      <td>NaN</td>\n",
       "      <td>NaN</td>\n",
       "      <td>NaN</td>\n",
       "      <td>NaN</td>\n",
       "      <td>NaT</td>\n",
       "      <td>NaN</td>\n",
       "      <td>NaN</td>\n",
       "    </tr>\n",
       "    <tr>\n",
       "      <th>0</th>\n",
       "      <td>NaN</td>\n",
       "      <td>NaN</td>\n",
       "      <td>NaN</td>\n",
       "      <td>NaN</td>\n",
       "      <td>NaN</td>\n",
       "      <td>NaN</td>\n",
       "      <td>NaN</td>\n",
       "      <td>NaN</td>\n",
       "      <td>NaN</td>\n",
       "      <td>NaN</td>\n",
       "      <td>...</td>\n",
       "      <td>NaN</td>\n",
       "      <td>NaN</td>\n",
       "      <td>NaN</td>\n",
       "      <td>NaN</td>\n",
       "      <td>NaN</td>\n",
       "      <td>NaN</td>\n",
       "      <td>NaN</td>\n",
       "      <td>NaT</td>\n",
       "      <td>NaN</td>\n",
       "      <td>NaN</td>\n",
       "    </tr>\n",
       "    <tr>\n",
       "      <th>0</th>\n",
       "      <td>NaN</td>\n",
       "      <td>NaN</td>\n",
       "      <td>NaN</td>\n",
       "      <td>NaN</td>\n",
       "      <td>NaN</td>\n",
       "      <td>NaN</td>\n",
       "      <td>NaN</td>\n",
       "      <td>NaN</td>\n",
       "      <td>NaN</td>\n",
       "      <td>NaN</td>\n",
       "      <td>...</td>\n",
       "      <td>NaN</td>\n",
       "      <td>NaN</td>\n",
       "      <td>NaN</td>\n",
       "      <td>NaN</td>\n",
       "      <td>NaN</td>\n",
       "      <td>NaN</td>\n",
       "      <td>NaN</td>\n",
       "      <td>NaT</td>\n",
       "      <td>NaN</td>\n",
       "      <td>NaN</td>\n",
       "    </tr>\n",
       "    <tr>\n",
       "      <th>...</th>\n",
       "      <td>...</td>\n",
       "      <td>...</td>\n",
       "      <td>...</td>\n",
       "      <td>...</td>\n",
       "      <td>...</td>\n",
       "      <td>...</td>\n",
       "      <td>...</td>\n",
       "      <td>...</td>\n",
       "      <td>...</td>\n",
       "      <td>...</td>\n",
       "      <td>...</td>\n",
       "      <td>...</td>\n",
       "      <td>...</td>\n",
       "      <td>...</td>\n",
       "      <td>...</td>\n",
       "      <td>...</td>\n",
       "      <td>...</td>\n",
       "      <td>...</td>\n",
       "      <td>...</td>\n",
       "      <td>...</td>\n",
       "      <td>...</td>\n",
       "    </tr>\n",
       "    <tr>\n",
       "      <th>0</th>\n",
       "      <td>NaN</td>\n",
       "      <td>NaN</td>\n",
       "      <td>NaN</td>\n",
       "      <td>NaN</td>\n",
       "      <td>NaN</td>\n",
       "      <td>NaN</td>\n",
       "      <td>NaN</td>\n",
       "      <td>NaN</td>\n",
       "      <td>NaN</td>\n",
       "      <td>NaN</td>\n",
       "      <td>...</td>\n",
       "      <td>NaN</td>\n",
       "      <td>NaN</td>\n",
       "      <td>NaN</td>\n",
       "      <td>NaN</td>\n",
       "      <td>NaN</td>\n",
       "      <td>NaN</td>\n",
       "      <td>NaN</td>\n",
       "      <td>NaT</td>\n",
       "      <td>NaN</td>\n",
       "      <td>NaN</td>\n",
       "    </tr>\n",
       "    <tr>\n",
       "      <th>0</th>\n",
       "      <td>NaN</td>\n",
       "      <td>NaN</td>\n",
       "      <td>NaN</td>\n",
       "      <td>NaN</td>\n",
       "      <td>NaN</td>\n",
       "      <td>NaN</td>\n",
       "      <td>NaN</td>\n",
       "      <td>NaN</td>\n",
       "      <td>NaN</td>\n",
       "      <td>NaN</td>\n",
       "      <td>...</td>\n",
       "      <td>NaN</td>\n",
       "      <td>NaN</td>\n",
       "      <td>NaN</td>\n",
       "      <td>NaN</td>\n",
       "      <td>NaN</td>\n",
       "      <td>NaN</td>\n",
       "      <td>NaN</td>\n",
       "      <td>NaT</td>\n",
       "      <td>NaN</td>\n",
       "      <td>NaN</td>\n",
       "    </tr>\n",
       "    <tr>\n",
       "      <th>0</th>\n",
       "      <td>NaN</td>\n",
       "      <td>NaN</td>\n",
       "      <td>NaN</td>\n",
       "      <td>NaN</td>\n",
       "      <td>NaN</td>\n",
       "      <td>NaN</td>\n",
       "      <td>NaN</td>\n",
       "      <td>NaN</td>\n",
       "      <td>NaN</td>\n",
       "      <td>NaN</td>\n",
       "      <td>...</td>\n",
       "      <td>NaN</td>\n",
       "      <td>NaN</td>\n",
       "      <td>NaN</td>\n",
       "      <td>NaN</td>\n",
       "      <td>NaN</td>\n",
       "      <td>NaN</td>\n",
       "      <td>NaN</td>\n",
       "      <td>NaT</td>\n",
       "      <td>NaN</td>\n",
       "      <td>NaN</td>\n",
       "    </tr>\n",
       "    <tr>\n",
       "      <th>0</th>\n",
       "      <td>NaN</td>\n",
       "      <td>NaN</td>\n",
       "      <td>NaN</td>\n",
       "      <td>NaN</td>\n",
       "      <td>NaN</td>\n",
       "      <td>NaN</td>\n",
       "      <td>NaN</td>\n",
       "      <td>NaN</td>\n",
       "      <td>NaN</td>\n",
       "      <td>NaN</td>\n",
       "      <td>...</td>\n",
       "      <td>NaN</td>\n",
       "      <td>NaN</td>\n",
       "      <td>NaN</td>\n",
       "      <td>NaN</td>\n",
       "      <td>NaN</td>\n",
       "      <td>NaN</td>\n",
       "      <td>NaN</td>\n",
       "      <td>NaT</td>\n",
       "      <td>NaN</td>\n",
       "      <td>NaN</td>\n",
       "    </tr>\n",
       "    <tr>\n",
       "      <th>0</th>\n",
       "      <td>NaN</td>\n",
       "      <td>NaN</td>\n",
       "      <td>NaN</td>\n",
       "      <td>NaN</td>\n",
       "      <td>NaN</td>\n",
       "      <td>NaN</td>\n",
       "      <td>NaN</td>\n",
       "      <td>NaN</td>\n",
       "      <td>NaN</td>\n",
       "      <td>NaN</td>\n",
       "      <td>...</td>\n",
       "      <td>NaN</td>\n",
       "      <td>NaN</td>\n",
       "      <td>NaN</td>\n",
       "      <td>NaN</td>\n",
       "      <td>NaN</td>\n",
       "      <td>NaN</td>\n",
       "      <td>NaN</td>\n",
       "      <td>NaT</td>\n",
       "      <td>NaN</td>\n",
       "      <td>NaN</td>\n",
       "    </tr>\n",
       "  </tbody>\n",
       "</table>\n",
       "<p>176 rows × 516 columns</p>\n",
       "</div>"
      ],
      "text/plain": [
       "0   862.13  863.88  865.63  867.38  869.13  870.88  872.63  874.38  876.13  \\\n",
       "0      NaN     NaN     NaN     NaN     NaN     NaN     NaN     NaN     NaN   \n",
       "0      NaN     NaN     NaN     NaN     NaN     NaN     NaN     NaN     NaN   \n",
       "0      NaN     NaN     NaN     NaN     NaN     NaN     NaN     NaN     NaN   \n",
       "0      NaN     NaN     NaN     NaN     NaN     NaN     NaN     NaN     NaN   \n",
       "0      NaN     NaN     NaN     NaN     NaN     NaN     NaN     NaN     NaN   \n",
       "..     ...     ...     ...     ...     ...     ...     ...     ...     ...   \n",
       "0      NaN     NaN     NaN     NaN     NaN     NaN     NaN     NaN     NaN   \n",
       "0      NaN     NaN     NaN     NaN     NaN     NaN     NaN     NaN     NaN   \n",
       "0      NaN     NaN     NaN     NaN     NaN     NaN     NaN     NaN     NaN   \n",
       "0      NaN     NaN     NaN     NaN     NaN     NaN     NaN     NaN     NaN   \n",
       "0      NaN     NaN     NaN     NaN     NaN     NaN     NaN     NaN     NaN   \n",
       "\n",
       "0   877.88  ...  1747.63  1749.38  1751.13  1752.88  extra_info  filename  \\\n",
       "0      NaN  ...      NaN      NaN      NaN      NaN         NaN       NaN   \n",
       "0      NaN  ...      NaN      NaN      NaN      NaN         NaN       NaN   \n",
       "0      NaN  ...      NaN      NaN      NaN      NaN         NaN       NaN   \n",
       "0      NaN  ...      NaN      NaN      NaN      NaN         NaN       NaN   \n",
       "0      NaN  ...      NaN      NaN      NaN      NaN         NaN       NaN   \n",
       "..     ...  ...      ...      ...      ...      ...         ...       ...   \n",
       "0      NaN  ...      NaN      NaN      NaN      NaN         NaN       NaN   \n",
       "0      NaN  ...      NaN      NaN      NaN      NaN         NaN       NaN   \n",
       "0      NaN  ...      NaN      NaN      NaN      NaN         NaN       NaN   \n",
       "0      NaN  ...      NaN      NaN      NaN      NaN         NaN       NaN   \n",
       "0      NaN  ...      NaN      NaN      NaN      NaN         NaN       NaN   \n",
       "\n",
       "0   sample_name  sample_date  run_number  process_method  \n",
       "0           NaN          NaT         NaN             NaN  \n",
       "0           NaN          NaT         NaN             NaN  \n",
       "0           NaN          NaT         NaN             NaN  \n",
       "0           NaN          NaT         NaN             NaN  \n",
       "0           NaN          NaT         NaN             NaN  \n",
       "..          ...          ...         ...             ...  \n",
       "0           NaN          NaT         NaN             NaN  \n",
       "0           NaN          NaT         NaN             NaN  \n",
       "0           NaN          NaT         NaN             NaN  \n",
       "0           NaN          NaT         NaN             NaN  \n",
       "0           NaN          NaT         NaN             NaN  \n",
       "\n",
       "[176 rows x 516 columns]"
      ]
     },
     "execution_count": 35,
     "metadata": {},
     "output_type": "execute_result"
    }
   ],
   "source": [
    "df_trms[df_trms.isnull()]"
   ]
  },
  {
   "cell_type": "code",
   "execution_count": null,
   "metadata": {},
   "outputs": [],
   "source": []
  }
 ],
 "metadata": {
  "kernelspec": {
   "display_name": ".spectroscopy",
   "language": "python",
   "name": ".spectroscopy"
  },
  "language_info": {
   "codemirror_mode": {
    "name": "ipython",
    "version": 3
   },
   "file_extension": ".py",
   "mimetype": "text/x-python",
   "name": "python",
   "nbconvert_exporter": "python",
   "pygments_lexer": "ipython3",
   "version": "3.7.3"
  }
 },
 "nbformat": 4,
 "nbformat_minor": 4
}
